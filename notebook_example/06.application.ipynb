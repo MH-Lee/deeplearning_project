{
 "cells": [
  {
   "cell_type": "code",
   "execution_count": 67,
   "metadata": {},
   "outputs": [],
   "source": [
    "import os\n",
    "import sys\n",
    "import json\n",
    "import matplotlib.pyplot as plt\n",
    "import numpy as np\n",
    "import pandas as pd\n",
    "import tensorflow as tf\n",
    "import tensorflow_addons as tfa\n",
    "sys.path.append(os.pardir)\n",
    "from gensim.models.doc2vec import Doc2Vec, TaggedDocument\n",
    "from gensim.models.word2vec import Word2Vec\n",
    "from models.word_embedding import get_embedding_matrix\n",
    "import pandas as pd"
   ]
  },
  {
   "cell_type": "code",
   "execution_count": 2,
   "metadata": {},
   "outputs": [],
   "source": [
    "w2v_model_name = '../model_save/embedding_model/Word2vec1.model'\n",
    "word_vectorizer = Word2Vec.load(w2v_model_name)\n",
    "\n",
    "pre_trained_name = '../model_save/embedding_model/trained_word2vec1.model'\n",
    "pre_trained_w2v = Word2Vec.load(pre_trained_name)"
   ]
  },
  {
   "cell_type": "code",
   "execution_count": 3,
   "metadata": {},
   "outputs": [],
   "source": [
    "DATA_IN_PATH = '../assets/data/npy_data/2020-05-31/'\n",
    "LABEL_IN_PATH = '../assets/label_data/'\n",
    "\n",
    "DATA_CONFIGS = 'data_configs.json'\n",
    "# Train label save file name\n",
    "TRAIN_INPUT_DATA = 'train_input.npy'\n",
    "LABEL_DATA = 'label.json'\n",
    "LABEL_DATA_SMALL = 'label_small.json'\n",
    "TEST_DATA = './application_data/professor.npy'"
   ]
  },
  {
   "cell_type": "code",
   "execution_count": 4,
   "metadata": {},
   "outputs": [
    {
     "name": "stdout",
     "output_type": "stream",
     "text": [
      "vocab_size :  30079\n"
     ]
    }
   ],
   "source": [
    "train_X = np.load(open(DATA_IN_PATH + TRAIN_INPUT_DATA, 'rb'))\n",
    "data_configs = json.load(open(DATA_IN_PATH + DATA_CONFIGS, 'r'))\n",
    "label_data = json.load(open(LABEL_IN_PATH + LABEL_DATA, 'r'))\n",
    "small_label_data = json.load(open(LABEL_IN_PATH + LABEL_DATA_SMALL, 'r'))\n",
    "vocab_size = data_configs['vocab_size'] + 1\n",
    "print(\"vocab_size : \", vocab_size)\n",
    "word_index = data_configs['vocab']"
   ]
  },
  {
   "cell_type": "code",
   "execution_count": 5,
   "metadata": {},
   "outputs": [],
   "source": [
    "cnn_kargs = {'vocab_size': vocab_size,\n",
    "             'embedding_size': 300, \n",
    "             'num_filters': 128, \n",
    "             'dropout_rate': 0.5, \n",
    "             'hidden_dimension': 500, \n",
    "             'train_mode': 'non_static', \n",
    "             'output_dimension': 43, \n",
    "             'trainable':True,\n",
    "             'optimizer':'adam',\n",
    "             'model_name': 'cnn_non_static_adam_w2v'}"
   ]
  },
  {
   "cell_type": "code",
   "execution_count": 6,
   "metadata": {},
   "outputs": [],
   "source": [
    "rnn_kargs = {'vocab_size': vocab_size,\n",
    "             'embedding_size': 300, \n",
    "             'dropout_rate': 0.5, \n",
    "             'lstm_dimension': 128, \n",
    "             'dense_dimension': 64, \n",
    "             'train_mode': 'pt', \n",
    "             'output_dimension': 43, \n",
    "             'optimizer':'radam',\n",
    "             'model_name': 'lstm_pt_radam_pt_w2v'}"
   ]
  },
  {
   "cell_type": "code",
   "execution_count": 7,
   "metadata": {},
   "outputs": [],
   "source": [
    "from models.model_evaluation import model_build, return_two_calss_acc"
   ]
  },
  {
   "cell_type": "code",
   "execution_count": 8,
   "metadata": {},
   "outputs": [
    {
     "name": "stdout",
     "output_type": "stream",
     "text": [
      "word index size :  30079\n",
      "27423 2655\n",
      "cnn\n",
      "big_class\n",
      "Model: \"cnn_non_static_adam_w2v\"\n",
      "_________________________________________________________________\n",
      "Layer (type)                 Output Shape              Param #   \n",
      "=================================================================\n",
      "embedding (Embedding)        multiple                  9023700   \n",
      "_________________________________________________________________\n",
      "conv1d (Conv1D)              multiple                  115328    \n",
      "_________________________________________________________________\n",
      "conv1d_1 (Conv1D)            multiple                  153728    \n",
      "_________________________________________________________________\n",
      "conv1d_2 (Conv1D)            multiple                  192128    \n",
      "_________________________________________________________________\n",
      "global_max_pooling1d (Global multiple                  0         \n",
      "_________________________________________________________________\n",
      "dropout (Dropout)            multiple                  0         \n",
      "_________________________________________________________________\n",
      "dense (Dense)                multiple                  192500    \n",
      "_________________________________________________________________\n",
      "dense_1 (Dense)              multiple                  21543     \n",
      "=================================================================\n",
      "Total params: 9,698,927\n",
      "Trainable params: 9,698,927\n",
      "Non-trainable params: 0\n",
      "_________________________________________________________________\n",
      "None\n",
      "../model_save/cnn_model/cnn_non_static_adam_w2v\\weights.h5\n"
     ]
    }
   ],
   "source": [
    "cnn_model = model_build(train_X, word_index, word_vectorizer, **cnn_kargs)"
   ]
  },
  {
   "cell_type": "code",
   "execution_count": 69,
   "metadata": {},
   "outputs": [],
   "source": [
    "professor_df = pd.read_excel('./application_data/application_benchmark.xlsx')"
   ]
  },
  {
   "cell_type": "code",
   "execution_count": 68,
   "metadata": {},
   "outputs": [],
   "source": [
    "evaluation_data = np.load(open(TEST_DATA, 'rb'))\n",
    "pred = cnn_model.predict(evaluation_data)"
   ]
  },
  {
   "cell_type": "code",
   "execution_count": 70,
   "metadata": {},
   "outputs": [],
   "source": [
    "label_df = pd.DataFrame(np.argsort(-pred, axis=1)[:,:2], columns=['pred1', 'pred2'])\n",
    "app_data = pd.concat([professor_df, label_df], axis=1)\n",
    "app_data['pred2'] = app_data.pred2.apply(str).map(label_data)\n",
    "app_data['pred1'] = app_data.pred1.apply(str).map(label_data)\n",
    "app_data = app_data[['뉴스제목', 'pred1', 'pred2']]"
   ]
  },
  {
   "cell_type": "markdown",
   "metadata": {},
   "source": [
    "### rnn model"
   ]
  },
  {
   "cell_type": "code",
   "execution_count": 71,
   "metadata": {},
   "outputs": [
    {
     "name": "stdout",
     "output_type": "stream",
     "text": [
      "word index size :  30079\n",
      "27423 2655\n",
      "rnn\n",
      "big_class\n",
      "Model: \"lstm_pt_radam_pt_w2v\"\n",
      "_________________________________________________________________\n",
      "Layer (type)                 Output Shape              Param #   \n",
      "=================================================================\n",
      "embedding_2 (Embedding)      multiple                  9023700   \n",
      "_________________________________________________________________\n",
      "bidirectional_2 (Bidirection multiple                  439296    \n",
      "_________________________________________________________________\n",
      "bidirectional_3 (Bidirection multiple                  394240    \n",
      "_________________________________________________________________\n",
      "dropout_2 (Dropout)          multiple                  0         \n",
      "_________________________________________________________________\n",
      "dense_4 (Dense)              multiple                  16448     \n",
      "_________________________________________________________________\n",
      "dense_5 (Dense)              multiple                  2795      \n",
      "=================================================================\n",
      "Total params: 9,876,479\n",
      "Trainable params: 9,876,479\n",
      "Non-trainable params: 0\n",
      "_________________________________________________________________\n",
      "None\n",
      "../model_save/rnn_model/lstm_pt_radam_pt_w2v\\weights.h5\n"
     ]
    }
   ],
   "source": [
    "rnn_model = model_build(train_X, word_index, word_vectorizer, **rnn_kargs)"
   ]
  },
  {
   "cell_type": "code",
   "execution_count": 72,
   "metadata": {},
   "outputs": [],
   "source": [
    "professor_df = pd.read_excel('./application_data/application_benchmark.xlsx')"
   ]
  },
  {
   "cell_type": "code",
   "execution_count": 73,
   "metadata": {},
   "outputs": [],
   "source": [
    "evaluation_data = np.load(open(TEST_DATA, 'rb'))\n",
    "pred = rnn_model.predict(evaluation_data)"
   ]
  },
  {
   "cell_type": "code",
   "execution_count": 74,
   "metadata": {},
   "outputs": [],
   "source": [
    "label_df = pd.DataFrame(np.argsort(-pred, axis=1)[:,:2], columns=['pred1', 'pred2'])\n",
    "app_data = pd.concat([professor_df, label_df], axis=1)\n",
    "app_data['pred2'] = app_data.pred2.apply(str).map(label_data)\n",
    "app_data['pred1'] = app_data.pred1.apply(str).map(label_data)\n",
    "app_data = app_data[['뉴스제목', 'pred1', 'pred2']]"
   ]
  },
  {
   "cell_type": "code",
   "execution_count": 75,
   "metadata": {},
   "outputs": [
    {
     "data": {
      "text/html": [
       "<div>\n",
       "<style scoped>\n",
       "    .dataframe tbody tr th:only-of-type {\n",
       "        vertical-align: middle;\n",
       "    }\n",
       "\n",
       "    .dataframe tbody tr th {\n",
       "        vertical-align: top;\n",
       "    }\n",
       "\n",
       "    .dataframe thead th {\n",
       "        text-align: right;\n",
       "    }\n",
       "</style>\n",
       "<table border=\"1\" class=\"dataframe\">\n",
       "  <thead>\n",
       "    <tr style=\"text-align: right;\">\n",
       "      <th></th>\n",
       "      <th>뉴스제목</th>\n",
       "      <th>pred1</th>\n",
       "      <th>pred2</th>\n",
       "    </tr>\n",
       "  </thead>\n",
       "  <tbody>\n",
       "    <tr>\n",
       "      <th>0</th>\n",
       "      <td>인하대 정보통신공학과 박인규 교수 연구팀 “미래동작 예측 인공지능기술개발 나서”</td>\n",
       "      <td>스마트미디어기기</td>\n",
       "      <td>로봇</td>\n",
       "    </tr>\n",
       "    <tr>\n",
       "      <th>1</th>\n",
       "      <td>세종대  교수 창업기업 자기센서 기술 세계 최초 개발</td>\n",
       "      <td>임베디드SW</td>\n",
       "      <td>스마트팩토리</td>\n",
       "    </tr>\n",
       "    <tr>\n",
       "      <th>2</th>\n",
       "      <td>UNIST 이상영-곽상규 교수팀  유기 골격 구조체 기반 고체 이온전도체 개발</td>\n",
       "      <td>스마트팩토리</td>\n",
       "      <td>정밀기계</td>\n",
       "    </tr>\n",
       "    <tr>\n",
       "      <th>3</th>\n",
       "      <td>한양대 장재영 교수  고분자로 만든 고성능 열전소재 개발</td>\n",
       "      <td>스마트팩토리</td>\n",
       "      <td>3D프린팅</td>\n",
       "    </tr>\n",
       "    <tr>\n",
       "      <th>4</th>\n",
       "      <td>울산과학기술원 박혜성-김건태-곽상규 교수팀   안정성 끝판왕  이종구조 수전해 촉매 개발</td>\n",
       "      <td>LED/광</td>\n",
       "      <td>디스플레이</td>\n",
       "    </tr>\n",
       "    <tr>\n",
       "      <th>...</th>\n",
       "      <td>...</td>\n",
       "      <td>...</td>\n",
       "      <td>...</td>\n",
       "    </tr>\n",
       "    <tr>\n",
       "      <th>728</th>\n",
       "      <td>전남대 윤경철 교수팀  안구건조 막는 콘택트렌즈 개발 나서</td>\n",
       "      <td>스마트시티</td>\n",
       "      <td>안전</td>\n",
       "    </tr>\n",
       "    <tr>\n",
       "      <th>729</th>\n",
       "      <td>우석대 양갑식 교수팀  인진쑥 이용  통풍 치료법  세계 첫 개발</td>\n",
       "      <td>반도체</td>\n",
       "      <td>바이오/헬스케어</td>\n",
       "    </tr>\n",
       "    <tr>\n",
       "      <th>730</th>\n",
       "      <td>화순전남대병원 민정준 교수 김동연 박사 연구팀 ‘악성 흑색종’ 탐지 초고감도 PET...</td>\n",
       "      <td>바이오/헬스케어</td>\n",
       "      <td>세라믹소재</td>\n",
       "    </tr>\n",
       "    <tr>\n",
       "      <th>731</th>\n",
       "      <td>이세중 대구한의대 교수팀  병원균 감염질환 제어 나노약물 전달시스템 개발</td>\n",
       "      <td>바이오/헬스케어</td>\n",
       "      <td>안전</td>\n",
       "    </tr>\n",
       "    <tr>\n",
       "      <th>732</th>\n",
       "      <td>화순전남대병원 민정준 교수팀  악성 흑색종 조기 진단 센서 개발</td>\n",
       "      <td>반도체</td>\n",
       "      <td>스마트미디어기기</td>\n",
       "    </tr>\n",
       "  </tbody>\n",
       "</table>\n",
       "<p>733 rows × 3 columns</p>\n",
       "</div>"
      ],
      "text/plain": [
       "                                                  뉴스제목     pred1     pred2\n",
       "0         인하대 정보통신공학과 박인규 교수 연구팀 “미래동작 예측 인공지능기술개발 나서”  스마트미디어기기        로봇\n",
       "1                        세종대  교수 창업기업 자기센서 기술 세계 최초 개발    임베디드SW    스마트팩토리\n",
       "2          UNIST 이상영-곽상규 교수팀  유기 골격 구조체 기반 고체 이온전도체 개발    스마트팩토리      정밀기계\n",
       "3                      한양대 장재영 교수  고분자로 만든 고성능 열전소재 개발    스마트팩토리     3D프린팅\n",
       "4    울산과학기술원 박혜성-김건태-곽상규 교수팀   안정성 끝판왕  이종구조 수전해 촉매 개발     LED/광     디스플레이\n",
       "..                                                 ...       ...       ...\n",
       "728                   전남대 윤경철 교수팀  안구건조 막는 콘택트렌즈 개발 나서     스마트시티        안전\n",
       "729               우석대 양갑식 교수팀  인진쑥 이용  통풍 치료법  세계 첫 개발       반도체  바이오/헬스케어\n",
       "730  화순전남대병원 민정준 교수 김동연 박사 연구팀 ‘악성 흑색종’ 탐지 초고감도 PET...  바이오/헬스케어     세라믹소재\n",
       "731           이세중 대구한의대 교수팀  병원균 감염질환 제어 나노약물 전달시스템 개발  바이오/헬스케어        안전\n",
       "732                화순전남대병원 민정준 교수팀  악성 흑색종 조기 진단 센서 개발       반도체  스마트미디어기기\n",
       "\n",
       "[733 rows x 3 columns]"
      ]
     },
     "execution_count": 75,
     "metadata": {},
     "output_type": "execute_result"
    }
   ],
   "source": [
    "app_data"
   ]
  }
 ],
 "metadata": {
  "kernelspec": {
   "display_name": "deeplearning",
   "language": "python",
   "name": "deeplearning-gpu"
  },
  "language_info": {
   "codemirror_mode": {
    "name": "ipython",
    "version": 3
   },
   "file_extension": ".py",
   "mimetype": "text/x-python",
   "name": "python",
   "nbconvert_exporter": "python",
   "pygments_lexer": "ipython3",
   "version": "3.7.7"
  }
 },
 "nbformat": 4,
 "nbformat_minor": 4
}
