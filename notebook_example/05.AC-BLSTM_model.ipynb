{
 "cells": [
  {
   "cell_type": "markdown",
   "metadata": {
    "colab_type": "text",
    "id": "8LcNDQTAqU4F"
   },
   "source": [
    "## 01. package load"
   ]
  },
  {
   "cell_type": "code",
   "execution_count": 1,
   "metadata": {
    "colab": {},
    "colab_type": "code",
    "id": "oSyGasPNqU4H"
   },
   "outputs": [],
   "source": [
    "import os\n",
    "import sys\n",
    "import json\n",
    "import matplotlib.pyplot as plt\n",
    "import numpy as np\n",
    "import tensorflow as tf\n",
    "import tensorflow_addons as tfa\n",
    "from gensim.models.doc2vec import Doc2Vec, TaggedDocument\n",
    "from gensim.models.word2vec import Word2Vec\n",
    "sys.path.append(os.pardir)\n",
    "from models.ac_blstm_kr import ACBLSTMClassifier\n",
    "from models.word_embedding import get_embedding_matrix"
   ]
  },
  {
   "cell_type": "markdown",
   "metadata": {
    "colab_type": "text",
    "id": "w7eUcv3-qU4M"
   },
   "source": [
    "### local gpu setting"
   ]
  },
  {
   "cell_type": "code",
   "execution_count": 2,
   "metadata": {
    "colab": {},
    "colab_type": "code",
    "id": "YgMQ_EYDqU4N"
   },
   "outputs": [],
   "source": [
    "gpus = tf.config.experimental.list_physical_devices('GPU')\n",
    "if gpus:\n",
    "    try:\n",
    "        tf.config.experimental.set_memory_growth(gpus[0], True)\n",
    "    except RuntimeError as e:\n",
    "        print(e)"
   ]
  },
  {
   "cell_type": "markdown",
   "metadata": {
    "colab_type": "text",
    "id": "EnZ3cGvJqU4Q"
   },
   "source": [
    "### Assing data path"
   ]
  },
  {
   "cell_type": "code",
   "execution_count": 3,
   "metadata": {
    "colab": {},
    "colab_type": "code",
    "id": "6zOlbIRpqU4R"
   },
   "outputs": [],
   "source": [
    "DATA_IN_PATH = '../assets/data/npy_data/2020-05-31/'\n",
    "# Data save label\n",
    "TRAIN_INPUT_DATA = 'train_input.npy'\n",
    "TEST_INPUT_DATA = 'test_input.npy'\n",
    "DATA_CONFIGS = 'data_configs.json'\n",
    "SEQ_CONFIGS = 'seq_configs_bt.json'\n",
    "\n",
    "# Train label save file name\n",
    "TRAIN_LABEL_DATA = 'train_label.npy'\n",
    "TRAIN_LABEL_SMALL = 'train_label_small.npy'\n",
    "TEST_LABEL_DATA = 'test_label.npy'\n",
    "TEST_LABEL_DATA_SMALL = 'test_label_small.npy'"
   ]
  },
  {
   "cell_type": "markdown",
   "metadata": {
    "colab_type": "text",
    "id": "TnVTYxiJqU4V"
   },
   "source": [
    "### set cnn parameter"
   ]
  },
  {
   "cell_type": "markdown",
   "metadata": {
    "colab_type": "text",
    "id": "yFfTnd5kqU4V"
   },
   "source": [
    "## AC-LSTM train module parameter\n",
    "\n",
    "+ parameter and default value\n",
    "\n",
    "    embedding_matrix=None (word2vec or doc2vec weight matrix)  \n",
    "    vocab_size=None  (train vocab size)  \n",
    "    pre_trained_mode=None ('d2v', 'w2v', 'pt_w2v')  \n",
    "    num_filters=128  \n",
    "    lstm_dimension=256  \n",
    "    hidden_dimension=128  \n",
    "    dropout_rate=0.5  \n",
    "    batch_size = 64  \n",
    "    num_epochs = 1000  \n",
    "    valid_split = 0.2  \n",
    "    optimizer = 'adam'  ('adam' or 'radam')  \n",
    "    train_mode='rand ' ('rand', 'pt') \n",
    "    \n",
    "    \n",
    "+ pt_w2v is pre-trained word2vec which is trained korean wikipedia doctumentation(document size : 420000) \n",
    "+ embedding_matrix and pre_trained_mode cannot assign when train_mode is 'rand'\n",
    "+ embedding_matrix and pre_trained_mode can assign when train_mode is 'pt'"
   ]
  },
  {
   "cell_type": "code",
   "execution_count": 4,
   "metadata": {
    "colab": {},
    "colab_type": "code",
    "id": "AA-xb5JdqU4W"
   },
   "outputs": [],
   "source": [
    "from notebook_example.test_package.ac_blstm_train import ACBLSTMTrain"
   ]
  },
  {
   "cell_type": "markdown",
   "metadata": {
    "colab_type": "text",
    "id": "PUF5HCZCqU4a"
   },
   "source": [
    "## 02. Load  Data and make embedding matrix"
   ]
  },
  {
   "cell_type": "markdown",
   "metadata": {
    "colab_type": "text",
    "id": "FSJ5c_a4qU4a"
   },
   "source": [
    "+ Load embedding data"
   ]
  },
  {
   "cell_type": "code",
   "execution_count": 5,
   "metadata": {
    "colab": {
     "base_uri": "https://localhost:8080/",
     "height": 72
    },
    "colab_type": "code",
    "executionInfo": {
     "elapsed": 18910,
     "status": "ok",
     "timestamp": 1591919678871,
     "user": {
      "displayName": "이명훈",
      "photoUrl": "",
      "userId": "07271482681718000858"
     },
     "user_tz": -540
    },
    "id": "p90Qkgo6qU4b",
    "outputId": "43695259-90d7-43b3-b049-505f1c9d828e"
   },
   "outputs": [],
   "source": [
    "w2v_model_name = '../model_save/embedding_model/Word2vec1.model'\n",
    "word_vectorizer = Word2Vec.load(w2v_model_name)\n",
    "\n",
    "pre_trained_name = '../model_save/embedding_model/trained_word2vec1.model'\n",
    "pre_trained_w2v = Word2Vec.load(pre_trained_name)"
   ]
  },
  {
   "cell_type": "markdown",
   "metadata": {
    "colab_type": "text",
    "id": "yzfxZ8OuqU4e"
   },
   "source": [
    "+ Load data"
   ]
  },
  {
   "cell_type": "code",
   "execution_count": 6,
   "metadata": {
    "colab": {
     "base_uri": "https://localhost:8080/",
     "height": 34
    },
    "colab_type": "code",
    "executionInfo": {
     "elapsed": 24215,
     "status": "ok",
     "timestamp": 1591919687728,
     "user": {
      "displayName": "이명훈",
      "photoUrl": "",
      "userId": "07271482681718000858"
     },
     "user_tz": -540
    },
    "id": "RoxdRgH-qU4e",
    "outputId": "793b347f-5270-436b-86ce-0c5a3b6ce52d"
   },
   "outputs": [
    {
     "name": "stdout",
     "output_type": "stream",
     "text": [
      "vocab_size :  30079\n"
     ]
    }
   ],
   "source": [
    "train_X = np.load(open(DATA_IN_PATH + TRAIN_INPUT_DATA, 'rb'))\n",
    "train_Y = np.load(open(DATA_IN_PATH + TRAIN_LABEL_DATA, 'rb'))\n",
    "test_X = np.load(open(DATA_IN_PATH + TEST_INPUT_DATA, 'rb'))\n",
    "test_Y = np.load(open(DATA_IN_PATH + TEST_LABEL_DATA, 'rb'))\n",
    "train_YS = tf.one_hot(train_Y, 43)\n",
    "test_YS = tf.one_hot(test_Y, 43)\n",
    "data_configs = json.load(open(DATA_IN_PATH + DATA_CONFIGS, 'r'))\n",
    "vocab_size = data_configs['vocab_size'] + 1\n",
    "print(\"vocab_size : \", vocab_size)\n",
    "word_index = data_configs['vocab']"
   ]
  },
  {
   "cell_type": "markdown",
   "metadata": {
    "colab_type": "text",
    "id": "V3ZWVE-eqU4j"
   },
   "source": [
    "##  03. AC-BLSTM randomly weight initialized"
   ]
  },
  {
   "cell_type": "markdown",
   "metadata": {
    "colab_type": "text",
    "id": "UAbOYLAtqU4k"
   },
   "source": [
    "## optimizer adam"
   ]
  },
  {
   "cell_type": "code",
   "execution_count": 7,
   "metadata": {
    "colab": {
     "base_uri": "https://localhost:8080/",
     "height": 87
    },
    "colab_type": "code",
    "executionInfo": {
     "elapsed": 751,
     "status": "ok",
     "timestamp": 1591919688501,
     "user": {
      "displayName": "이명훈",
      "photoUrl": "",
      "userId": "07271482681718000858"
     },
     "user_tz": -540
    },
    "id": "0lSBkaVaqU4k",
    "outputId": "2d86e8cf-00a3-4f43-b06f-0d1eb1aabbb5",
    "scrolled": true
   },
   "outputs": [
    {
     "name": "stdout",
     "output_type": "stream",
     "text": [
      "big_class\n",
      "output_dim :  43\n",
      "./model_save/acblstm_model/\n",
      "train_mode : rand, optimizer : adam, pre-trained_mode : None, model_name : AC-BLSTM_rand_adam\n"
     ]
    }
   ],
   "source": [
    "acblstm_train_rand = ACBLSTMTrain(vocab_size=vocab_size)"
   ]
  },
  {
   "cell_type": "code",
   "execution_count": 8,
   "metadata": {
    "colab": {
     "base_uri": "https://localhost:8080/",
     "height": 1000
    },
    "colab_type": "code",
    "executionInfo": {
     "elapsed": 195723,
     "status": "ok",
     "timestamp": 1591919883480,
     "user": {
      "displayName": "이명훈",
      "photoUrl": "",
      "userId": "07271482681718000858"
     },
     "user_tz": -540
    },
    "id": "CEbhmtVNqU4n",
    "outputId": "5dbe78d9-ef51-4ead-cc7e-219097ea5ae1",
    "scrolled": true
   },
   "outputs": [
    {
     "name": "stdout",
     "output_type": "stream",
     "text": [
      "{'vocab_size': 30079, 'embedding_size': 300, 'num_filters': 128, 'dropout_rate': 0.5, 'lstm_dimension': 256, 'hidden_dimension': 128, 'train_mode': 'rand', 'output_dimension': 43, 'model_name': 'AC-BLSTM_rand_adam'}\n",
      "./model_save/acblstm_model/AC-BLSTM_rand_adam -- Folder already exists \n",
      "\n",
      "callback set\n",
      "Epoch 1/1000\n",
      "135/135 [==============================] - ETA: 0s - loss: 2.3166 - accuracy: 0.3825 - f1_score: 0.2913\n",
      "Epoch 00001: val_accuracy improved from -inf to 0.70714, saving model to ./model_save/acblstm_model/AC-BLSTM_rand_adam/weights.h5\n",
      "135/135 [==============================] - 14s 102ms/step - loss: 2.3166 - accuracy: 0.3825 - f1_score: 0.2913 - val_loss: 1.0936 - val_accuracy: 0.7071 - val_f1_score: 0.5825\n",
      "Epoch 2/1000\n",
      "135/135 [==============================] - ETA: 0s - loss: 0.5846 - accuracy: 0.8354 - f1_score: 0.7668\n",
      "Epoch 00002: val_accuracy improved from 0.70714 to 0.79240, saving model to ./model_save/acblstm_model/AC-BLSTM_rand_adam/weights.h5\n",
      "135/135 [==============================] - 12s 89ms/step - loss: 0.5846 - accuracy: 0.8354 - f1_score: 0.7668 - val_loss: 0.7927 - val_accuracy: 0.7924 - val_f1_score: 0.7346\n",
      "Epoch 3/1000\n",
      "135/135 [==============================] - ETA: 0s - loss: 0.1583 - accuracy: 0.9539 - f1_score: 0.9420\n",
      "Epoch 00003: val_accuracy did not improve from 0.79240\n",
      "135/135 [==============================] - 12s 86ms/step - loss: 0.1583 - accuracy: 0.9539 - f1_score: 0.9420 - val_loss: 0.9424 - val_accuracy: 0.7859 - val_f1_score: 0.7426\n",
      "Epoch 4/1000\n",
      "135/135 [==============================] - ETA: 0s - loss: 0.0861 - accuracy: 0.9774 - f1_score: 0.9736\n",
      "Epoch 00004: val_accuracy improved from 0.79240 to 0.79564, saving model to ./model_save/acblstm_model/AC-BLSTM_rand_adam/weights.h5\n",
      "135/135 [==============================] - 12s 89ms/step - loss: 0.0861 - accuracy: 0.9774 - f1_score: 0.9736 - val_loss: 0.9888 - val_accuracy: 0.7956 - val_f1_score: 0.7470\n",
      "Epoch 5/1000\n",
      "135/135 [==============================] - ETA: 0s - loss: 0.0572 - accuracy: 0.9860 - f1_score: 0.9828\n",
      "Epoch 00005: val_accuracy improved from 0.79564 to 0.79981, saving model to ./model_save/acblstm_model/AC-BLSTM_rand_adam/weights.h5\n",
      "135/135 [==============================] - 12s 89ms/step - loss: 0.0572 - accuracy: 0.9860 - f1_score: 0.9828 - val_loss: 1.0333 - val_accuracy: 0.7998 - val_f1_score: 0.7642\n",
      "Epoch 6/1000\n",
      "135/135 [==============================] - ETA: 0s - loss: 0.0354 - accuracy: 0.9904 - f1_score: 0.9880\n",
      "Epoch 00006: val_accuracy improved from 0.79981 to 0.80028, saving model to ./model_save/acblstm_model/AC-BLSTM_rand_adam/weights.h5\n",
      "135/135 [==============================] - 12s 89ms/step - loss: 0.0354 - accuracy: 0.9904 - f1_score: 0.9880 - val_loss: 1.0561 - val_accuracy: 0.8003 - val_f1_score: 0.7550\n",
      "Epoch 7/1000\n",
      "135/135 [==============================] - ETA: 0s - loss: 0.0344 - accuracy: 0.9906 - f1_score: 0.9901\n",
      "Epoch 00007: val_accuracy did not improve from 0.80028\n",
      "135/135 [==============================] - 12s 86ms/step - loss: 0.0344 - accuracy: 0.9906 - f1_score: 0.9901 - val_loss: 1.1865 - val_accuracy: 0.7817 - val_f1_score: 0.7317\n",
      "Epoch 8/1000\n",
      "135/135 [==============================] - ETA: 0s - loss: 0.0310 - accuracy: 0.9915 - f1_score: 0.9912\n",
      "Epoch 00008: val_accuracy did not improve from 0.80028\n",
      "135/135 [==============================] - 12s 86ms/step - loss: 0.0310 - accuracy: 0.9915 - f1_score: 0.9912 - val_loss: 1.1323 - val_accuracy: 0.7892 - val_f1_score: 0.7409\n",
      "Epoch 9/1000\n",
      "135/135 [==============================] - ETA: 0s - loss: 0.0351 - accuracy: 0.9911 - f1_score: 0.9896\n",
      "Epoch 00009: val_accuracy did not improve from 0.80028\n",
      "135/135 [==============================] - 12s 86ms/step - loss: 0.0351 - accuracy: 0.9911 - f1_score: 0.9896 - val_loss: 1.1919 - val_accuracy: 0.7929 - val_f1_score: 0.7504\n",
      "Epoch 10/1000\n",
      "135/135 [==============================] - ETA: 0s - loss: 0.0601 - accuracy: 0.9820 - f1_score: 0.9765\n",
      "Epoch 00010: val_accuracy did not improve from 0.80028\n",
      "135/135 [==============================] - 12s 86ms/step - loss: 0.0601 - accuracy: 0.9820 - f1_score: 0.9765 - val_loss: 1.3202 - val_accuracy: 0.7711 - val_f1_score: 0.7225\n",
      "Epoch 11/1000\n",
      "135/135 [==============================] - ETA: 0s - loss: 0.0797 - accuracy: 0.9762 - f1_score: 0.9721\n",
      "Epoch 00011: val_accuracy did not improve from 0.80028\n",
      "135/135 [==============================] - 12s 87ms/step - loss: 0.0797 - accuracy: 0.9762 - f1_score: 0.9721 - val_loss: 1.1000 - val_accuracy: 0.7785 - val_f1_score: 0.7304\n",
      "Epoch 12/1000\n",
      "135/135 [==============================] - ETA: 0s - loss: 0.0565 - accuracy: 0.9826 - f1_score: 0.9792\n",
      "Epoch 00012: val_accuracy improved from 0.80028 to 0.81001, saving model to ./model_save/acblstm_model/AC-BLSTM_rand_adam/weights.h5\n",
      "135/135 [==============================] - 13s 93ms/step - loss: 0.0565 - accuracy: 0.9826 - f1_score: 0.9792 - val_loss: 1.1265 - val_accuracy: 0.8100 - val_f1_score: 0.7783\n",
      "Epoch 13/1000\n",
      "135/135 [==============================] - ETA: 0s - loss: 0.0292 - accuracy: 0.9934 - f1_score: 0.9931\n",
      "Epoch 00013: val_accuracy did not improve from 0.81001\n",
      "135/135 [==============================] - 12s 87ms/step - loss: 0.0292 - accuracy: 0.9934 - f1_score: 0.9931 - val_loss: 1.0851 - val_accuracy: 0.8058 - val_f1_score: 0.7716\n",
      "Epoch 14/1000\n",
      "135/135 [==============================] - ETA: 0s - loss: 0.0161 - accuracy: 0.9961 - f1_score: 0.9952\n",
      "Epoch 00014: val_accuracy improved from 0.81001 to 0.81047, saving model to ./model_save/acblstm_model/AC-BLSTM_rand_adam/weights.h5\n",
      "135/135 [==============================] - 13s 93ms/step - loss: 0.0161 - accuracy: 0.9961 - f1_score: 0.9952 - val_loss: 1.1639 - val_accuracy: 0.8105 - val_f1_score: 0.7706\n",
      "Epoch 15/1000\n",
      "135/135 [==============================] - ETA: 0s - loss: 0.0079 - accuracy: 0.9981 - f1_score: 0.9979\n",
      "Epoch 00015: val_accuracy improved from 0.81047 to 0.81789, saving model to ./model_save/acblstm_model/AC-BLSTM_rand_adam/weights.h5\n",
      "135/135 [==============================] - 13s 95ms/step - loss: 0.0079 - accuracy: 0.9981 - f1_score: 0.9979 - val_loss: 1.1429 - val_accuracy: 0.8179 - val_f1_score: 0.7767\n",
      "Epoch 16/1000\n",
      "135/135 [==============================] - ETA: 0s - loss: 0.0081 - accuracy: 0.9988 - f1_score: 0.9989- ETA: 0s - loss: 0.0085 - accuracy: 0.9988 - f1_score\n",
      "Epoch 00016: val_accuracy improved from 0.81789 to 0.82113, saving model to ./model_save/acblstm_model/AC-BLSTM_rand_adam/weights.h5\n",
      "135/135 [==============================] - 13s 94ms/step - loss: 0.0081 - accuracy: 0.9988 - f1_score: 0.9989 - val_loss: 1.1417 - val_accuracy: 0.8211 - val_f1_score: 0.7899\n",
      "Epoch 17/1000\n",
      "135/135 [==============================] - ETA: 0s - loss: 0.0055 - accuracy: 0.9987 - f1_score: 0.9984\n",
      "Epoch 00017: val_accuracy improved from 0.82113 to 0.82298, saving model to ./model_save/acblstm_model/AC-BLSTM_rand_adam/weights.h5\n",
      "135/135 [==============================] - 13s 93ms/step - loss: 0.0055 - accuracy: 0.9987 - f1_score: 0.9984 - val_loss: 1.1256 - val_accuracy: 0.8230 - val_f1_score: 0.7875\n",
      "Epoch 18/1000\n",
      "135/135 [==============================] - ETA: 0s - loss: 0.0023 - accuracy: 0.9993 - f1_score: 0.9992\n",
      "Epoch 00018: val_accuracy did not improve from 0.82298\n",
      "135/135 [==============================] - 12s 89ms/step - loss: 0.0023 - accuracy: 0.9993 - f1_score: 0.9992 - val_loss: 1.1674 - val_accuracy: 0.8202 - val_f1_score: 0.7887\n",
      "Epoch 19/1000\n",
      "135/135 [==============================] - ETA: 0s - loss: 0.0055 - accuracy: 0.9987 - f1_score: 0.9984\n",
      "Epoch 00019: val_accuracy did not improve from 0.82298\n",
      "135/135 [==============================] - 12s 88ms/step - loss: 0.0055 - accuracy: 0.9987 - f1_score: 0.9984 - val_loss: 1.1901 - val_accuracy: 0.8230 - val_f1_score: 0.7811\n",
      "Epoch 20/1000\n",
      "135/135 [==============================] - ETA: 0s - loss: 0.0035 - accuracy: 0.9991 - f1_score: 0.9990\n",
      "Epoch 00020: val_accuracy did not improve from 0.82298\n",
      "135/135 [==============================] - 12s 89ms/step - loss: 0.0035 - accuracy: 0.9991 - f1_score: 0.9990 - val_loss: 1.2425 - val_accuracy: 0.8225 - val_f1_score: 0.7882\n",
      "Epoch 21/1000\n"
     ]
    },
    {
     "name": "stdout",
     "output_type": "stream",
     "text": [
      "135/135 [==============================] - ETA: 0s - loss: 0.0020 - accuracy: 0.9995 - f1_score: 0.9996    - ETA:\n",
      "Epoch 00021: val_accuracy did not improve from 0.82298\n",
      "135/135 [==============================] - 12s 90ms/step - loss: 0.0020 - accuracy: 0.9995 - f1_score: 0.9996 - val_loss: 1.2647 - val_accuracy: 0.8211 - val_f1_score: 0.7845\n",
      "Epoch 22/1000\n",
      "135/135 [==============================] - ETA: 0s - loss: 0.0590 - accuracy: 0.9827 - f1_score: 0.9797\n",
      "Epoch 00022: val_accuracy did not improve from 0.82298\n",
      "135/135 [==============================] - 12s 92ms/step - loss: 0.0590 - accuracy: 0.9827 - f1_score: 0.9797 - val_loss: 1.2917 - val_accuracy: 0.7711 - val_f1_score: 0.7312\n",
      "Epoch 23/1000\n",
      "135/135 [==============================] - ETA: 0s - loss: 0.1188 - accuracy: 0.9664 - f1_score: 0.9597\n",
      "Epoch 00023: val_accuracy did not improve from 0.82298\n",
      "135/135 [==============================] - 12s 90ms/step - loss: 0.1188 - accuracy: 0.9664 - f1_score: 0.9597 - val_loss: 1.1783 - val_accuracy: 0.7878 - val_f1_score: 0.7373\n",
      "Epoch 24/1000\n",
      "135/135 [==============================] - ETA: 0s - loss: 0.0543 - accuracy: 0.9846 - f1_score: 0.9814\n",
      "Epoch 00024: val_accuracy did not improve from 0.82298\n",
      "135/135 [==============================] - 12s 91ms/step - loss: 0.0543 - accuracy: 0.9846 - f1_score: 0.9814 - val_loss: 1.1731 - val_accuracy: 0.7989 - val_f1_score: 0.7709\n",
      "Epoch 25/1000\n",
      "135/135 [==============================] - ETA: 0s - loss: 0.0185 - accuracy: 0.9951 - f1_score: 0.9942\n",
      "Epoch 00025: val_accuracy did not improve from 0.82298\n",
      "135/135 [==============================] - 12s 89ms/step - loss: 0.0185 - accuracy: 0.9951 - f1_score: 0.9942 - val_loss: 1.1330 - val_accuracy: 0.8193 - val_f1_score: 0.7790\n",
      "Epoch 26/1000\n",
      "135/135 [==============================] - ETA: 0s - loss: 0.0094 - accuracy: 0.9979 - f1_score: 0.9982\n",
      "Epoch 00026: val_accuracy improved from 0.82298 to 0.82345, saving model to ./model_save/acblstm_model/AC-BLSTM_rand_adam/weights.h5\n",
      "135/135 [==============================] - 12s 92ms/step - loss: 0.0094 - accuracy: 0.9979 - f1_score: 0.9982 - val_loss: 1.1854 - val_accuracy: 0.8234 - val_f1_score: 0.7874\n",
      "Epoch 27/1000\n",
      "135/135 [==============================] - ETA: 0s - loss: 0.0077 - accuracy: 0.9983 - f1_score: 0.9979\n",
      "Epoch 00027: val_accuracy improved from 0.82345 to 0.82854, saving model to ./model_save/acblstm_model/AC-BLSTM_rand_adam/weights.h5\n",
      "135/135 [==============================] - 12s 92ms/step - loss: 0.0077 - accuracy: 0.9983 - f1_score: 0.9979 - val_loss: 1.1824 - val_accuracy: 0.8285 - val_f1_score: 0.7963\n",
      "Epoch 28/1000\n",
      "135/135 [==============================] - ETA: 0s - loss: 0.0113 - accuracy: 0.9969 - f1_score: 0.9963\n",
      "Epoch 00028: val_accuracy did not improve from 0.82854\n",
      "135/135 [==============================] - 12s 89ms/step - loss: 0.0113 - accuracy: 0.9969 - f1_score: 0.9963 - val_loss: 1.2437 - val_accuracy: 0.8211 - val_f1_score: 0.7778\n",
      "Epoch 29/1000\n",
      "135/135 [==============================] - ETA: 0s - loss: 0.0048 - accuracy: 0.9992 - f1_score: 0.9991- ETA: 2s - loss: 0.0028 - accurac\n",
      "Epoch 00029: val_accuracy did not improve from 0.82854\n",
      "135/135 [==============================] - 12s 90ms/step - loss: 0.0048 - accuracy: 0.9992 - f1_score: 0.9991 - val_loss: 1.3493 - val_accuracy: 0.8100 - val_f1_score: 0.7674\n",
      "Epoch 30/1000\n",
      "135/135 [==============================] - ETA: 0s - loss: 0.0084 - accuracy: 0.9973 - f1_score: 0.9972\n",
      "Epoch 00030: val_accuracy did not improve from 0.82854\n",
      "135/135 [==============================] - 12s 90ms/step - loss: 0.0084 - accuracy: 0.9973 - f1_score: 0.9972 - val_loss: 1.4258 - val_accuracy: 0.7984 - val_f1_score: 0.7595\n",
      "Epoch 31/1000\n",
      "135/135 [==============================] - ETA: 0s - loss: 0.0236 - accuracy: 0.9933 - f1_score: 0.9918\n",
      "Epoch 00031: val_accuracy did not improve from 0.82854\n",
      "135/135 [==============================] - 12s 89ms/step - loss: 0.0236 - accuracy: 0.9933 - f1_score: 0.9918 - val_loss: 1.4004 - val_accuracy: 0.7938 - val_f1_score: 0.7402\n",
      "Epoch 32/1000\n",
      "135/135 [==============================] - ETA: 0s - loss: 0.0320 - accuracy: 0.9915 - f1_score: 0.9886\n",
      "Epoch 00032: val_accuracy did not improve from 0.82854\n",
      "135/135 [==============================] - 12s 92ms/step - loss: 0.0320 - accuracy: 0.9915 - f1_score: 0.9886 - val_loss: 1.4420 - val_accuracy: 0.7845 - val_f1_score: 0.7323\n",
      "Epoch 33/1000\n",
      "135/135 [==============================] - ETA: 0s - loss: 0.0729 - accuracy: 0.9801 - f1_score: 0.9761\n",
      "Epoch 00033: val_accuracy did not improve from 0.82854\n",
      "135/135 [==============================] - 12s 90ms/step - loss: 0.0729 - accuracy: 0.9801 - f1_score: 0.9761 - val_loss: 1.3740 - val_accuracy: 0.7711 - val_f1_score: 0.7267\n",
      "Epoch 34/1000\n",
      "135/135 [==============================] - ETA: 0s - loss: 0.0440 - accuracy: 0.9861 - f1_score: 0.9824\n",
      "Epoch 00034: val_accuracy did not improve from 0.82854\n",
      "135/135 [==============================] - 12s 89ms/step - loss: 0.0440 - accuracy: 0.9861 - f1_score: 0.9824 - val_loss: 1.2437 - val_accuracy: 0.8095 - val_f1_score: 0.7701\n",
      "Epoch 35/1000\n",
      "135/135 [==============================] - ETA: 0s - loss: 0.0256 - accuracy: 0.9921 - f1_score: 0.9878\n",
      "Epoch 00035: val_accuracy did not improve from 0.82854\n",
      "135/135 [==============================] - 12s 89ms/step - loss: 0.0256 - accuracy: 0.9921 - f1_score: 0.9878 - val_loss: 1.3276 - val_accuracy: 0.7998 - val_f1_score: 0.7586\n",
      "Epoch 36/1000\n",
      "135/135 [==============================] - ETA: 0s - loss: 0.0053 - accuracy: 0.9983 - f1_score: 0.9975\n",
      "Epoch 00036: val_accuracy did not improve from 0.82854\n",
      "135/135 [==============================] - 12s 91ms/step - loss: 0.0053 - accuracy: 0.9983 - f1_score: 0.9975 - val_loss: 1.1974 - val_accuracy: 0.8207 - val_f1_score: 0.7802\n",
      "Epoch 37/1000\n",
      "135/135 [==============================] - ETA: 0s - loss: 0.0023 - accuracy: 0.9992 - f1_score: 0.9992\n",
      "Epoch 00037: val_accuracy did not improve from 0.82854\n",
      "135/135 [==============================] - 12s 88ms/step - loss: 0.0023 - accuracy: 0.9992 - f1_score: 0.9992 - val_loss: 1.1899 - val_accuracy: 0.8244 - val_f1_score: 0.7905\n"
     ]
    }
   ],
   "source": [
    "model, histroy = acblstm_train_rand.train(train_X, train_YS)"
   ]
  },
  {
   "cell_type": "code",
   "execution_count": 9,
   "metadata": {
    "colab": {
     "base_uri": "https://localhost:8080/",
     "height": 803
    },
    "colab_type": "code",
    "executionInfo": {
     "elapsed": 196830,
     "status": "ok",
     "timestamp": 1591919884594,
     "user": {
      "displayName": "이명훈",
      "photoUrl": "",
      "userId": "07271482681718000858"
     },
     "user_tz": -540
    },
    "id": "p0Yomo9qqU4q",
    "outputId": "68170678-a85b-4c63-e17b-102bd31a0b75"
   },
   "outputs": [
    {
     "data": {
      "image/png": "[encoded data removed]",
      "text/plain": [
       "<Figure size 432x288 with 1 Axes>"
      ]
     },
     "metadata": {
      "needs_background": "light"
     },
     "output_type": "display_data"
    },
    {
     "data": {
      "image/png": "[encoded data removed]",
      "text/plain": [
       "<Figure size 432x288 with 1 Axes>"
      ]
     },
     "metadata": {
      "needs_background": "light"
     },
     "output_type": "display_data"
    },
    {
     "data": {
      "image/png": "[encoded data removed]",
      "text/plain": [
       "<Figure size 432x288 with 1 Axes>"
      ]
     },
     "metadata": {
      "needs_background": "light"
     },
     "output_type": "display_data"
    }
   ],
   "source": [
    "acblstm_train_rand.train_plot(model, histroy)"
   ]
  },
  {
   "cell_type": "code",
   "execution_count": 10,
   "metadata": {
    "colab": {
     "base_uri": "https://localhost:8080/",
     "height": 34
    },
    "colab_type": "code",
    "executionInfo": {
     "elapsed": 198022,
     "status": "ok",
     "timestamp": 1591919885796,
     "user": {
      "displayName": "이명훈",
      "photoUrl": "",
      "userId": "07271482681718000858"
     },
     "user_tz": -540
    },
    "id": "9dyxOdgPqU4t",
    "outputId": "6f9b9be3-e16f-457c-b52d-58ad060cec0a",
    "scrolled": true
   },
   "outputs": [
    {
     "name": "stdout",
     "output_type": "stream",
     "text": [
      "145/145 [==============================] - 2s 11ms/step - loss: 1.0795 - accuracy: 0.8359 - f1_score: 0.8019\n"
     ]
    }
   ],
   "source": [
    "acblstm_train_rand.evaluation(model, test_X, test_YS)"
   ]
  },
  {
   "cell_type": "markdown",
   "metadata": {
    "colab_type": "text",
    "id": "GQ4ynDPoqU4x"
   },
   "source": [
    "## optimizer radam"
   ]
  },
  {
   "cell_type": "code",
   "execution_count": 11,
   "metadata": {
    "colab": {
     "base_uri": "https://localhost:8080/",
     "height": 87
    },
    "colab_type": "code",
    "executionInfo": {
     "elapsed": 795,
     "status": "ok",
     "timestamp": 1591919894014,
     "user": {
      "displayName": "이명훈",
      "photoUrl": "",
      "userId": "07271482681718000858"
     },
     "user_tz": -540
    },
    "id": "s8OauKzzqU4x",
    "outputId": "7cc8e0c4-02cb-4c46-b2f5-c62b6b07c9ab"
   },
   "outputs": [
    {
     "name": "stdout",
     "output_type": "stream",
     "text": [
      "big_class\n",
      "output_dim :  43\n",
      "./model_save/acblstm_model/\n",
      "train_mode : rand, optimizer : radam, pre-trained_mode : None, model_name : AC-BLSTM_rand_radam\n"
     ]
    }
   ],
   "source": [
    "acblstm_train_rand = ACBLSTMTrain(vocab_size=vocab_size, optimizer='radam', batch_size=32)"
   ]
  },
  {
   "cell_type": "code",
   "execution_count": 12,
   "metadata": {
    "colab": {
     "base_uri": "https://localhost:8080/",
     "height": 1000
    },
    "colab_type": "code",
    "executionInfo": {
     "elapsed": 355411,
     "status": "ok",
     "timestamp": 1591920249003,
     "user": {
      "displayName": "이명훈",
      "photoUrl": "",
      "userId": "07271482681718000858"
     },
     "user_tz": -540
    },
    "id": "kigd9ENDqU40",
    "outputId": "e941d2fe-48ca-4ea7-d232-a3f43efdb1b6",
    "scrolled": true
   },
   "outputs": [
    {
     "name": "stdout",
     "output_type": "stream",
     "text": [
      "{'vocab_size': 30079, 'embedding_size': 300, 'num_filters': 128, 'dropout_rate': 0.5, 'lstm_dimension': 256, 'hidden_dimension': 128, 'train_mode': 'rand', 'output_dimension': 43, 'model_name': 'AC-BLSTM_rand_radam'}\n",
      "./model_save/acblstm_model/AC-BLSTM_rand_radam -- Folder create complete \n",
      "\n",
      "callback set\n",
      "Epoch 1/1000\n",
      "270/270 [==============================] - ETA: 0s - loss: 3.2531 - accuracy: 0.1316 - f1_score: 0.0603\n",
      "Epoch 00001: val_accuracy improved from -inf to 0.32623, saving model to ./model_save/acblstm_model/AC-BLSTM_rand_radam/weights.h5\n",
      "270/270 [==============================] - 38s 140ms/step - loss: 3.2531 - accuracy: 0.1316 - f1_score: 0.0603 - val_loss: 2.4484 - val_accuracy: 0.3262 - val_f1_score: 0.1613\n",
      "Epoch 2/1000\n",
      "270/270 [==============================] - ETA: 0s - loss: 1.6686 - accuracy: 0.5375 - f1_score: 0.3871\n",
      "Epoch 00002: val_accuracy improved from 0.32623 to 0.66497, saving model to ./model_save/acblstm_model/AC-BLSTM_rand_radam/weights.h5\n",
      "270/270 [==============================] - 37s 138ms/step - loss: 1.6686 - accuracy: 0.5375 - f1_score: 0.3871 - val_loss: 1.3041 - val_accuracy: 0.6650 - val_f1_score: 0.5285\n",
      "Epoch 3/1000\n",
      "270/270 [==============================] - ETA: 0s - loss: 0.8301 - accuracy: 0.7646 - f1_score: 0.6759\n",
      "Epoch 00003: val_accuracy improved from 0.66497 to 0.71779, saving model to ./model_save/acblstm_model/AC-BLSTM_rand_radam/weights.h5\n",
      "270/270 [==============================] - 37s 137ms/step - loss: 0.8301 - accuracy: 0.7646 - f1_score: 0.6759 - val_loss: 1.0401 - val_accuracy: 0.7178 - val_f1_score: 0.6478\n",
      "Epoch 4/1000\n",
      "270/270 [==============================] - ETA: 0s - loss: 0.4489 - accuracy: 0.8642 - f1_score: 0.8220\n",
      "Epoch 00004: val_accuracy improved from 0.71779 to 0.73633, saving model to ./model_save/acblstm_model/AC-BLSTM_rand_radam/weights.h5\n",
      "270/270 [==============================] - 38s 139ms/step - loss: 0.4489 - accuracy: 0.8642 - f1_score: 0.8220 - val_loss: 1.0445 - val_accuracy: 0.7363 - val_f1_score: 0.6719\n",
      "Epoch 5/1000\n",
      "270/270 [==============================] - ETA: 0s - loss: 0.2871 - accuracy: 0.9141 - f1_score: 0.8932\n",
      "Epoch 00005: val_accuracy improved from 0.73633 to 0.74838, saving model to ./model_save/acblstm_model/AC-BLSTM_rand_radam/weights.h5\n",
      "270/270 [==============================] - 37s 138ms/step - loss: 0.2871 - accuracy: 0.9141 - f1_score: 0.8932 - val_loss: 1.0375 - val_accuracy: 0.7484 - val_f1_score: 0.6960\n",
      "Epoch 6/1000\n",
      "270/270 [==============================] - ETA: 0s - loss: 0.1834 - accuracy: 0.9430 - f1_score: 0.9277\n",
      "Epoch 00006: val_accuracy improved from 0.74838 to 0.75626, saving model to ./model_save/acblstm_model/AC-BLSTM_rand_radam/weights.h5\n",
      "270/270 [==============================] - 38s 139ms/step - loss: 0.1834 - accuracy: 0.9430 - f1_score: 0.9277 - val_loss: 1.1240 - val_accuracy: 0.7563 - val_f1_score: 0.7088\n",
      "Epoch 7/1000\n",
      "270/270 [==============================] - ETA: 0s - loss: 0.1500 - accuracy: 0.9544 - f1_score: 0.9439\n",
      "Epoch 00007: val_accuracy improved from 0.75626 to 0.77108, saving model to ./model_save/acblstm_model/AC-BLSTM_rand_radam/weights.h5\n",
      "270/270 [==============================] - 38s 141ms/step - loss: 0.1500 - accuracy: 0.9544 - f1_score: 0.9439 - val_loss: 1.0600 - val_accuracy: 0.7711 - val_f1_score: 0.7226\n",
      "Epoch 8/1000\n",
      "270/270 [==============================] - ETA: 0s - loss: 0.1206 - accuracy: 0.9616 - f1_score: 0.9553\n",
      "Epoch 00008: val_accuracy did not improve from 0.77108\n",
      "270/270 [==============================] - 37s 138ms/step - loss: 0.1206 - accuracy: 0.9616 - f1_score: 0.9553 - val_loss: 1.1318 - val_accuracy: 0.7586 - val_f1_score: 0.6981\n",
      "Epoch 9/1000\n",
      "270/270 [==============================] - ETA: 0s - loss: 0.1239 - accuracy: 0.9613 - f1_score: 0.9546\n",
      "Epoch 00009: val_accuracy did not improve from 0.77108\n",
      "270/270 [==============================] - 37s 135ms/step - loss: 0.1239 - accuracy: 0.9613 - f1_score: 0.9546 - val_loss: 1.2246 - val_accuracy: 0.7604 - val_f1_score: 0.7035\n",
      "Epoch 10/1000\n",
      "270/270 [==============================] - ETA: 0s - loss: 0.1116 - accuracy: 0.9655 - f1_score: 0.9585\n",
      "Epoch 00010: val_accuracy improved from 0.77108 to 0.77572, saving model to ./model_save/acblstm_model/AC-BLSTM_rand_radam/weights.h5\n",
      "270/270 [==============================] - 38s 140ms/step - loss: 0.1116 - accuracy: 0.9655 - f1_score: 0.9585 - val_loss: 1.1512 - val_accuracy: 0.7757 - val_f1_score: 0.7336\n",
      "Epoch 11/1000\n",
      "270/270 [==============================] - ETA: 0s - loss: 0.1021 - accuracy: 0.9714 - f1_score: 0.9669\n",
      "Epoch 00011: val_accuracy did not improve from 0.77572\n",
      "270/270 [==============================] - 37s 136ms/step - loss: 0.1021 - accuracy: 0.9714 - f1_score: 0.9669 - val_loss: 1.1317 - val_accuracy: 0.7665 - val_f1_score: 0.7211\n",
      "Epoch 12/1000\n",
      "270/270 [==============================] - ETA: 0s - loss: 0.0714 - accuracy: 0.9808 - f1_score: 0.9775\n",
      "Epoch 00012: val_accuracy improved from 0.77572 to 0.77757, saving model to ./model_save/acblstm_model/AC-BLSTM_rand_radam/weights.h5\n",
      "270/270 [==============================] - 38s 140ms/step - loss: 0.0714 - accuracy: 0.9808 - f1_score: 0.9775 - val_loss: 1.1707 - val_accuracy: 0.7776 - val_f1_score: 0.7197\n",
      "Epoch 13/1000\n",
      "270/270 [==============================] - ETA: 0s - loss: 0.0919 - accuracy: 0.9721 - f1_score: 0.9642\n",
      "Epoch 00013: val_accuracy improved from 0.77757 to 0.78313, saving model to ./model_save/acblstm_model/AC-BLSTM_rand_radam/weights.h5\n",
      "270/270 [==============================] - 38s 140ms/step - loss: 0.0919 - accuracy: 0.9721 - f1_score: 0.9642 - val_loss: 1.1401 - val_accuracy: 0.7831 - val_f1_score: 0.7360\n",
      "Epoch 14/1000\n",
      "270/270 [==============================] - ETA: 0s - loss: 0.0799 - accuracy: 0.9751 - f1_score: 0.9703\n",
      "Epoch 00014: val_accuracy did not improve from 0.78313\n",
      "270/270 [==============================] - 37s 137ms/step - loss: 0.0799 - accuracy: 0.9751 - f1_score: 0.9703 - val_loss: 1.1841 - val_accuracy: 0.7794 - val_f1_score: 0.7354\n",
      "Epoch 15/1000\n",
      "270/270 [==============================] - ETA: 0s - loss: 0.0688 - accuracy: 0.9784 - f1_score: 0.9765\n",
      "Epoch 00015: val_accuracy did not improve from 0.78313\n",
      "270/270 [==============================] - 37s 139ms/step - loss: 0.0688 - accuracy: 0.9784 - f1_score: 0.9765 - val_loss: 1.2695 - val_accuracy: 0.7804 - val_f1_score: 0.7255\n",
      "Epoch 16/1000\n",
      "270/270 [==============================] - ETA: 0s - loss: 0.0831 - accuracy: 0.9754 - f1_score: 0.9716\n",
      "Epoch 00016: val_accuracy did not improve from 0.78313\n",
      "270/270 [==============================] - 37s 137ms/step - loss: 0.0831 - accuracy: 0.9754 - f1_score: 0.9716 - val_loss: 1.3423 - val_accuracy: 0.7535 - val_f1_score: 0.6995\n",
      "Epoch 17/1000\n",
      "270/270 [==============================] - ETA: 0s - loss: 0.0950 - accuracy: 0.9710 - f1_score: 0.9667\n",
      "Epoch 00017: val_accuracy did not improve from 0.78313\n",
      "270/270 [==============================] - 38s 140ms/step - loss: 0.0950 - accuracy: 0.9710 - f1_score: 0.9667 - val_loss: 1.2829 - val_accuracy: 0.7632 - val_f1_score: 0.7306\n",
      "Epoch 18/1000\n",
      "270/270 [==============================] - ETA: 0s - loss: 0.0701 - accuracy: 0.9775 - f1_score: 0.9724\n",
      "Epoch 00018: val_accuracy did not improve from 0.78313\n",
      "270/270 [==============================] - 37s 137ms/step - loss: 0.0701 - accuracy: 0.9775 - f1_score: 0.9724 - val_loss: 1.2393 - val_accuracy: 0.7683 - val_f1_score: 0.7220\n",
      "Epoch 19/1000\n",
      "270/270 [==============================] - ETA: 0s - loss: 0.0420 - accuracy: 0.9874 - f1_score: 0.9858\n",
      "Epoch 00019: val_accuracy improved from 0.78313 to 0.79055, saving model to ./model_save/acblstm_model/AC-BLSTM_rand_radam/weights.h5\n",
      "270/270 [==============================] - 38s 140ms/step - loss: 0.0420 - accuracy: 0.9874 - f1_score: 0.9858 - val_loss: 1.2655 - val_accuracy: 0.7905 - val_f1_score: 0.7512\n",
      "Epoch 20/1000\n",
      "270/270 [==============================] - ETA: 0s - loss: 0.0788 - accuracy: 0.9759 - f1_score: 0.9692\n",
      "Epoch 00020: val_accuracy did not improve from 0.79055\n",
      "270/270 [==============================] - 37s 137ms/step - loss: 0.0788 - accuracy: 0.9759 - f1_score: 0.9692 - val_loss: 1.2885 - val_accuracy: 0.7586 - val_f1_score: 0.7030\n",
      "Epoch 21/1000\n"
     ]
    },
    {
     "name": "stdout",
     "output_type": "stream",
     "text": [
      "270/270 [==============================] - ETA: 0s - loss: 0.0536 - accuracy: 0.9851 - f1_score: 0.9832\n",
      "Epoch 00021: val_accuracy did not improve from 0.79055\n",
      "270/270 [==============================] - 37s 135ms/step - loss: 0.0536 - accuracy: 0.9851 - f1_score: 0.9832 - val_loss: 1.3229 - val_accuracy: 0.7753 - val_f1_score: 0.7318\n",
      "Epoch 22/1000\n",
      "270/270 [==============================] - ETA: 0s - loss: 0.0566 - accuracy: 0.9834 - f1_score: 0.9810\n",
      "Epoch 00022: val_accuracy did not improve from 0.79055\n",
      "270/270 [==============================] - 37s 136ms/step - loss: 0.0566 - accuracy: 0.9834 - f1_score: 0.9810 - val_loss: 1.3521 - val_accuracy: 0.7739 - val_f1_score: 0.7272\n",
      "Epoch 23/1000\n",
      "270/270 [==============================] - ETA: 0s - loss: 0.0739 - accuracy: 0.9775 - f1_score: 0.9712\n",
      "Epoch 00023: val_accuracy did not improve from 0.79055\n",
      "270/270 [==============================] - 37s 135ms/step - loss: 0.0739 - accuracy: 0.9775 - f1_score: 0.9712 - val_loss: 1.2425 - val_accuracy: 0.7859 - val_f1_score: 0.7396\n",
      "Epoch 24/1000\n",
      "270/270 [==============================] - ETA: 0s - loss: 0.0370 - accuracy: 0.9895 - f1_score: 0.9857\n",
      "Epoch 00024: val_accuracy improved from 0.79055 to 0.79981, saving model to ./model_save/acblstm_model/AC-BLSTM_rand_radam/weights.h5\n",
      "270/270 [==============================] - 37s 138ms/step - loss: 0.0370 - accuracy: 0.9895 - f1_score: 0.9857 - val_loss: 1.2829 - val_accuracy: 0.7998 - val_f1_score: 0.7574\n",
      "Epoch 25/1000\n",
      "270/270 [==============================] - ETA: 0s - loss: 0.0565 - accuracy: 0.9834 - f1_score: 0.9810\n",
      "Epoch 00025: val_accuracy did not improve from 0.79981\n",
      "270/270 [==============================] - 37s 136ms/step - loss: 0.0565 - accuracy: 0.9834 - f1_score: 0.9810 - val_loss: 1.2021 - val_accuracy: 0.7915 - val_f1_score: 0.7430\n",
      "Epoch 26/1000\n",
      "270/270 [==============================] - ETA: 0s - loss: 0.0494 - accuracy: 0.9855 - f1_score: 0.9810\n",
      "Epoch 00026: val_accuracy did not improve from 0.79981\n",
      "270/270 [==============================] - 37s 136ms/step - loss: 0.0494 - accuracy: 0.9855 - f1_score: 0.9810 - val_loss: 1.1768 - val_accuracy: 0.7952 - val_f1_score: 0.7543\n",
      "Epoch 27/1000\n",
      "270/270 [==============================] - ETA: 0s - loss: 0.0339 - accuracy: 0.9905 - f1_score: 0.9878\n",
      "Epoch 00027: val_accuracy did not improve from 0.79981\n",
      "270/270 [==============================] - 37s 136ms/step - loss: 0.0339 - accuracy: 0.9905 - f1_score: 0.9878 - val_loss: 1.2124 - val_accuracy: 0.7984 - val_f1_score: 0.7592\n",
      "Epoch 28/1000\n",
      "270/270 [==============================] - ETA: 0s - loss: 0.0375 - accuracy: 0.9892 - f1_score: 0.9877\n",
      "Epoch 00028: val_accuracy did not improve from 0.79981\n",
      "270/270 [==============================] - 37s 136ms/step - loss: 0.0375 - accuracy: 0.9892 - f1_score: 0.9877 - val_loss: 1.4354 - val_accuracy: 0.7901 - val_f1_score: 0.7329\n",
      "Epoch 29/1000\n",
      "270/270 [==============================] - ETA: 0s - loss: 0.0646 - accuracy: 0.9810 - f1_score: 0.9788\n",
      "Epoch 00029: val_accuracy did not improve from 0.79981\n",
      "270/270 [==============================] - 37s 136ms/step - loss: 0.0646 - accuracy: 0.9810 - f1_score: 0.9788 - val_loss: 1.3802 - val_accuracy: 0.7868 - val_f1_score: 0.7388\n",
      "Epoch 30/1000\n",
      "270/270 [==============================] - ETA: 0s - loss: 0.0525 - accuracy: 0.9849 - f1_score: 0.9823\n",
      "Epoch 00030: val_accuracy did not improve from 0.79981\n",
      "270/270 [==============================] - 37s 136ms/step - loss: 0.0525 - accuracy: 0.9849 - f1_score: 0.9823 - val_loss: 1.4455 - val_accuracy: 0.7753 - val_f1_score: 0.7252\n",
      "Epoch 31/1000\n",
      "270/270 [==============================] - ETA: 0s - loss: 0.0281 - accuracy: 0.9918 - f1_score: 0.9909\n",
      "Epoch 00031: val_accuracy did not improve from 0.79981\n",
      "270/270 [==============================] - 37s 136ms/step - loss: 0.0281 - accuracy: 0.9918 - f1_score: 0.9909 - val_loss: 1.3138 - val_accuracy: 0.7841 - val_f1_score: 0.7411\n",
      "Epoch 32/1000\n",
      "270/270 [==============================] - ETA: 0s - loss: 0.0323 - accuracy: 0.9899 - f1_score: 0.9893\n",
      "Epoch 00032: val_accuracy did not improve from 0.79981\n",
      "270/270 [==============================] - 37s 136ms/step - loss: 0.0323 - accuracy: 0.9899 - f1_score: 0.9893 - val_loss: 1.3820 - val_accuracy: 0.7794 - val_f1_score: 0.7292\n",
      "Epoch 33/1000\n",
      "270/270 [==============================] - ETA: 0s - loss: 0.0398 - accuracy: 0.9891 - f1_score: 0.9848\n",
      "Epoch 00033: val_accuracy did not improve from 0.79981\n",
      "270/270 [==============================] - 37s 136ms/step - loss: 0.0398 - accuracy: 0.9891 - f1_score: 0.9848 - val_loss: 1.3443 - val_accuracy: 0.7822 - val_f1_score: 0.7398\n",
      "Epoch 34/1000\n",
      "270/270 [==============================] - ETA: 0s - loss: 0.0408 - accuracy: 0.9893 - f1_score: 0.9860\n",
      "Epoch 00034: val_accuracy did not improve from 0.79981\n",
      "270/270 [==============================] - 37s 136ms/step - loss: 0.0408 - accuracy: 0.9893 - f1_score: 0.9860 - val_loss: 1.4448 - val_accuracy: 0.7841 - val_f1_score: 0.7262\n"
     ]
    }
   ],
   "source": [
    "model, histroy = acblstm_train_rand.train(train_X, train_YS)"
   ]
  },
  {
   "cell_type": "code",
   "execution_count": 13,
   "metadata": {
    "colab": {
     "base_uri": "https://localhost:8080/",
     "height": 806
    },
    "colab_type": "code",
    "executionInfo": {
     "elapsed": 355351,
     "status": "ok",
     "timestamp": 1591920249331,
     "user": {
      "displayName": "이명훈",
      "photoUrl": "",
      "userId": "07271482681718000858"
     },
     "user_tz": -540
    },
    "id": "ffKrOaWKqU43",
    "outputId": "e5f0b4f6-54f1-4ae8-a9fa-48c931bddab4"
   },
   "outputs": [
    {
     "data": {
      "image/png": "[encoded data removed]",
      "text/plain": [
       "<Figure size 432x288 with 1 Axes>"
      ]
     },
     "metadata": {
      "needs_background": "light"
     },
     "output_type": "display_data"
    },
    {
     "data": {
      "image/png": "[encoded data removed]",
      "text/plain": [
       "<Figure size 432x288 with 1 Axes>"
      ]
     },
     "metadata": {
      "needs_background": "light"
     },
     "output_type": "display_data"
    },
    {
     "data": {
      "image/png": "[encoded data removed]",
      "text/plain": [
       "<Figure size 432x288 with 1 Axes>"
      ]
     },
     "metadata": {
      "needs_background": "light"
     },
     "output_type": "display_data"
    }
   ],
   "source": [
    "acblstm_train_rand.train_plot(model, histroy)"
   ]
  },
  {
   "cell_type": "code",
   "execution_count": 14,
   "metadata": {
    "colab": {
     "base_uri": "https://localhost:8080/",
     "height": 34
    },
    "colab_type": "code",
    "executionInfo": {
     "elapsed": 357946,
     "status": "ok",
     "timestamp": 1591920252312,
     "user": {
      "displayName": "이명훈",
      "photoUrl": "",
      "userId": "07271482681718000858"
     },
     "user_tz": -540
    },
    "id": "50e-r9WiqU46",
    "outputId": "8d4b9bb9-8dfb-4073-abe8-40e1c6a8d442"
   },
   "outputs": [
    {
     "name": "stdout",
     "output_type": "stream",
     "text": [
      "145/145 [==============================] - 4s 26ms/step - loss: 1.1687 - accuracy: 0.8097 - f1_score: 0.7779\n"
     ]
    }
   ],
   "source": [
    "acblstm_train_rand.evaluation(model, test_X, test_YS)"
   ]
  },
  {
   "cell_type": "markdown",
   "metadata": {
    "colab_type": "text",
    "id": "n5BhlWv_qU5r"
   },
   "source": [
    "## 04. AC-BLSTM with w2v"
   ]
  },
  {
   "cell_type": "markdown",
   "metadata": {
    "colab_type": "text",
    "id": "hrlK5XV4qU5s"
   },
   "source": [
    "### optimizer adam"
   ]
  },
  {
   "cell_type": "code",
   "execution_count": 15,
   "metadata": {
    "colab": {
     "base_uri": "https://localhost:8080/",
     "height": 122
    },
    "colab_type": "code",
    "executionInfo": {
     "elapsed": 357002,
     "status": "ok",
     "timestamp": 1591920252504,
     "user": {
      "displayName": "이명훈",
      "photoUrl": "",
      "userId": "07271482681718000858"
     },
     "user_tz": -540
    },
    "id": "V4SrsYxJqU5s",
    "outputId": "2384005c-262a-4248-8506-6e0391419378"
   },
   "outputs": [
    {
     "name": "stdout",
     "output_type": "stream",
     "text": [
      "big_class\n",
      "output_dim :  43\n",
      "./model_save/acblstm_model/\n",
      "word index size :  30079\n",
      "27423 2655\n",
      "train_mode : pt, optimizer : adam, pre-trained_mode : w2v, model_name : AC-BLSTM_pt_adam_w2v\n"
     ]
    }
   ],
   "source": [
    "acblstm_train_w2v = ACBLSTMTrain(vocab_size=vocab_size, \n",
    "                                 train_mode='pt', \n",
    "                                 embedding_matrix=word_vectorizer,\n",
    "                                 word_index=word_index,\n",
    "                                 pre_trained_mode='w2v')"
   ]
  },
  {
   "cell_type": "code",
   "execution_count": 16,
   "metadata": {
    "colab": {
     "base_uri": "https://localhost:8080/",
     "height": 1000
    },
    "colab_type": "code",
    "executionInfo": {
     "elapsed": 468419,
     "status": "ok",
     "timestamp": 1591920364179,
     "user": {
      "displayName": "이명훈",
      "photoUrl": "",
      "userId": "07271482681718000858"
     },
     "user_tz": -540
    },
    "id": "zq_sW1VVqU5x",
    "outputId": "b50f9d1b-d0f7-4938-c525-73fc6f6da415",
    "scrolled": true
   },
   "outputs": [
    {
     "name": "stdout",
     "output_type": "stream",
     "text": [
      "{'vocab_size': 30079, 'embedding_size': 300, 'num_filters': 128, 'dropout_rate': 0.5, 'lstm_dimension': 256, 'hidden_dimension': 128, 'train_mode': 'pt', 'output_dimension': 43, 'model_name': 'AC-BLSTM_pt_adam_w2v', 'embedding_matrix': array([[ 0.        ,  0.        ,  0.        , ...,  0.        ,\n",
      "         0.        ,  0.        ],\n",
      "       [ 0.05204903, -0.21638015, -0.21948703, ...,  0.14667457,\n",
      "        -0.02240289,  0.05068133],\n",
      "       [-0.00398654,  0.07112884, -0.51496243, ...,  0.07860778,\n",
      "        -0.33473143, -0.0859189 ],\n",
      "       ...,\n",
      "       [-0.60012555,  0.33054775, -0.45900419, ..., -0.22507869,\n",
      "         0.13599187, -0.08460996],\n",
      "       [ 0.48614532,  0.02564996, -0.16735327, ...,  0.38038063,\n",
      "         0.16799502, -0.66553634],\n",
      "       [ 0.79622883, -0.40894818,  0.2396446 , ..., -0.12865892,\n",
      "        -0.75648826,  0.38904482]])}\n",
      "./model_save/acblstm_model/AC-BLSTM_pt_adam_w2v -- Folder create complete \n",
      "\n",
      "callback set\n",
      "Epoch 1/1000\n",
      "135/135 [==============================] - ETA: 0s - loss: 2.6232 - accuracy: 0.3373 - f1_score: 0.2496\n",
      "Epoch 00001: val_accuracy improved from -inf to 0.63670, saving model to ./model_save/acblstm_model/AC-BLSTM_pt_adam_w2v/weights.h5\n",
      "135/135 [==============================] - 13s 97ms/step - loss: 2.6232 - accuracy: 0.3373 - f1_score: 0.2496 - val_loss: 1.3779 - val_accuracy: 0.6367 - val_f1_score: 0.5048\n",
      "Epoch 2/1000\n",
      "135/135 [==============================] - ETA: 0s - loss: 0.9458 - accuracy: 0.7320 - f1_score: 0.6506\n",
      "Epoch 00002: val_accuracy improved from 0.63670 to 0.76182, saving model to ./model_save/acblstm_model/AC-BLSTM_pt_adam_w2v/weights.h5\n",
      "135/135 [==============================] - 12s 92ms/step - loss: 0.9458 - accuracy: 0.7320 - f1_score: 0.6506 - val_loss: 0.8468 - val_accuracy: 0.7618 - val_f1_score: 0.6966\n",
      "Epoch 3/1000\n",
      "135/135 [==============================] - ETA: 0s - loss: 0.4942 - accuracy: 0.8520 - f1_score: 0.8178\n",
      "Epoch 00003: val_accuracy improved from 0.76182 to 0.78082, saving model to ./model_save/acblstm_model/AC-BLSTM_pt_adam_w2v/weights.h5\n",
      "135/135 [==============================] - 12s 92ms/step - loss: 0.4942 - accuracy: 0.8520 - f1_score: 0.8178 - val_loss: 0.7783 - val_accuracy: 0.7808 - val_f1_score: 0.7163\n",
      "Epoch 4/1000\n",
      "135/135 [==============================] - ETA: 0s - loss: 0.2986 - accuracy: 0.9067 - f1_score: 0.8833\n",
      "Epoch 00004: val_accuracy improved from 0.78082 to 0.78869, saving model to ./model_save/acblstm_model/AC-BLSTM_pt_adam_w2v/weights.h5\n",
      "135/135 [==============================] - 12s 92ms/step - loss: 0.2986 - accuracy: 0.9067 - f1_score: 0.8833 - val_loss: 0.8017 - val_accuracy: 0.7887 - val_f1_score: 0.7365\n",
      "Epoch 5/1000\n",
      "135/135 [==============================] - ETA: 0s - loss: 0.1870 - accuracy: 0.9438 - f1_score: 0.9320\n",
      "Epoch 00005: val_accuracy improved from 0.78869 to 0.80028, saving model to ./model_save/acblstm_model/AC-BLSTM_pt_adam_w2v/weights.h5\n",
      "135/135 [==============================] - 12s 92ms/step - loss: 0.1870 - accuracy: 0.9438 - f1_score: 0.9320 - val_loss: 0.8515 - val_accuracy: 0.8003 - val_f1_score: 0.7678\n",
      "Epoch 6/1000\n",
      "135/135 [==============================] - ETA: 0s - loss: 0.1257 - accuracy: 0.9604 - f1_score: 0.9545\n",
      "Epoch 00006: val_accuracy improved from 0.80028 to 0.81928, saving model to ./model_save/acblstm_model/AC-BLSTM_pt_adam_w2v/weights.h5\n",
      "135/135 [==============================] - 12s 91ms/step - loss: 0.1257 - accuracy: 0.9604 - f1_score: 0.9545 - val_loss: 0.8134 - val_accuracy: 0.8193 - val_f1_score: 0.7757\n",
      "Epoch 7/1000\n",
      "135/135 [==============================] - ETA: 0s - loss: 0.0961 - accuracy: 0.9693 - f1_score: 0.9637\n",
      "Epoch 00007: val_accuracy improved from 0.81928 to 0.82947, saving model to ./model_save/acblstm_model/AC-BLSTM_pt_adam_w2v/weights.h5\n",
      "135/135 [==============================] - 12s 92ms/step - loss: 0.0961 - accuracy: 0.9693 - f1_score: 0.9637 - val_loss: 0.8156 - val_accuracy: 0.8295 - val_f1_score: 0.8016\n",
      "Epoch 8/1000\n",
      "135/135 [==============================] - ETA: 0s - loss: 0.0839 - accuracy: 0.9743 - f1_score: 0.9716\n",
      "Epoch 00008: val_accuracy improved from 0.82947 to 0.84013, saving model to ./model_save/acblstm_model/AC-BLSTM_pt_adam_w2v/weights.h5\n",
      "135/135 [==============================] - 12s 92ms/step - loss: 0.0839 - accuracy: 0.9743 - f1_score: 0.9716 - val_loss: 0.7712 - val_accuracy: 0.8401 - val_f1_score: 0.8101\n",
      "Epoch 9/1000\n",
      "135/135 [==============================] - ETA: 0s - loss: 0.0632 - accuracy: 0.9805 - f1_score: 0.9785\n",
      "Epoch 00009: val_accuracy did not improve from 0.84013\n",
      "135/135 [==============================] - 12s 89ms/step - loss: 0.0632 - accuracy: 0.9805 - f1_score: 0.9785 - val_loss: 0.8409 - val_accuracy: 0.8267 - val_f1_score: 0.7965\n",
      "Epoch 10/1000\n",
      "135/135 [==============================] - ETA: 0s - loss: 0.0624 - accuracy: 0.9810 - f1_score: 0.9778\n",
      "Epoch 00010: val_accuracy did not improve from 0.84013\n",
      "135/135 [==============================] - 12s 89ms/step - loss: 0.0624 - accuracy: 0.9810 - f1_score: 0.9778 - val_loss: 0.8234 - val_accuracy: 0.8327 - val_f1_score: 0.7926\n",
      "Epoch 11/1000\n",
      "135/135 [==============================] - ETA: 0s - loss: 0.0499 - accuracy: 0.9849 - f1_score: 0.9812\n",
      "Epoch 00011: val_accuracy did not improve from 0.84013\n",
      "135/135 [==============================] - 12s 89ms/step - loss: 0.0499 - accuracy: 0.9849 - f1_score: 0.9812 - val_loss: 0.8710 - val_accuracy: 0.8160 - val_f1_score: 0.7881\n",
      "Epoch 12/1000\n",
      "135/135 [==============================] - ETA: 0s - loss: 0.0693 - accuracy: 0.9796 - f1_score: 0.9753\n",
      "Epoch 00012: val_accuracy did not improve from 0.84013\n",
      "135/135 [==============================] - 12s 89ms/step - loss: 0.0693 - accuracy: 0.9796 - f1_score: 0.9753 - val_loss: 0.8377 - val_accuracy: 0.8290 - val_f1_score: 0.7973\n",
      "Epoch 13/1000\n",
      "135/135 [==============================] - ETA: 0s - loss: 0.0627 - accuracy: 0.9813 - f1_score: 0.9779\n",
      "Epoch 00013: val_accuracy did not improve from 0.84013\n",
      "135/135 [==============================] - 12s 89ms/step - loss: 0.0627 - accuracy: 0.9813 - f1_score: 0.9779 - val_loss: 0.8569 - val_accuracy: 0.8304 - val_f1_score: 0.7919\n",
      "Epoch 14/1000\n",
      "135/135 [==============================] - ETA: 0s - loss: 0.0372 - accuracy: 0.9883 - f1_score: 0.9867\n",
      "Epoch 00014: val_accuracy improved from 0.84013 to 0.84059, saving model to ./model_save/acblstm_model/AC-BLSTM_pt_adam_w2v/weights.h5\n",
      "135/135 [==============================] - 13s 94ms/step - loss: 0.0372 - accuracy: 0.9883 - f1_score: 0.9867 - val_loss: 0.8681 - val_accuracy: 0.8406 - val_f1_score: 0.8109\n",
      "Epoch 15/1000\n",
      "135/135 [==============================] - ETA: 0s - loss: 0.0400 - accuracy: 0.9896 - f1_score: 0.9884\n",
      "Epoch 00015: val_accuracy did not improve from 0.84059\n",
      "135/135 [==============================] - 12s 89ms/step - loss: 0.0400 - accuracy: 0.9896 - f1_score: 0.9884 - val_loss: 0.8526 - val_accuracy: 0.8355 - val_f1_score: 0.8086\n",
      "Epoch 16/1000\n",
      "135/135 [==============================] - ETA: 0s - loss: 0.0387 - accuracy: 0.9883 - f1_score: 0.9874\n",
      "Epoch 00016: val_accuracy did not improve from 0.84059\n",
      "135/135 [==============================] - 12s 89ms/step - loss: 0.0387 - accuracy: 0.9883 - f1_score: 0.9874 - val_loss: 0.8991 - val_accuracy: 0.8346 - val_f1_score: 0.7972\n",
      "Epoch 17/1000\n",
      "135/135 [==============================] - ETA: 0s - loss: 0.0352 - accuracy: 0.9889 - f1_score: 0.9868\n",
      "Epoch 00017: val_accuracy did not improve from 0.84059\n",
      "135/135 [==============================] - 12s 89ms/step - loss: 0.0352 - accuracy: 0.9889 - f1_score: 0.9868 - val_loss: 0.9431 - val_accuracy: 0.8364 - val_f1_score: 0.8051\n",
      "Epoch 18/1000\n",
      "135/135 [==============================] - ETA: 0s - loss: 0.0474 - accuracy: 0.9851 - f1_score: 0.9801\n",
      "Epoch 00018: val_accuracy did not improve from 0.84059\n",
      "135/135 [==============================] - 12s 89ms/step - loss: 0.0474 - accuracy: 0.9851 - f1_score: 0.9801 - val_loss: 0.9550 - val_accuracy: 0.8234 - val_f1_score: 0.7900\n",
      "Epoch 19/1000\n",
      "135/135 [==============================] - ETA: 0s - loss: 0.0320 - accuracy: 0.9904 - f1_score: 0.9877\n",
      "Epoch 00019: val_accuracy did not improve from 0.84059\n",
      "135/135 [==============================] - 12s 89ms/step - loss: 0.0320 - accuracy: 0.9904 - f1_score: 0.9877 - val_loss: 1.0658 - val_accuracy: 0.8364 - val_f1_score: 0.7984\n"
     ]
    },
    {
     "name": "stdout",
     "output_type": "stream",
     "text": [
      "Epoch 20/1000\n",
      "135/135 [==============================] - ETA: 0s - loss: 0.0528 - accuracy: 0.9844 - f1_score: 0.9829\n",
      "Epoch 00020: val_accuracy did not improve from 0.84059\n",
      "135/135 [==============================] - 12s 89ms/step - loss: 0.0528 - accuracy: 0.9844 - f1_score: 0.9829 - val_loss: 0.9452 - val_accuracy: 0.8346 - val_f1_score: 0.8081\n",
      "Epoch 21/1000\n",
      "135/135 [==============================] - ETA: 0s - loss: 0.0523 - accuracy: 0.9861 - f1_score: 0.9802\n",
      "Epoch 00021: val_accuracy did not improve from 0.84059\n",
      "135/135 [==============================] - 12s 89ms/step - loss: 0.0523 - accuracy: 0.9861 - f1_score: 0.9802 - val_loss: 0.9335 - val_accuracy: 0.8262 - val_f1_score: 0.7943\n",
      "Epoch 22/1000\n",
      "135/135 [==============================] - ETA: 0s - loss: 0.0220 - accuracy: 0.9942 - f1_score: 0.9919\n",
      "Epoch 00022: val_accuracy improved from 0.84059 to 0.84615, saving model to ./model_save/acblstm_model/AC-BLSTM_pt_adam_w2v/weights.h5\n",
      "135/135 [==============================] - 12s 92ms/step - loss: 0.0220 - accuracy: 0.9942 - f1_score: 0.9919 - val_loss: 1.0271 - val_accuracy: 0.8462 - val_f1_score: 0.8152\n",
      "Epoch 23/1000\n",
      "135/135 [==============================] - ETA: 0s - loss: 0.0455 - accuracy: 0.9861 - f1_score: 0.9830\n",
      "Epoch 00023: val_accuracy did not improve from 0.84615\n",
      "135/135 [==============================] - 12s 89ms/step - loss: 0.0455 - accuracy: 0.9861 - f1_score: 0.9830 - val_loss: 0.9981 - val_accuracy: 0.8378 - val_f1_score: 0.8048\n",
      "Epoch 24/1000\n",
      "135/135 [==============================] - ETA: 0s - loss: 0.0272 - accuracy: 0.9921 - f1_score: 0.9911\n",
      "Epoch 00024: val_accuracy did not improve from 0.84615\n",
      "135/135 [==============================] - 12s 89ms/step - loss: 0.0272 - accuracy: 0.9921 - f1_score: 0.9911 - val_loss: 1.0375 - val_accuracy: 0.8424 - val_f1_score: 0.8163\n",
      "Epoch 25/1000\n",
      "135/135 [==============================] - ETA: 0s - loss: 0.0304 - accuracy: 0.9898 - f1_score: 0.9882\n",
      "Epoch 00025: val_accuracy improved from 0.84615 to 0.85079, saving model to ./model_save/acblstm_model/AC-BLSTM_pt_adam_w2v/weights.h5\n",
      "135/135 [==============================] - 12s 92ms/step - loss: 0.0304 - accuracy: 0.9898 - f1_score: 0.9882 - val_loss: 0.9785 - val_accuracy: 0.8508 - val_f1_score: 0.8205\n",
      "Epoch 26/1000\n",
      "135/135 [==============================] - ETA: 0s - loss: 0.0352 - accuracy: 0.9898 - f1_score: 0.9881\n",
      "Epoch 00026: val_accuracy did not improve from 0.85079\n",
      "135/135 [==============================] - 12s 89ms/step - loss: 0.0352 - accuracy: 0.9898 - f1_score: 0.9881 - val_loss: 0.9841 - val_accuracy: 0.8438 - val_f1_score: 0.8143\n",
      "Epoch 27/1000\n",
      "135/135 [==============================] - ETA: 0s - loss: 0.0239 - accuracy: 0.9926 - f1_score: 0.9917\n",
      "Epoch 00027: val_accuracy did not improve from 0.85079\n",
      "135/135 [==============================] - 12s 89ms/step - loss: 0.0239 - accuracy: 0.9926 - f1_score: 0.9917 - val_loss: 1.0569 - val_accuracy: 0.8411 - val_f1_score: 0.8147\n",
      "Epoch 28/1000\n",
      "135/135 [==============================] - ETA: 0s - loss: 0.0223 - accuracy: 0.9935 - f1_score: 0.9924\n",
      "Epoch 00028: val_accuracy did not improve from 0.85079\n",
      "135/135 [==============================] - 12s 89ms/step - loss: 0.0223 - accuracy: 0.9935 - f1_score: 0.9924 - val_loss: 0.9682 - val_accuracy: 0.8489 - val_f1_score: 0.8230\n",
      "Epoch 29/1000\n",
      "135/135 [==============================] - ETA: 0s - loss: 0.0203 - accuracy: 0.9948 - f1_score: 0.9933\n",
      "Epoch 00029: val_accuracy did not improve from 0.85079\n",
      "135/135 [==============================] - 12s 89ms/step - loss: 0.0203 - accuracy: 0.9948 - f1_score: 0.9933 - val_loss: 1.0372 - val_accuracy: 0.8485 - val_f1_score: 0.8186\n",
      "Epoch 30/1000\n",
      "135/135 [==============================] - ETA: 0s - loss: 0.0478 - accuracy: 0.9859 - f1_score: 0.9827\n",
      "Epoch 00030: val_accuracy did not improve from 0.85079\n",
      "135/135 [==============================] - 12s 89ms/step - loss: 0.0478 - accuracy: 0.9859 - f1_score: 0.9827 - val_loss: 0.9571 - val_accuracy: 0.8452 - val_f1_score: 0.8137\n",
      "Epoch 31/1000\n",
      "135/135 [==============================] - ETA: 0s - loss: 0.0229 - accuracy: 0.9929 - f1_score: 0.9906\n",
      "Epoch 00031: val_accuracy did not improve from 0.85079\n",
      "135/135 [==============================] - 12s 89ms/step - loss: 0.0229 - accuracy: 0.9929 - f1_score: 0.9906 - val_loss: 1.0568 - val_accuracy: 0.8452 - val_f1_score: 0.8167\n",
      "Epoch 32/1000\n",
      "135/135 [==============================] - ETA: 0s - loss: 0.0220 - accuracy: 0.9944 - f1_score: 0.9935\n",
      "Epoch 00032: val_accuracy did not improve from 0.85079\n",
      "135/135 [==============================] - 12s 89ms/step - loss: 0.0220 - accuracy: 0.9944 - f1_score: 0.9935 - val_loss: 1.1022 - val_accuracy: 0.8397 - val_f1_score: 0.8068\n",
      "Epoch 33/1000\n",
      "135/135 [==============================] - ETA: 0s - loss: 0.0210 - accuracy: 0.9937 - f1_score: 0.9925\n",
      "Epoch 00033: val_accuracy improved from 0.85079 to 0.85449, saving model to ./model_save/acblstm_model/AC-BLSTM_pt_adam_w2v/weights.h5\n",
      "135/135 [==============================] - 13s 94ms/step - loss: 0.0210 - accuracy: 0.9937 - f1_score: 0.9925 - val_loss: 1.0743 - val_accuracy: 0.8545 - val_f1_score: 0.8265\n",
      "Epoch 34/1000\n",
      "135/135 [==============================] - ETA: 0s - loss: 0.0213 - accuracy: 0.9937 - f1_score: 0.9928\n",
      "Epoch 00034: val_accuracy did not improve from 0.85449\n",
      "135/135 [==============================] - 12s 89ms/step - loss: 0.0213 - accuracy: 0.9937 - f1_score: 0.9928 - val_loss: 1.1088 - val_accuracy: 0.8397 - val_f1_score: 0.8110\n",
      "Epoch 35/1000\n",
      "135/135 [==============================] - ETA: 0s - loss: 0.0156 - accuracy: 0.9951 - f1_score: 0.9945\n",
      "Epoch 00035: val_accuracy did not improve from 0.85449\n",
      "135/135 [==============================] - 12s 89ms/step - loss: 0.0156 - accuracy: 0.9951 - f1_score: 0.9945 - val_loss: 1.1158 - val_accuracy: 0.8475 - val_f1_score: 0.8161\n",
      "Epoch 36/1000\n",
      "135/135 [==============================] - ETA: 0s - loss: 0.0158 - accuracy: 0.9956 - f1_score: 0.9957\n",
      "Epoch 00036: val_accuracy did not improve from 0.85449\n",
      "135/135 [==============================] - 12s 89ms/step - loss: 0.0158 - accuracy: 0.9956 - f1_score: 0.9957 - val_loss: 1.1185 - val_accuracy: 0.8443 - val_f1_score: 0.8197\n",
      "Epoch 37/1000\n",
      "135/135 [==============================] - ETA: 0s - loss: 0.0281 - accuracy: 0.9913 - f1_score: 0.9894\n",
      "Epoch 00037: val_accuracy did not improve from 0.85449\n",
      "135/135 [==============================] - 12s 89ms/step - loss: 0.0281 - accuracy: 0.9913 - f1_score: 0.9894 - val_loss: 1.3177 - val_accuracy: 0.8285 - val_f1_score: 0.7970\n",
      "Epoch 38/1000\n",
      "135/135 [==============================] - ETA: 0s - loss: 0.0310 - accuracy: 0.9899 - f1_score: 0.9877\n",
      "Epoch 00038: val_accuracy did not improve from 0.85449\n",
      "135/135 [==============================] - 12s 89ms/step - loss: 0.0310 - accuracy: 0.9899 - f1_score: 0.9877 - val_loss: 1.1309 - val_accuracy: 0.8401 - val_f1_score: 0.8078\n",
      "Epoch 39/1000\n",
      "135/135 [==============================] - ETA: 0s - loss: 0.0623 - accuracy: 0.9827 - f1_score: 0.9769\n",
      "Epoch 00039: val_accuracy did not improve from 0.85449\n",
      "135/135 [==============================] - 12s 89ms/step - loss: 0.0623 - accuracy: 0.9827 - f1_score: 0.9769 - val_loss: 1.0988 - val_accuracy: 0.8341 - val_f1_score: 0.8053\n",
      "Epoch 40/1000\n",
      "135/135 [==============================] - ETA: 0s - loss: 0.0278 - accuracy: 0.9912 - f1_score: 0.9903\n",
      "Epoch 00040: val_accuracy did not improve from 0.85449\n",
      "135/135 [==============================] - 12s 89ms/step - loss: 0.0278 - accuracy: 0.9912 - f1_score: 0.9903 - val_loss: 1.0634 - val_accuracy: 0.8531 - val_f1_score: 0.8254\n",
      "Epoch 41/1000\n",
      "135/135 [==============================] - ETA: 0s - loss: 0.0229 - accuracy: 0.9937 - f1_score: 0.9921\n",
      "Epoch 00041: val_accuracy improved from 0.85449 to 0.85589, saving model to ./model_save/acblstm_model/AC-BLSTM_pt_adam_w2v/weights.h5\n",
      "135/135 [==============================] - 12s 92ms/step - loss: 0.0229 - accuracy: 0.9937 - f1_score: 0.9921 - val_loss: 1.0510 - val_accuracy: 0.8559 - val_f1_score: 0.8268\n",
      "Epoch 42/1000\n",
      "135/135 [==============================] - ETA: 0s - loss: 0.0170 - accuracy: 0.9952 - f1_score: 0.9942\n",
      "Epoch 00042: val_accuracy did not improve from 0.85589\n",
      "135/135 [==============================] - 12s 89ms/step - loss: 0.0170 - accuracy: 0.9952 - f1_score: 0.9942 - val_loss: 1.0642 - val_accuracy: 0.8489 - val_f1_score: 0.8215\n"
     ]
    },
    {
     "name": "stdout",
     "output_type": "stream",
     "text": [
      "Epoch 43/1000\n",
      "135/135 [==============================] - ETA: 0s - loss: 0.0071 - accuracy: 0.9980 - f1_score: 0.9977\n",
      "Epoch 00043: val_accuracy improved from 0.85589 to 0.86145, saving model to ./model_save/acblstm_model/AC-BLSTM_pt_adam_w2v/weights.h5\n",
      "135/135 [==============================] - 12s 92ms/step - loss: 0.0071 - accuracy: 0.9980 - f1_score: 0.9977 - val_loss: 1.0805 - val_accuracy: 0.8614 - val_f1_score: 0.8332\n",
      "Epoch 44/1000\n",
      "135/135 [==============================] - ETA: 0s - loss: 0.0061 - accuracy: 0.9981 - f1_score: 0.9977\n",
      "Epoch 00044: val_accuracy improved from 0.86145 to 0.86191, saving model to ./model_save/acblstm_model/AC-BLSTM_pt_adam_w2v/weights.h5\n",
      "135/135 [==============================] - 12s 92ms/step - loss: 0.0061 - accuracy: 0.9981 - f1_score: 0.9977 - val_loss: 1.0911 - val_accuracy: 0.8619 - val_f1_score: 0.8316\n",
      "Epoch 45/1000\n",
      "135/135 [==============================] - ETA: 0s - loss: 0.0037 - accuracy: 0.9993 - f1_score: 0.9993\n",
      "Epoch 00045: val_accuracy did not improve from 0.86191\n",
      "135/135 [==============================] - 12s 89ms/step - loss: 0.0037 - accuracy: 0.9993 - f1_score: 0.9993 - val_loss: 1.1076 - val_accuracy: 0.8601 - val_f1_score: 0.8351\n",
      "Epoch 46/1000\n",
      "135/135 [==============================] - ETA: 0s - loss: 0.0039 - accuracy: 0.9988 - f1_score: 0.9989\n",
      "Epoch 00046: val_accuracy improved from 0.86191 to 0.86284, saving model to ./model_save/acblstm_model/AC-BLSTM_pt_adam_w2v/weights.h5\n",
      "135/135 [==============================] - 12s 92ms/step - loss: 0.0039 - accuracy: 0.9988 - f1_score: 0.9989 - val_loss: 1.1740 - val_accuracy: 0.8628 - val_f1_score: 0.8321\n",
      "Epoch 47/1000\n",
      "135/135 [==============================] - ETA: 0s - loss: 0.0225 - accuracy: 0.9939 - f1_score: 0.9919- ETA: 3s - loss\n",
      "Epoch 00047: val_accuracy did not improve from 0.86284\n",
      "135/135 [==============================] - 12s 89ms/step - loss: 0.0225 - accuracy: 0.9939 - f1_score: 0.9919 - val_loss: 1.1635 - val_accuracy: 0.8448 - val_f1_score: 0.8062\n",
      "Epoch 48/1000\n",
      "135/135 [==============================] - ETA: 0s - loss: 0.0208 - accuracy: 0.9934 - f1_score: 0.9920\n",
      "Epoch 00048: val_accuracy did not improve from 0.86284\n",
      "135/135 [==============================] - 12s 89ms/step - loss: 0.0208 - accuracy: 0.9934 - f1_score: 0.9920 - val_loss: 1.1538 - val_accuracy: 0.8327 - val_f1_score: 0.8035\n",
      "Epoch 49/1000\n",
      "135/135 [==============================] - ETA: 0s - loss: 0.0342 - accuracy: 0.9912 - f1_score: 0.9869\n",
      "Epoch 00049: val_accuracy did not improve from 0.86284\n",
      "135/135 [==============================] - 12s 89ms/step - loss: 0.0342 - accuracy: 0.9912 - f1_score: 0.9869 - val_loss: 1.0996 - val_accuracy: 0.8350 - val_f1_score: 0.7993\n",
      "Epoch 50/1000\n",
      "135/135 [==============================] - ETA: 0s - loss: 0.0264 - accuracy: 0.9919 - f1_score: 0.9903\n",
      "Epoch 00050: val_accuracy did not improve from 0.86284\n",
      "135/135 [==============================] - 12s 89ms/step - loss: 0.0264 - accuracy: 0.9919 - f1_score: 0.9903 - val_loss: 1.1450 - val_accuracy: 0.8434 - val_f1_score: 0.8103\n",
      "Epoch 51/1000\n",
      "135/135 [==============================] - ETA: 0s - loss: 0.0276 - accuracy: 0.9907 - f1_score: 0.9895\n",
      "Epoch 00051: val_accuracy did not improve from 0.86284\n",
      "135/135 [==============================] - 12s 89ms/step - loss: 0.0276 - accuracy: 0.9907 - f1_score: 0.9895 - val_loss: 1.2994 - val_accuracy: 0.8350 - val_f1_score: 0.8117\n",
      "Epoch 52/1000\n",
      "135/135 [==============================] - ETA: 0s - loss: 0.0167 - accuracy: 0.9958 - f1_score: 0.9945\n",
      "Epoch 00052: val_accuracy did not improve from 0.86284\n",
      "135/135 [==============================] - 12s 89ms/step - loss: 0.0167 - accuracy: 0.9958 - f1_score: 0.9945 - val_loss: 1.1567 - val_accuracy: 0.8471 - val_f1_score: 0.8148\n",
      "Epoch 53/1000\n",
      "135/135 [==============================] - ETA: 0s - loss: 0.0122 - accuracy: 0.9965 - f1_score: 0.9960\n",
      "Epoch 00053: val_accuracy did not improve from 0.86284\n",
      "135/135 [==============================] - 12s 89ms/step - loss: 0.0122 - accuracy: 0.9965 - f1_score: 0.9960 - val_loss: 1.1854 - val_accuracy: 0.8480 - val_f1_score: 0.8179\n",
      "Epoch 54/1000\n",
      "135/135 [==============================] - ETA: 0s - loss: 0.0121 - accuracy: 0.9969 - f1_score: 0.9959\n",
      "Epoch 00054: val_accuracy did not improve from 0.86284\n",
      "135/135 [==============================] - 12s 89ms/step - loss: 0.0121 - accuracy: 0.9969 - f1_score: 0.9959 - val_loss: 1.1405 - val_accuracy: 0.8508 - val_f1_score: 0.8198\n",
      "Epoch 55/1000\n",
      "135/135 [==============================] - ETA: 0s - loss: 0.0081 - accuracy: 0.9983 - f1_score: 0.9976\n",
      "Epoch 00055: val_accuracy did not improve from 0.86284\n",
      "135/135 [==============================] - 12s 89ms/step - loss: 0.0081 - accuracy: 0.9983 - f1_score: 0.9976 - val_loss: 1.0215 - val_accuracy: 0.8508 - val_f1_score: 0.8220\n",
      "Epoch 56/1000\n",
      "135/135 [==============================] - ETA: 0s - loss: 0.0028 - accuracy: 0.9992 - f1_score: 0.9990\n",
      "Epoch 00056: val_accuracy did not improve from 0.86284\n",
      "135/135 [==============================] - 12s 89ms/step - loss: 0.0028 - accuracy: 0.9992 - f1_score: 0.9990 - val_loss: 1.0510 - val_accuracy: 0.8614 - val_f1_score: 0.8357\n"
     ]
    }
   ],
   "source": [
    "model, histroy = acblstm_train_w2v.train(train_X, train_YS)"
   ]
  },
  {
   "cell_type": "code",
   "execution_count": 17,
   "metadata": {
    "colab": {
     "base_uri": "https://localhost:8080/",
     "height": 803
    },
    "colab_type": "code",
    "executionInfo": {
     "elapsed": 468867,
     "status": "ok",
     "timestamp": 1591920364884,
     "user": {
      "displayName": "이명훈",
      "photoUrl": "",
      "userId": "07271482681718000858"
     },
     "user_tz": -540
    },
    "id": "xY2kBI8-qU50",
    "outputId": "e7ae13c3-406d-459e-aa66-1195ba8940e2"
   },
   "outputs": [
    {
     "data": {
      "image/png": "[encoded data removed]",
      "text/plain": [
       "<Figure size 432x288 with 1 Axes>"
      ]
     },
     "metadata": {
      "needs_background": "light"
     },
     "output_type": "display_data"
    },
    {
     "data": {
      "image/png": "[encoded data removed]",
      "text/plain": [
       "<Figure size 432x288 with 1 Axes>"
      ]
     },
     "metadata": {
      "needs_background": "light"
     },
     "output_type": "display_data"
    },
    {
     "data": {
      "image/png": "[encoded data removed]",
      "text/plain": [
       "<Figure size 432x288 with 1 Axes>"
      ]
     },
     "metadata": {
      "needs_background": "light"
     },
     "output_type": "display_data"
    }
   ],
   "source": [
    "acblstm_train_w2v.train_plot(model, histroy)"
   ]
  },
  {
   "cell_type": "code",
   "execution_count": 18,
   "metadata": {
    "colab": {
     "base_uri": "https://localhost:8080/",
     "height": 34
    },
    "colab_type": "code",
    "executionInfo": {
     "elapsed": 469964,
     "status": "ok",
     "timestamp": 1591920366393,
     "user": {
      "displayName": "이명훈",
      "photoUrl": "",
      "userId": "07271482681718000858"
     },
     "user_tz": -540
    },
    "id": "gORg4Nz_qU53",
    "outputId": "885b3419-f580-4ec4-b95e-663375c6b5a5"
   },
   "outputs": [
    {
     "name": "stdout",
     "output_type": "stream",
     "text": [
      "145/145 [==============================] - 2s 10ms/step - loss: 1.0262 - accuracy: 0.8724 - f1_score: 0.8540\n"
     ]
    }
   ],
   "source": [
    "acblstm_train_w2v.evaluation(model, test_X, test_YS)"
   ]
  },
  {
   "cell_type": "markdown",
   "metadata": {
    "colab_type": "text",
    "id": "ujbLTWAeqU57"
   },
   "source": [
    "### optimizer radam"
   ]
  },
  {
   "cell_type": "code",
   "execution_count": 19,
   "metadata": {
    "colab": {
     "base_uri": "https://localhost:8080/",
     "height": 122
    },
    "colab_type": "code",
    "executionInfo": {
     "elapsed": 469554,
     "status": "ok",
     "timestamp": 1591920366718,
     "user": {
      "displayName": "이명훈",
      "photoUrl": "",
      "userId": "07271482681718000858"
     },
     "user_tz": -540
    },
    "id": "uVKRLU5jqU57",
    "outputId": "87b1a94e-df39-4e24-956f-941b622dfd7c"
   },
   "outputs": [
    {
     "name": "stdout",
     "output_type": "stream",
     "text": [
      "big_class\n",
      "output_dim :  43\n",
      "./model_save/acblstm_model/\n",
      "word index size :  30079\n",
      "27423 2655\n",
      "train_mode : pt, optimizer : radam, pre-trained_mode : w2v, model_name : AC-BLSTM_pt_radam_w2v\n"
     ]
    }
   ],
   "source": [
    "acblstm_train_w2v = ACBLSTMTrain(vocab_size=vocab_size, \n",
    "                                train_mode='pt', \n",
    "                                optimizer='radam',\n",
    "                                word_index=word_index,\n",
    "                                embedding_matrix=word_vectorizer,\n",
    "                                pre_trained_mode='w2v')"
   ]
  },
  {
   "cell_type": "code",
   "execution_count": 20,
   "metadata": {
    "colab": {
     "base_uri": "https://localhost:8080/",
     "height": 1000
    },
    "colab_type": "code",
    "executionInfo": {
     "elapsed": 712307,
     "status": "ok",
     "timestamp": 1591920611331,
     "user": {
      "displayName": "이명훈",
      "photoUrl": "",
      "userId": "07271482681718000858"
     },
     "user_tz": -540
    },
    "id": "ma-i2NDlqU5_",
    "outputId": "976b9820-c425-4c6b-e63c-161c7cd6b129",
    "scrolled": true
   },
   "outputs": [
    {
     "name": "stdout",
     "output_type": "stream",
     "text": [
      "{'vocab_size': 30079, 'embedding_size': 300, 'num_filters': 128, 'dropout_rate': 0.5, 'lstm_dimension': 256, 'hidden_dimension': 128, 'train_mode': 'pt', 'output_dimension': 43, 'model_name': 'AC-BLSTM_pt_radam_w2v', 'embedding_matrix': array([[ 0.        ,  0.        ,  0.        , ...,  0.        ,\n",
      "         0.        ,  0.        ],\n",
      "       [ 0.05204903, -0.21638015, -0.21948703, ...,  0.14667457,\n",
      "        -0.02240289,  0.05068133],\n",
      "       [-0.00398654,  0.07112884, -0.51496243, ...,  0.07860778,\n",
      "        -0.33473143, -0.0859189 ],\n",
      "       ...,\n",
      "       [-0.60012555,  0.33054775, -0.45900419, ..., -0.22507869,\n",
      "         0.13599187, -0.08460996],\n",
      "       [ 0.48614532,  0.02564996, -0.16735327, ...,  0.38038063,\n",
      "         0.16799502, -0.66553634],\n",
      "       [ 0.79622883, -0.40894818,  0.2396446 , ..., -0.12865892,\n",
      "        -0.75648826,  0.38904482]])}\n",
      "./model_save/acblstm_model/AC-BLSTM_pt_radam_w2v -- Folder create complete \n",
      "\n",
      "callback set\n",
      "Epoch 1/1000\n",
      "135/135 [==============================] - ETA: 0s - loss: 2.5701 - accuracy: 0.3324 - f1_score: 0.2512\n",
      "Epoch 00001: val_accuracy improved from -inf to 0.62234, saving model to ./model_save/acblstm_model/AC-BLSTM_pt_radam_w2v/weights.h5\n",
      "135/135 [==============================] - 22s 163ms/step - loss: 2.5701 - accuracy: 0.3324 - f1_score: 0.2512 - val_loss: 1.4161 - val_accuracy: 0.6223 - val_f1_score: 0.4927\n",
      "Epoch 2/1000\n",
      "135/135 [==============================] - ETA: 0s - loss: 1.1636 - accuracy: 0.6674 - f1_score: 0.5965\n",
      "Epoch 00002: val_accuracy improved from 0.62234 to 0.71131, saving model to ./model_save/acblstm_model/AC-BLSTM_pt_radam_w2v/weights.h5\n",
      "135/135 [==============================] - 21s 157ms/step - loss: 1.1636 - accuracy: 0.6674 - f1_score: 0.5965 - val_loss: 1.0219 - val_accuracy: 0.7113 - val_f1_score: 0.6452\n",
      "Epoch 3/1000\n",
      "135/135 [==============================] - ETA: 0s - loss: 0.8062 - accuracy: 0.7555 - f1_score: 0.7062\n",
      "Epoch 00003: val_accuracy improved from 0.71131 to 0.74421, saving model to ./model_save/acblstm_model/AC-BLSTM_pt_radam_w2v/weights.h5\n",
      "135/135 [==============================] - 21s 157ms/step - loss: 0.8062 - accuracy: 0.7555 - f1_score: 0.7062 - val_loss: 0.8816 - val_accuracy: 0.7442 - val_f1_score: 0.7053\n",
      "Epoch 4/1000\n",
      "135/135 [==============================] - ETA: 0s - loss: 0.6342 - accuracy: 0.8060 - f1_score: 0.7772\n",
      "Epoch 00004: val_accuracy improved from 0.74421 to 0.76738, saving model to ./model_save/acblstm_model/AC-BLSTM_pt_radam_w2v/weights.h5\n",
      "135/135 [==============================] - 21s 158ms/step - loss: 0.6342 - accuracy: 0.8060 - f1_score: 0.7772 - val_loss: 0.7752 - val_accuracy: 0.7674 - val_f1_score: 0.7208\n",
      "Epoch 5/1000\n",
      "135/135 [==============================] - ETA: 0s - loss: 0.4616 - accuracy: 0.8546 - f1_score: 0.8354\n",
      "Epoch 00005: val_accuracy did not improve from 0.76738\n",
      "135/135 [==============================] - 21s 154ms/step - loss: 0.4616 - accuracy: 0.8546 - f1_score: 0.8354 - val_loss: 0.7856 - val_accuracy: 0.7669 - val_f1_score: 0.7216\n",
      "Epoch 6/1000\n",
      "135/135 [==============================] - ETA: 0s - loss: 0.3454 - accuracy: 0.8884 - f1_score: 0.8686\n",
      "Epoch 00006: val_accuracy improved from 0.76738 to 0.78313, saving model to ./model_save/acblstm_model/AC-BLSTM_pt_radam_w2v/weights.h5\n",
      "135/135 [==============================] - 21s 157ms/step - loss: 0.3454 - accuracy: 0.8884 - f1_score: 0.8686 - val_loss: 0.7509 - val_accuracy: 0.7831 - val_f1_score: 0.7408\n",
      "Epoch 7/1000\n",
      "135/135 [==============================] - ETA: 0s - loss: 0.2479 - accuracy: 0.9189 - f1_score: 0.9095\n",
      "Epoch 00007: val_accuracy did not improve from 0.78313\n",
      "135/135 [==============================] - 21s 154ms/step - loss: 0.2479 - accuracy: 0.9189 - f1_score: 0.9095 - val_loss: 0.7792 - val_accuracy: 0.7794 - val_f1_score: 0.7433\n",
      "Epoch 8/1000\n",
      "135/135 [==============================] - ETA: 0s - loss: 0.2187 - accuracy: 0.9303 - f1_score: 0.9228\n",
      "Epoch 00008: val_accuracy improved from 0.78313 to 0.79425, saving model to ./model_save/acblstm_model/AC-BLSTM_pt_radam_w2v/weights.h5\n",
      "135/135 [==============================] - 21s 157ms/step - loss: 0.2187 - accuracy: 0.9303 - f1_score: 0.9228 - val_loss: 0.7599 - val_accuracy: 0.7943 - val_f1_score: 0.7588\n",
      "Epoch 9/1000\n",
      "135/135 [==============================] - ETA: 0s - loss: 0.1613 - accuracy: 0.9477 - f1_score: 0.9409\n",
      "Epoch 00009: val_accuracy improved from 0.79425 to 0.80213, saving model to ./model_save/acblstm_model/AC-BLSTM_pt_radam_w2v/weights.h5\n",
      "135/135 [==============================] - 21s 157ms/step - loss: 0.1613 - accuracy: 0.9477 - f1_score: 0.9409 - val_loss: 0.7522 - val_accuracy: 0.8021 - val_f1_score: 0.7662\n",
      "Epoch 10/1000\n",
      "135/135 [==============================] - ETA: 0s - loss: 0.1397 - accuracy: 0.9560 - f1_score: 0.9536\n",
      "Epoch 00010: val_accuracy did not improve from 0.80213\n",
      "135/135 [==============================] - 21s 154ms/step - loss: 0.1397 - accuracy: 0.9560 - f1_score: 0.9536 - val_loss: 0.7843 - val_accuracy: 0.8021 - val_f1_score: 0.7679\n",
      "Epoch 11/1000\n",
      "135/135 [==============================] - ETA: 0s - loss: 0.1062 - accuracy: 0.9651 - f1_score: 0.9610\n",
      "Epoch 00011: val_accuracy did not improve from 0.80213\n",
      "135/135 [==============================] - 21s 156ms/step - loss: 0.1062 - accuracy: 0.9651 - f1_score: 0.9610 - val_loss: 0.8205 - val_accuracy: 0.7984 - val_f1_score: 0.7708\n",
      "Epoch 12/1000\n",
      "135/135 [==============================] - ETA: 0s - loss: 0.1005 - accuracy: 0.9663 - f1_score: 0.9635\n",
      "Epoch 00012: val_accuracy did not improve from 0.80213\n",
      "135/135 [==============================] - 21s 153ms/step - loss: 0.1005 - accuracy: 0.9663 - f1_score: 0.9635 - val_loss: 0.8555 - val_accuracy: 0.7929 - val_f1_score: 0.7559\n",
      "Epoch 13/1000\n",
      "135/135 [==============================] - ETA: 0s - loss: 0.1059 - accuracy: 0.9670 - f1_score: 0.9631\n",
      "Epoch 00013: val_accuracy improved from 0.80213 to 0.81047, saving model to ./model_save/acblstm_model/AC-BLSTM_pt_radam_w2v/weights.h5\n",
      "135/135 [==============================] - 21s 159ms/step - loss: 0.1059 - accuracy: 0.9670 - f1_score: 0.9631 - val_loss: 0.8140 - val_accuracy: 0.8105 - val_f1_score: 0.7797\n",
      "Epoch 14/1000\n",
      "135/135 [==============================] - ETA: 0s - loss: 0.1012 - accuracy: 0.9659 - f1_score: 0.9597\n",
      "Epoch 00014: val_accuracy did not improve from 0.81047\n",
      "135/135 [==============================] - 21s 153ms/step - loss: 0.1012 - accuracy: 0.9659 - f1_score: 0.9597 - val_loss: 0.8680 - val_accuracy: 0.7882 - val_f1_score: 0.7411\n",
      "Epoch 15/1000\n",
      "135/135 [==============================] - ETA: 0s - loss: 0.0901 - accuracy: 0.9718 - f1_score: 0.9698\n",
      "Epoch 00015: val_accuracy did not improve from 0.81047\n",
      "135/135 [==============================] - 21s 153ms/step - loss: 0.0901 - accuracy: 0.9718 - f1_score: 0.9698 - val_loss: 0.9120 - val_accuracy: 0.7924 - val_f1_score: 0.7628\n",
      "Epoch 16/1000\n",
      "135/135 [==============================] - ETA: 0s - loss: 0.0826 - accuracy: 0.9738 - f1_score: 0.9712\n",
      "Epoch 00016: val_accuracy improved from 0.81047 to 0.81511, saving model to ./model_save/acblstm_model/AC-BLSTM_pt_radam_w2v/weights.h5\n",
      "135/135 [==============================] - 21s 156ms/step - loss: 0.0826 - accuracy: 0.9738 - f1_score: 0.9712 - val_loss: 0.8502 - val_accuracy: 0.8151 - val_f1_score: 0.7812\n",
      "Epoch 17/1000\n",
      "135/135 [==============================] - ETA: 0s - loss: 0.1003 - accuracy: 0.9696 - f1_score: 0.9669\n",
      "Epoch 00017: val_accuracy did not improve from 0.81511\n",
      "135/135 [==============================] - 21s 154ms/step - loss: 0.1003 - accuracy: 0.9696 - f1_score: 0.9669 - val_loss: 0.9436 - val_accuracy: 0.8021 - val_f1_score: 0.7704\n",
      "Epoch 18/1000\n",
      "135/135 [==============================] - ETA: 0s - loss: 0.0801 - accuracy: 0.9754 - f1_score: 0.9714\n",
      "Epoch 00018: val_accuracy did not improve from 0.81511\n",
      "135/135 [==============================] - 21s 154ms/step - loss: 0.0801 - accuracy: 0.9754 - f1_score: 0.9714 - val_loss: 0.8642 - val_accuracy: 0.8012 - val_f1_score: 0.7648\n",
      "Epoch 19/1000\n",
      "135/135 [==============================] - ETA: 0s - loss: 0.0725 - accuracy: 0.9780 - f1_score: 0.9769\n",
      "Epoch 00019: val_accuracy did not improve from 0.81511\n",
      "135/135 [==============================] - 21s 153ms/step - loss: 0.0725 - accuracy: 0.9780 - f1_score: 0.9769 - val_loss: 0.9483 - val_accuracy: 0.7994 - val_f1_score: 0.7658\n"
     ]
    },
    {
     "name": "stdout",
     "output_type": "stream",
     "text": [
      "Epoch 20/1000\n",
      "135/135 [==============================] - ETA: 0s - loss: 0.0987 - accuracy: 0.9662 - f1_score: 0.9635\n",
      "Epoch 00020: val_accuracy did not improve from 0.81511\n",
      "135/135 [==============================] - 21s 153ms/step - loss: 0.0987 - accuracy: 0.9662 - f1_score: 0.9635 - val_loss: 1.0252 - val_accuracy: 0.7887 - val_f1_score: 0.7525\n",
      "Epoch 21/1000\n",
      "135/135 [==============================] - ETA: 0s - loss: 0.1016 - accuracy: 0.9692 - f1_score: 0.9653\n",
      "Epoch 00021: val_accuracy did not improve from 0.81511\n",
      "135/135 [==============================] - 21s 153ms/step - loss: 0.1016 - accuracy: 0.9692 - f1_score: 0.9653 - val_loss: 0.8621 - val_accuracy: 0.8095 - val_f1_score: 0.7740\n",
      "Epoch 22/1000\n",
      "135/135 [==============================] - ETA: 0s - loss: 0.0802 - accuracy: 0.9736 - f1_score: 0.9701\n",
      "Epoch 00022: val_accuracy did not improve from 0.81511\n",
      "135/135 [==============================] - 21s 153ms/step - loss: 0.0802 - accuracy: 0.9736 - f1_score: 0.9701 - val_loss: 0.9297 - val_accuracy: 0.8082 - val_f1_score: 0.7756\n",
      "Epoch 23/1000\n",
      "135/135 [==============================] - ETA: 0s - loss: 0.0770 - accuracy: 0.9761 - f1_score: 0.9734\n",
      "Epoch 00023: val_accuracy did not improve from 0.81511\n",
      "135/135 [==============================] - 21s 153ms/step - loss: 0.0770 - accuracy: 0.9761 - f1_score: 0.9734 - val_loss: 0.8941 - val_accuracy: 0.8123 - val_f1_score: 0.7777\n",
      "Epoch 24/1000\n",
      "135/135 [==============================] - ETA: 0s - loss: 0.0785 - accuracy: 0.9750 - f1_score: 0.9716\n",
      "Epoch 00024: val_accuracy improved from 0.81511 to 0.81557, saving model to ./model_save/acblstm_model/AC-BLSTM_pt_radam_w2v/weights.h5\n",
      "135/135 [==============================] - 21s 159ms/step - loss: 0.0785 - accuracy: 0.9750 - f1_score: 0.9716 - val_loss: 0.8458 - val_accuracy: 0.8156 - val_f1_score: 0.7852\n",
      "Epoch 25/1000\n",
      "135/135 [==============================] - ETA: 0s - loss: 0.0631 - accuracy: 0.9804 - f1_score: 0.9789\n",
      "Epoch 00025: val_accuracy did not improve from 0.81557\n",
      "135/135 [==============================] - 21s 154ms/step - loss: 0.0631 - accuracy: 0.9804 - f1_score: 0.9789 - val_loss: 0.9097 - val_accuracy: 0.8156 - val_f1_score: 0.7902\n",
      "Epoch 26/1000\n",
      "135/135 [==============================] - ETA: 0s - loss: 0.0866 - accuracy: 0.9738 - f1_score: 0.9696\n",
      "Epoch 00026: val_accuracy did not improve from 0.81557\n",
      "135/135 [==============================] - 21s 153ms/step - loss: 0.0866 - accuracy: 0.9738 - f1_score: 0.9696 - val_loss: 0.9478 - val_accuracy: 0.8031 - val_f1_score: 0.7562\n",
      "Epoch 27/1000\n",
      "135/135 [==============================] - ETA: 0s - loss: 0.0891 - accuracy: 0.9720 - f1_score: 0.9665\n",
      "Epoch 00027: val_accuracy improved from 0.81557 to 0.82437, saving model to ./model_save/acblstm_model/AC-BLSTM_pt_radam_w2v/weights.h5\n",
      "135/135 [==============================] - 21s 156ms/step - loss: 0.0891 - accuracy: 0.9720 - f1_score: 0.9665 - val_loss: 0.8793 - val_accuracy: 0.8244 - val_f1_score: 0.7944\n",
      "Epoch 28/1000\n",
      "135/135 [==============================] - ETA: 0s - loss: 0.0673 - accuracy: 0.9783 - f1_score: 0.9744\n",
      "Epoch 00028: val_accuracy did not improve from 0.82437\n",
      "135/135 [==============================] - 21s 153ms/step - loss: 0.0673 - accuracy: 0.9783 - f1_score: 0.9744 - val_loss: 0.9531 - val_accuracy: 0.8216 - val_f1_score: 0.7932\n",
      "Epoch 29/1000\n",
      "135/135 [==============================] - ETA: 0s - loss: 0.0834 - accuracy: 0.9756 - f1_score: 0.9723\n",
      "Epoch 00029: val_accuracy improved from 0.82437 to 0.82576, saving model to ./model_save/acblstm_model/AC-BLSTM_pt_radam_w2v/weights.h5\n",
      "135/135 [==============================] - 21s 156ms/step - loss: 0.0834 - accuracy: 0.9756 - f1_score: 0.9723 - val_loss: 0.8541 - val_accuracy: 0.8258 - val_f1_score: 0.7939\n",
      "Epoch 30/1000\n",
      "135/135 [==============================] - ETA: 0s - loss: 0.0701 - accuracy: 0.9788 - f1_score: 0.9765\n",
      "Epoch 00030: val_accuracy did not improve from 0.82576\n",
      "135/135 [==============================] - 21s 154ms/step - loss: 0.0701 - accuracy: 0.9788 - f1_score: 0.9765 - val_loss: 0.8849 - val_accuracy: 0.8211 - val_f1_score: 0.7944\n",
      "Epoch 31/1000\n",
      "135/135 [==============================] - ETA: 0s - loss: 0.0713 - accuracy: 0.9773 - f1_score: 0.9736\n",
      "Epoch 00031: val_accuracy improved from 0.82576 to 0.82994, saving model to ./model_save/acblstm_model/AC-BLSTM_pt_radam_w2v/weights.h5\n",
      "135/135 [==============================] - 21s 156ms/step - loss: 0.0713 - accuracy: 0.9773 - f1_score: 0.9736 - val_loss: 0.8394 - val_accuracy: 0.8299 - val_f1_score: 0.8035\n",
      "Epoch 32/1000\n",
      "135/135 [==============================] - ETA: 0s - loss: 0.0656 - accuracy: 0.9786 - f1_score: 0.9765\n",
      "Epoch 00032: val_accuracy did not improve from 0.82994\n",
      "135/135 [==============================] - 21s 154ms/step - loss: 0.0656 - accuracy: 0.9786 - f1_score: 0.9765 - val_loss: 0.9608 - val_accuracy: 0.8151 - val_f1_score: 0.7844\n",
      "Epoch 33/1000\n",
      "135/135 [==============================] - ETA: 0s - loss: 0.0598 - accuracy: 0.9834 - f1_score: 0.9803\n",
      "Epoch 00033: val_accuracy did not improve from 0.82994\n",
      "135/135 [==============================] - 21s 153ms/step - loss: 0.0598 - accuracy: 0.9834 - f1_score: 0.9803 - val_loss: 0.9754 - val_accuracy: 0.8174 - val_f1_score: 0.7781\n",
      "Epoch 34/1000\n",
      "135/135 [==============================] - ETA: 0s - loss: 0.0519 - accuracy: 0.9840 - f1_score: 0.9840\n",
      "Epoch 00034: val_accuracy did not improve from 0.82994\n",
      "135/135 [==============================] - 21s 154ms/step - loss: 0.0519 - accuracy: 0.9840 - f1_score: 0.9840 - val_loss: 1.0034 - val_accuracy: 0.8272 - val_f1_score: 0.8069\n",
      "Epoch 35/1000\n",
      "135/135 [==============================] - ETA: 0s - loss: 0.0561 - accuracy: 0.9825 - f1_score: 0.9810\n",
      "Epoch 00035: val_accuracy improved from 0.82994 to 0.83225, saving model to ./model_save/acblstm_model/AC-BLSTM_pt_radam_w2v/weights.h5\n",
      "135/135 [==============================] - 22s 160ms/step - loss: 0.0561 - accuracy: 0.9825 - f1_score: 0.9810 - val_loss: 0.9775 - val_accuracy: 0.8323 - val_f1_score: 0.8037\n",
      "Epoch 36/1000\n",
      "135/135 [==============================] - ETA: 0s - loss: 0.0777 - accuracy: 0.9758 - f1_score: 0.9754\n",
      "Epoch 00036: val_accuracy did not improve from 0.83225\n",
      "135/135 [==============================] - 21s 154ms/step - loss: 0.0777 - accuracy: 0.9758 - f1_score: 0.9754 - val_loss: 0.9856 - val_accuracy: 0.8170 - val_f1_score: 0.7904\n",
      "Epoch 37/1000\n",
      "135/135 [==============================] - ETA: 0s - loss: 0.0565 - accuracy: 0.9837 - f1_score: 0.9804\n",
      "Epoch 00037: val_accuracy improved from 0.83225 to 0.83503, saving model to ./model_save/acblstm_model/AC-BLSTM_pt_radam_w2v/weights.h5\n",
      "135/135 [==============================] - 21s 157ms/step - loss: 0.0565 - accuracy: 0.9837 - f1_score: 0.9804 - val_loss: 0.9175 - val_accuracy: 0.8350 - val_f1_score: 0.8079\n",
      "Epoch 38/1000\n",
      "135/135 [==============================] - ETA: 0s - loss: 0.0637 - accuracy: 0.9811 - f1_score: 0.9781\n",
      "Epoch 00038: val_accuracy did not improve from 0.83503\n",
      "135/135 [==============================] - 21s 154ms/step - loss: 0.0637 - accuracy: 0.9811 - f1_score: 0.9781 - val_loss: 0.9560 - val_accuracy: 0.8272 - val_f1_score: 0.7961\n",
      "Epoch 39/1000\n",
      "135/135 [==============================] - ETA: 0s - loss: 0.0769 - accuracy: 0.9746 - f1_score: 0.9692\n",
      "Epoch 00039: val_accuracy did not improve from 0.83503\n",
      "135/135 [==============================] - 21s 154ms/step - loss: 0.0769 - accuracy: 0.9746 - f1_score: 0.9692 - val_loss: 0.9874 - val_accuracy: 0.8323 - val_f1_score: 0.7986\n",
      "Epoch 40/1000\n",
      "135/135 [==============================] - ETA: 0s - loss: 0.0841 - accuracy: 0.9740 - f1_score: 0.9632\n",
      "Epoch 00040: val_accuracy improved from 0.83503 to 0.84152, saving model to ./model_save/acblstm_model/AC-BLSTM_pt_radam_w2v/weights.h5\n",
      "135/135 [==============================] - 21s 157ms/step - loss: 0.0841 - accuracy: 0.9740 - f1_score: 0.9632 - val_loss: 0.8979 - val_accuracy: 0.8415 - val_f1_score: 0.8157\n",
      "Epoch 41/1000\n",
      "135/135 [==============================] - ETA: 0s - loss: 0.0407 - accuracy: 0.9878 - f1_score: 0.9858\n",
      "Epoch 00041: val_accuracy improved from 0.84152 to 0.84523, saving model to ./model_save/acblstm_model/AC-BLSTM_pt_radam_w2v/weights.h5\n",
      "135/135 [==============================] - 21s 158ms/step - loss: 0.0407 - accuracy: 0.9878 - f1_score: 0.9858 - val_loss: 0.9700 - val_accuracy: 0.8452 - val_f1_score: 0.8203\n"
     ]
    },
    {
     "name": "stdout",
     "output_type": "stream",
     "text": [
      "Epoch 42/1000\n",
      "135/135 [==============================] - ETA: 0s - loss: 0.0493 - accuracy: 0.9849 - f1_score: 0.9832\n",
      "Epoch 00042: val_accuracy did not improve from 0.84523\n",
      "135/135 [==============================] - 21s 154ms/step - loss: 0.0493 - accuracy: 0.9849 - f1_score: 0.9832 - val_loss: 0.9461 - val_accuracy: 0.8369 - val_f1_score: 0.8108\n",
      "Epoch 43/1000\n",
      "135/135 [==============================] - ETA: 0s - loss: 0.0491 - accuracy: 0.9851 - f1_score: 0.9833\n",
      "Epoch 00043: val_accuracy did not improve from 0.84523\n",
      "135/135 [==============================] - 21s 153ms/step - loss: 0.0491 - accuracy: 0.9851 - f1_score: 0.9833 - val_loss: 1.0128 - val_accuracy: 0.8313 - val_f1_score: 0.8019\n",
      "Epoch 44/1000\n",
      "135/135 [==============================] - ETA: 0s - loss: 0.0540 - accuracy: 0.9832 - f1_score: 0.9822\n",
      "Epoch 00044: val_accuracy did not improve from 0.84523\n",
      "135/135 [==============================] - 21s 153ms/step - loss: 0.0540 - accuracy: 0.9832 - f1_score: 0.9822 - val_loss: 0.9451 - val_accuracy: 0.8401 - val_f1_score: 0.8156\n",
      "Epoch 45/1000\n",
      "135/135 [==============================] - ETA: 0s - loss: 0.0412 - accuracy: 0.9871 - f1_score: 0.9855\n",
      "Epoch 00045: val_accuracy did not improve from 0.84523\n",
      "135/135 [==============================] - 21s 154ms/step - loss: 0.0412 - accuracy: 0.9871 - f1_score: 0.9855 - val_loss: 1.0354 - val_accuracy: 0.8341 - val_f1_score: 0.8080\n",
      "Epoch 46/1000\n",
      "135/135 [==============================] - ETA: 0s - loss: 0.0592 - accuracy: 0.9820 - f1_score: 0.9797\n",
      "Epoch 00046: val_accuracy did not improve from 0.84523\n",
      "135/135 [==============================] - 21s 154ms/step - loss: 0.0592 - accuracy: 0.9820 - f1_score: 0.9797 - val_loss: 0.9981 - val_accuracy: 0.8401 - val_f1_score: 0.8087\n",
      "Epoch 47/1000\n",
      "135/135 [==============================] - ETA: 0s - loss: 0.0470 - accuracy: 0.9847 - f1_score: 0.9832\n",
      "Epoch 00047: val_accuracy did not improve from 0.84523\n",
      "135/135 [==============================] - 21s 154ms/step - loss: 0.0470 - accuracy: 0.9847 - f1_score: 0.9832 - val_loss: 0.9341 - val_accuracy: 0.8387 - val_f1_score: 0.8196\n",
      "Epoch 48/1000\n",
      "135/135 [==============================] - ETA: 0s - loss: 0.0393 - accuracy: 0.9881 - f1_score: 0.9851\n",
      "Epoch 00048: val_accuracy improved from 0.84523 to 0.84754, saving model to ./model_save/acblstm_model/AC-BLSTM_pt_radam_w2v/weights.h5\n",
      "135/135 [==============================] - 21s 156ms/step - loss: 0.0393 - accuracy: 0.9881 - f1_score: 0.9851 - val_loss: 1.0410 - val_accuracy: 0.8475 - val_f1_score: 0.8245\n",
      "Epoch 49/1000\n",
      "135/135 [==============================] - ETA: 0s - loss: 0.0462 - accuracy: 0.9851 - f1_score: 0.9802\n",
      "Epoch 00049: val_accuracy did not improve from 0.84754\n",
      "135/135 [==============================] - 21s 158ms/step - loss: 0.0462 - accuracy: 0.9851 - f1_score: 0.9802 - val_loss: 0.9743 - val_accuracy: 0.8443 - val_f1_score: 0.8203\n",
      "Epoch 50/1000\n",
      "135/135 [==============================] - ETA: 0s - loss: 0.0470 - accuracy: 0.9851 - f1_score: 0.9836\n",
      "Epoch 00050: val_accuracy improved from 0.84754 to 0.84986, saving model to ./model_save/acblstm_model/AC-BLSTM_pt_radam_w2v/weights.h5\n",
      "135/135 [==============================] - 21s 156ms/step - loss: 0.0470 - accuracy: 0.9851 - f1_score: 0.9836 - val_loss: 1.0102 - val_accuracy: 0.8499 - val_f1_score: 0.8265\n",
      "Epoch 51/1000\n",
      "135/135 [==============================] - ETA: 0s - loss: 0.0342 - accuracy: 0.9896 - f1_score: 0.9875\n",
      "Epoch 00051: val_accuracy did not improve from 0.84986\n",
      "135/135 [==============================] - 21s 153ms/step - loss: 0.0342 - accuracy: 0.9896 - f1_score: 0.9875 - val_loss: 1.0545 - val_accuracy: 0.8480 - val_f1_score: 0.8289\n",
      "Epoch 52/1000\n",
      "135/135 [==============================] - ETA: 0s - loss: 0.0650 - accuracy: 0.9813 - f1_score: 0.9791\n",
      "Epoch 00052: val_accuracy did not improve from 0.84986\n",
      "135/135 [==============================] - 21s 154ms/step - loss: 0.0650 - accuracy: 0.9813 - f1_score: 0.9791 - val_loss: 0.9989 - val_accuracy: 0.8383 - val_f1_score: 0.8046\n",
      "Epoch 53/1000\n",
      "135/135 [==============================] - ETA: 0s - loss: 0.0636 - accuracy: 0.9804 - f1_score: 0.9768\n",
      "Epoch 00053: val_accuracy did not improve from 0.84986\n",
      "135/135 [==============================] - 21s 153ms/step - loss: 0.0636 - accuracy: 0.9804 - f1_score: 0.9768 - val_loss: 1.0899 - val_accuracy: 0.8424 - val_f1_score: 0.8241\n",
      "Epoch 54/1000\n",
      "135/135 [==============================] - ETA: 0s - loss: 0.0417 - accuracy: 0.9873 - f1_score: 0.9867\n",
      "Epoch 00054: val_accuracy did not improve from 0.84986\n",
      "135/135 [==============================] - 21s 153ms/step - loss: 0.0417 - accuracy: 0.9873 - f1_score: 0.9867 - val_loss: 1.0257 - val_accuracy: 0.8471 - val_f1_score: 0.8275\n",
      "Epoch 55/1000\n",
      "135/135 [==============================] - ETA: 0s - loss: 0.0275 - accuracy: 0.9926 - f1_score: 0.9921\n",
      "Epoch 00055: val_accuracy did not improve from 0.84986\n",
      "135/135 [==============================] - 21s 154ms/step - loss: 0.0275 - accuracy: 0.9926 - f1_score: 0.9921 - val_loss: 1.1500 - val_accuracy: 0.8350 - val_f1_score: 0.8011\n",
      "Epoch 56/1000\n",
      "135/135 [==============================] - ETA: 0s - loss: 0.0377 - accuracy: 0.9902 - f1_score: 0.9884\n",
      "Epoch 00056: val_accuracy did not improve from 0.84986\n",
      "135/135 [==============================] - 21s 154ms/step - loss: 0.0377 - accuracy: 0.9902 - f1_score: 0.9884 - val_loss: 1.1034 - val_accuracy: 0.8383 - val_f1_score: 0.8202\n",
      "Epoch 57/1000\n",
      "135/135 [==============================] - ETA: 0s - loss: 0.0438 - accuracy: 0.9869 - f1_score: 0.9852\n",
      "Epoch 00057: val_accuracy did not improve from 0.84986\n",
      "135/135 [==============================] - 21s 153ms/step - loss: 0.0438 - accuracy: 0.9869 - f1_score: 0.9852 - val_loss: 1.0432 - val_accuracy: 0.8494 - val_f1_score: 0.8194\n",
      "Epoch 58/1000\n",
      "135/135 [==============================] - ETA: 0s - loss: 0.0474 - accuracy: 0.9852 - f1_score: 0.9823\n",
      "Epoch 00058: val_accuracy did not improve from 0.84986\n",
      "135/135 [==============================] - 21s 153ms/step - loss: 0.0474 - accuracy: 0.9852 - f1_score: 0.9823 - val_loss: 1.1746 - val_accuracy: 0.8364 - val_f1_score: 0.8131\n",
      "Epoch 59/1000\n",
      "135/135 [==============================] - ETA: 0s - loss: 0.0614 - accuracy: 0.9819 - f1_score: 0.9793\n",
      "Epoch 00059: val_accuracy did not improve from 0.84986\n",
      "135/135 [==============================] - 21s 154ms/step - loss: 0.0614 - accuracy: 0.9819 - f1_score: 0.9793 - val_loss: 1.1245 - val_accuracy: 0.8401 - val_f1_score: 0.8108\n",
      "Epoch 60/1000\n",
      "135/135 [==============================] - ETA: 0s - loss: 0.0337 - accuracy: 0.9904 - f1_score: 0.9883\n",
      "Epoch 00060: val_accuracy improved from 0.84986 to 0.85449, saving model to ./model_save/acblstm_model/AC-BLSTM_pt_radam_w2v/weights.h5\n",
      "135/135 [==============================] - 21s 157ms/step - loss: 0.0337 - accuracy: 0.9904 - f1_score: 0.9883 - val_loss: 1.0482 - val_accuracy: 0.8545 - val_f1_score: 0.8314\n",
      "Epoch 61/1000\n",
      "135/135 [==============================] - ETA: 0s - loss: 0.0397 - accuracy: 0.9886 - f1_score: 0.9864\n",
      "Epoch 00061: val_accuracy did not improve from 0.85449\n",
      "135/135 [==============================] - 21s 154ms/step - loss: 0.0397 - accuracy: 0.9886 - f1_score: 0.9864 - val_loss: 1.0484 - val_accuracy: 0.8517 - val_f1_score: 0.8316\n",
      "Epoch 62/1000\n",
      "135/135 [==============================] - ETA: 0s - loss: 0.0365 - accuracy: 0.9884 - f1_score: 0.9856\n",
      "Epoch 00062: val_accuracy did not improve from 0.85449\n",
      "135/135 [==============================] - 21s 154ms/step - loss: 0.0365 - accuracy: 0.9884 - f1_score: 0.9856 - val_loss: 1.0221 - val_accuracy: 0.8494 - val_f1_score: 0.8247\n",
      "Epoch 63/1000\n",
      "135/135 [==============================] - ETA: 0s - loss: 0.0322 - accuracy: 0.9899 - f1_score: 0.9874\n",
      "Epoch 00063: val_accuracy did not improve from 0.85449\n",
      "135/135 [==============================] - 21s 154ms/step - loss: 0.0322 - accuracy: 0.9899 - f1_score: 0.9874 - val_loss: 1.0061 - val_accuracy: 0.8503 - val_f1_score: 0.8267\n",
      "Epoch 64/1000\n",
      "135/135 [==============================] - ETA: 0s - loss: 0.0452 - accuracy: 0.9891 - f1_score: 0.9861\n",
      "Epoch 00064: val_accuracy did not improve from 0.85449\n",
      "135/135 [==============================] - 21s 153ms/step - loss: 0.0452 - accuracy: 0.9891 - f1_score: 0.9861 - val_loss: 1.0914 - val_accuracy: 0.8392 - val_f1_score: 0.8147\n"
     ]
    },
    {
     "name": "stdout",
     "output_type": "stream",
     "text": [
      "Epoch 65/1000\n",
      "135/135 [==============================] - ETA: 0s - loss: 0.0541 - accuracy: 0.9830 - f1_score: 0.9784\n",
      "Epoch 00065: val_accuracy did not improve from 0.85449\n",
      "135/135 [==============================] - 21s 154ms/step - loss: 0.0541 - accuracy: 0.9830 - f1_score: 0.9784 - val_loss: 1.1468 - val_accuracy: 0.8415 - val_f1_score: 0.8148\n",
      "Epoch 66/1000\n",
      "135/135 [==============================] - ETA: 0s - loss: 0.0344 - accuracy: 0.9903 - f1_score: 0.9880\n",
      "Epoch 00066: val_accuracy did not improve from 0.85449\n",
      "135/135 [==============================] - 21s 154ms/step - loss: 0.0344 - accuracy: 0.9903 - f1_score: 0.9880 - val_loss: 1.2272 - val_accuracy: 0.8355 - val_f1_score: 0.8125\n",
      "Epoch 67/1000\n",
      "135/135 [==============================] - ETA: 0s - loss: 0.0291 - accuracy: 0.9906 - f1_score: 0.9872\n",
      "Epoch 00067: val_accuracy did not improve from 0.85449\n",
      "135/135 [==============================] - 21s 154ms/step - loss: 0.0291 - accuracy: 0.9906 - f1_score: 0.9872 - val_loss: 1.1877 - val_accuracy: 0.8369 - val_f1_score: 0.8114\n",
      "Epoch 68/1000\n",
      "135/135 [==============================] - ETA: 0s - loss: 0.0372 - accuracy: 0.9895 - f1_score: 0.9875\n",
      "Epoch 00068: val_accuracy did not improve from 0.85449\n",
      "135/135 [==============================] - 21s 154ms/step - loss: 0.0372 - accuracy: 0.9895 - f1_score: 0.9875 - val_loss: 1.1635 - val_accuracy: 0.8448 - val_f1_score: 0.8179\n",
      "Epoch 69/1000\n",
      "135/135 [==============================] - ETA: 0s - loss: 0.0300 - accuracy: 0.9904 - f1_score: 0.9892\n",
      "Epoch 00069: val_accuracy did not improve from 0.85449\n",
      "135/135 [==============================] - 21s 154ms/step - loss: 0.0300 - accuracy: 0.9904 - f1_score: 0.9892 - val_loss: 1.1386 - val_accuracy: 0.8531 - val_f1_score: 0.8362\n",
      "Epoch 70/1000\n",
      "135/135 [==============================] - ETA: 0s - loss: 0.0245 - accuracy: 0.9922 - f1_score: 0.9913\n",
      "Epoch 00070: val_accuracy did not improve from 0.85449\n",
      "135/135 [==============================] - 21s 154ms/step - loss: 0.0245 - accuracy: 0.9922 - f1_score: 0.9913 - val_loss: 1.1262 - val_accuracy: 0.8480 - val_f1_score: 0.8259\n"
     ]
    }
   ],
   "source": [
    "model, histroy = acblstm_train_w2v.train(train_X, train_YS)"
   ]
  },
  {
   "cell_type": "code",
   "execution_count": 21,
   "metadata": {
    "colab": {
     "base_uri": "https://localhost:8080/",
     "height": 804
    },
    "colab_type": "code",
    "executionInfo": {
     "elapsed": 712491,
     "status": "ok",
     "timestamp": 1591920612023,
     "user": {
      "displayName": "이명훈",
      "photoUrl": "",
      "userId": "07271482681718000858"
     },
     "user_tz": -540
    },
    "id": "h29wqANLqU6C",
    "outputId": "ee93b649-7f69-4522-d0c5-c233e5c7b770"
   },
   "outputs": [
    {
     "data": {
      "image/png": "[encoded data removed]",
      "text/plain": [
       "<Figure size 432x288 with 1 Axes>"
      ]
     },
     "metadata": {
      "needs_background": "light"
     },
     "output_type": "display_data"
    },
    {
     "data": {
      "image/png": "[encoded data removed]",
      "text/plain": [
       "<Figure size 432x288 with 1 Axes>"
      ]
     },
     "metadata": {
      "needs_background": "light"
     },
     "output_type": "display_data"
    },
    {
     "data": {
      "image/png": "[encoded data removed]",
      "text/plain": [
       "<Figure size 432x288 with 1 Axes>"
      ]
     },
     "metadata": {
      "needs_background": "light"
     },
     "output_type": "display_data"
    }
   ],
   "source": [
    "acblstm_train_w2v.train_plot(model, histroy)"
   ]
  },
  {
   "cell_type": "code",
   "execution_count": 22,
   "metadata": {
    "colab": {
     "base_uri": "https://localhost:8080/",
     "height": 34
    },
    "colab_type": "code",
    "executionInfo": {
     "elapsed": 714811,
     "status": "ok",
     "timestamp": 1591920615105,
     "user": {
      "displayName": "이명훈",
      "photoUrl": "",
      "userId": "07271482681718000858"
     },
     "user_tz": -540
    },
    "id": "OetOhIYtqU6H",
    "outputId": "4e36d420-7dcd-4d6d-9b71-65d0e546e95e"
   },
   "outputs": [
    {
     "name": "stdout",
     "output_type": "stream",
     "text": [
      "145/145 [==============================] - 4s 26ms/step - loss: 0.9493 - accuracy: 0.8648 - f1_score: 0.8414\n"
     ]
    }
   ],
   "source": [
    "acblstm_train_w2v.evaluation(model, test_X, test_YS)"
   ]
  },
  {
   "cell_type": "markdown",
   "metadata": {
    "colab_type": "text",
    "id": "z_6g0A9dqU6L"
   },
   "source": [
    "## 05 AC-BLSTM w2v-pretrained"
   ]
  },
  {
   "cell_type": "markdown",
   "metadata": {
    "colab_type": "text",
    "id": "NkgWe6L5qU6M"
   },
   "source": [
    "### optimizer adam"
   ]
  },
  {
   "cell_type": "code",
   "execution_count": 23,
   "metadata": {
    "colab": {
     "base_uri": "https://localhost:8080/",
     "height": 122
    },
    "colab_type": "code",
    "executionInfo": {
     "elapsed": 1227,
     "status": "ok",
     "timestamp": 1591918558307,
     "user": {
      "displayName": "이명훈",
      "photoUrl": "",
      "userId": "07271482681718000858"
     },
     "user_tz": -540
    },
    "id": "s3KO1uDsqU6N",
    "outputId": "34d7ee13-036c-4ce8-9fc7-400e82959b4e"
   },
   "outputs": [
    {
     "name": "stdout",
     "output_type": "stream",
     "text": [
      "big_class\n",
      "output_dim :  43\n",
      "./model_save/acblstm_model/\n",
      "word index size :  30079\n",
      "28173 1905\n",
      "train_mode : pt, optimizer : adam, pre-trained_mode : pt_w2v, model_name : AC-BLSTM_pt_adam_pt_w2v\n"
     ]
    }
   ],
   "source": [
    "acblstm_train_pt_w2v = ACBLSTMTrain(vocab_size=vocab_size, \n",
    "                                          train_mode='pt', \n",
    "                                          embedding_matrix=pre_trained_w2v,\n",
    "                                          word_index=word_index,\n",
    "                                          pre_trained_mode='pt_w2v')"
   ]
  },
  {
   "cell_type": "code",
   "execution_count": 24,
   "metadata": {
    "colab": {
     "base_uri": "https://localhost:8080/",
     "height": 1000
    },
    "colab_type": "code",
    "executionInfo": {
     "elapsed": 281530,
     "status": "ok",
     "timestamp": 1591918841112,
     "user": {
      "displayName": "이명훈",
      "photoUrl": "",
      "userId": "07271482681718000858"
     },
     "user_tz": -540
    },
    "id": "No_VwCXeqU6U",
    "outputId": "e467c745-0e50-44b6-8a92-d1f26361d4b6",
    "scrolled": true
   },
   "outputs": [
    {
     "name": "stdout",
     "output_type": "stream",
     "text": [
      "{'vocab_size': 30079, 'embedding_size': 300, 'num_filters': 128, 'dropout_rate': 0.5, 'lstm_dimension': 256, 'hidden_dimension': 128, 'train_mode': 'pt', 'output_dimension': 43, 'model_name': 'AC-BLSTM_pt_adam_pt_w2v', 'embedding_matrix': array([[ 0.        ,  0.        ,  0.        , ...,  0.        ,\n",
      "         0.        ,  0.        ],\n",
      "       [-0.1215607 ,  0.20265704, -0.1296849 , ..., -0.25743967,\n",
      "        -0.44502595, -0.15552975],\n",
      "       [-0.07061617,  0.60541958,  0.0075527 , ...,  0.00845565,\n",
      "        -0.01567723, -0.02487615],\n",
      "       ...,\n",
      "       [-0.73014832,  0.27339637, -0.06521773, ..., -0.30837446,\n",
      "         0.41687673, -0.36610672],\n",
      "       [-0.78842098, -0.6107676 , -0.37505671, ...,  0.14378503,\n",
      "        -0.27998501, -0.66035861],\n",
      "       [-0.59498692,  0.02842285,  0.46921459, ..., -0.48162848,\n",
      "        -0.31085017, -0.19220926]])}\n",
      "./model_save/acblstm_model/AC-BLSTM_pt_adam_pt_w2v -- Folder create complete \n",
      "\n",
      "callback set\n",
      "Epoch 1/1000\n",
      "135/135 [==============================] - ETA: 0s - loss: 2.1971 - accuracy: 0.4231 - f1_score: 0.3299\n",
      "Epoch 00001: val_accuracy improved from -inf to 0.67516, saving model to ./model_save/acblstm_model/AC-BLSTM_pt_adam_pt_w2v/weights.h5\n",
      "135/135 [==============================] - 13s 95ms/step - loss: 2.1971 - accuracy: 0.4231 - f1_score: 0.3299 - val_loss: 1.1867 - val_accuracy: 0.6752 - val_f1_score: 0.5756\n",
      "Epoch 2/1000\n",
      "135/135 [==============================] - ETA: 0s - loss: 0.8474 - accuracy: 0.7473 - f1_score: 0.6842\n",
      "Epoch 00002: val_accuracy improved from 0.67516 to 0.75070, saving model to ./model_save/acblstm_model/AC-BLSTM_pt_adam_pt_w2v/weights.h5\n",
      "135/135 [==============================] - 12s 91ms/step - loss: 0.8474 - accuracy: 0.7473 - f1_score: 0.6842 - val_loss: 0.8976 - val_accuracy: 0.7507 - val_f1_score: 0.6817\n",
      "Epoch 3/1000\n",
      "135/135 [==============================] - ETA: 0s - loss: 0.4829 - accuracy: 0.8509 - f1_score: 0.8166\n",
      "Epoch 00003: val_accuracy improved from 0.75070 to 0.80445, saving model to ./model_save/acblstm_model/AC-BLSTM_pt_adam_pt_w2v/weights.h5\n",
      "135/135 [==============================] - 12s 91ms/step - loss: 0.4829 - accuracy: 0.8509 - f1_score: 0.8166 - val_loss: 0.7060 - val_accuracy: 0.8044 - val_f1_score: 0.7572\n",
      "Epoch 4/1000\n",
      "135/135 [==============================] - ETA: 0s - loss: 0.2727 - accuracy: 0.9170 - f1_score: 0.8992\n",
      "Epoch 00004: val_accuracy improved from 0.80445 to 0.80769, saving model to ./model_save/acblstm_model/AC-BLSTM_pt_adam_pt_w2v/weights.h5\n",
      "135/135 [==============================] - 12s 90ms/step - loss: 0.2727 - accuracy: 0.9170 - f1_score: 0.8992 - val_loss: 0.7451 - val_accuracy: 0.8077 - val_f1_score: 0.7703\n",
      "Epoch 5/1000\n",
      "135/135 [==============================] - ETA: 0s - loss: 0.1694 - accuracy: 0.9435 - f1_score: 0.9320\n",
      "Epoch 00005: val_accuracy improved from 0.80769 to 0.82252, saving model to ./model_save/acblstm_model/AC-BLSTM_pt_adam_pt_w2v/weights.h5\n",
      "135/135 [==============================] - 12s 90ms/step - loss: 0.1694 - accuracy: 0.9435 - f1_score: 0.9320 - val_loss: 0.7093 - val_accuracy: 0.8225 - val_f1_score: 0.7804\n",
      "Epoch 6/1000\n",
      "135/135 [==============================] - ETA: 0s - loss: 0.1069 - accuracy: 0.9672 - f1_score: 0.9631\n",
      "Epoch 00006: val_accuracy improved from 0.82252 to 0.83086, saving model to ./model_save/acblstm_model/AC-BLSTM_pt_adam_pt_w2v/weights.h5\n",
      "135/135 [==============================] - 12s 91ms/step - loss: 0.1069 - accuracy: 0.9672 - f1_score: 0.9631 - val_loss: 0.7488 - val_accuracy: 0.8309 - val_f1_score: 0.7956\n",
      "Epoch 7/1000\n",
      "135/135 [==============================] - ETA: 0s - loss: 0.0940 - accuracy: 0.9712 - f1_score: 0.9673\n",
      "Epoch 00007: val_accuracy improved from 0.83086 to 0.83133, saving model to ./model_save/acblstm_model/AC-BLSTM_pt_adam_pt_w2v/weights.h5\n",
      "135/135 [==============================] - 12s 91ms/step - loss: 0.0940 - accuracy: 0.9712 - f1_score: 0.9673 - val_loss: 0.7845 - val_accuracy: 0.8313 - val_f1_score: 0.7971\n",
      "Epoch 8/1000\n",
      "135/135 [==============================] - ETA: 0s - loss: 0.0821 - accuracy: 0.9740 - f1_score: 0.9706\n",
      "Epoch 00008: val_accuracy improved from 0.83133 to 0.83272, saving model to ./model_save/acblstm_model/AC-BLSTM_pt_adam_pt_w2v/weights.h5\n",
      "135/135 [==============================] - 12s 91ms/step - loss: 0.0821 - accuracy: 0.9740 - f1_score: 0.9706 - val_loss: 0.8022 - val_accuracy: 0.8327 - val_f1_score: 0.7988\n",
      "Epoch 9/1000\n",
      "135/135 [==============================] - ETA: 0s - loss: 0.0641 - accuracy: 0.9787 - f1_score: 0.9759\n",
      "Epoch 00009: val_accuracy did not improve from 0.83272\n",
      "135/135 [==============================] - 12s 88ms/step - loss: 0.0641 - accuracy: 0.9787 - f1_score: 0.9759 - val_loss: 0.8317 - val_accuracy: 0.8262 - val_f1_score: 0.7874\n",
      "Epoch 10/1000\n",
      "135/135 [==============================] - ETA: 0s - loss: 0.0698 - accuracy: 0.9772 - f1_score: 0.9725\n",
      "Epoch 00010: val_accuracy improved from 0.83272 to 0.83642, saving model to ./model_save/acblstm_model/AC-BLSTM_pt_adam_pt_w2v/weights.h5\n",
      "135/135 [==============================] - 12s 91ms/step - loss: 0.0698 - accuracy: 0.9772 - f1_score: 0.9725 - val_loss: 0.7581 - val_accuracy: 0.8364 - val_f1_score: 0.7939\n",
      "Epoch 11/1000\n",
      "135/135 [==============================] - ETA: 0s - loss: 0.0455 - accuracy: 0.9857 - f1_score: 0.9838\n",
      "Epoch 00011: val_accuracy did not improve from 0.83642\n",
      "135/135 [==============================] - 12s 88ms/step - loss: 0.0455 - accuracy: 0.9857 - f1_score: 0.9838 - val_loss: 0.8910 - val_accuracy: 0.8309 - val_f1_score: 0.8036\n",
      "Epoch 12/1000\n",
      "135/135 [==============================] - ETA: 0s - loss: 0.0481 - accuracy: 0.9867 - f1_score: 0.9824\n",
      "Epoch 00012: val_accuracy did not improve from 0.83642\n",
      "135/135 [==============================] - 12s 88ms/step - loss: 0.0481 - accuracy: 0.9867 - f1_score: 0.9824 - val_loss: 0.8956 - val_accuracy: 0.8336 - val_f1_score: 0.7942\n",
      "Epoch 13/1000\n",
      "135/135 [==============================] - ETA: 0s - loss: 0.0641 - accuracy: 0.9798 - f1_score: 0.9743\n",
      "Epoch 00013: val_accuracy improved from 0.83642 to 0.83920, saving model to ./model_save/acblstm_model/AC-BLSTM_pt_adam_pt_w2v/weights.h5\n",
      "135/135 [==============================] - 12s 91ms/step - loss: 0.0641 - accuracy: 0.9798 - f1_score: 0.9743 - val_loss: 0.8736 - val_accuracy: 0.8392 - val_f1_score: 0.8066\n",
      "Epoch 14/1000\n",
      "135/135 [==============================] - ETA: 0s - loss: 0.0587 - accuracy: 0.9847 - f1_score: 0.9821\n",
      "Epoch 00014: val_accuracy did not improve from 0.83920\n",
      "135/135 [==============================] - 12s 87ms/step - loss: 0.0587 - accuracy: 0.9847 - f1_score: 0.9821 - val_loss: 0.8915 - val_accuracy: 0.8318 - val_f1_score: 0.8010\n",
      "Epoch 15/1000\n",
      "135/135 [==============================] - ETA: 0s - loss: 0.0648 - accuracy: 0.9817 - f1_score: 0.9821\n",
      "Epoch 00015: val_accuracy did not improve from 0.83920\n",
      "135/135 [==============================] - 12s 87ms/step - loss: 0.0648 - accuracy: 0.9817 - f1_score: 0.9821 - val_loss: 0.8525 - val_accuracy: 0.8341 - val_f1_score: 0.7999\n",
      "Epoch 16/1000\n",
      "135/135 [==============================] - ETA: 0s - loss: 0.0483 - accuracy: 0.9856 - f1_score: 0.9834\n",
      "Epoch 00016: val_accuracy improved from 0.83920 to 0.84430, saving model to ./model_save/acblstm_model/AC-BLSTM_pt_adam_pt_w2v/weights.h5\n",
      "135/135 [==============================] - 12s 90ms/step - loss: 0.0483 - accuracy: 0.9856 - f1_score: 0.9834 - val_loss: 0.8300 - val_accuracy: 0.8443 - val_f1_score: 0.8092\n",
      "Epoch 17/1000\n",
      "135/135 [==============================] - ETA: 0s - loss: 0.0243 - accuracy: 0.9933 - f1_score: 0.9928\n",
      "Epoch 00017: val_accuracy did not improve from 0.84430\n",
      "135/135 [==============================] - 12s 87ms/step - loss: 0.0243 - accuracy: 0.9933 - f1_score: 0.9928 - val_loss: 0.8378 - val_accuracy: 0.8429 - val_f1_score: 0.8124\n",
      "Epoch 18/1000\n",
      "135/135 [==============================] - ETA: 0s - loss: 0.0341 - accuracy: 0.9898 - f1_score: 0.9876\n",
      "Epoch 00018: val_accuracy improved from 0.84430 to 0.84615, saving model to ./model_save/acblstm_model/AC-BLSTM_pt_adam_pt_w2v/weights.h5\n",
      "135/135 [==============================] - 12s 91ms/step - loss: 0.0341 - accuracy: 0.9898 - f1_score: 0.9876 - val_loss: 0.8986 - val_accuracy: 0.8462 - val_f1_score: 0.8116\n"
     ]
    },
    {
     "name": "stdout",
     "output_type": "stream",
     "text": [
      "Epoch 19/1000\n",
      "135/135 [==============================] - ETA: 0s - loss: 0.0174 - accuracy: 0.9958 - f1_score: 0.9952\n",
      "Epoch 00019: val_accuracy improved from 0.84615 to 0.86006, saving model to ./model_save/acblstm_model/AC-BLSTM_pt_adam_pt_w2v/weights.h5\n",
      "135/135 [==============================] - 12s 90ms/step - loss: 0.0174 - accuracy: 0.9958 - f1_score: 0.9952 - val_loss: 0.8766 - val_accuracy: 0.8601 - val_f1_score: 0.8317\n",
      "Epoch 20/1000\n",
      "135/135 [==============================] - ETA: 0s - loss: 0.0141 - accuracy: 0.9961 - f1_score: 0.9948\n",
      "Epoch 00020: val_accuracy did not improve from 0.86006\n",
      "135/135 [==============================] - 12s 88ms/step - loss: 0.0141 - accuracy: 0.9961 - f1_score: 0.9948 - val_loss: 0.9617 - val_accuracy: 0.8429 - val_f1_score: 0.8143\n",
      "Epoch 21/1000\n",
      "135/135 [==============================] - ETA: 0s - loss: 0.0358 - accuracy: 0.9895 - f1_score: 0.9872\n",
      "Epoch 00021: val_accuracy did not improve from 0.86006\n",
      "135/135 [==============================] - 12s 87ms/step - loss: 0.0358 - accuracy: 0.9895 - f1_score: 0.9872 - val_loss: 1.0335 - val_accuracy: 0.8332 - val_f1_score: 0.7906\n",
      "Epoch 22/1000\n",
      "135/135 [==============================] - ETA: 0s - loss: 0.0748 - accuracy: 0.9784 - f1_score: 0.9722\n",
      "Epoch 00022: val_accuracy did not improve from 0.86006\n",
      "135/135 [==============================] - 12s 88ms/step - loss: 0.0748 - accuracy: 0.9784 - f1_score: 0.9722 - val_loss: 1.0695 - val_accuracy: 0.8230 - val_f1_score: 0.7849\n",
      "Epoch 23/1000\n",
      "135/135 [==============================] - ETA: 0s - loss: 0.0539 - accuracy: 0.9859 - f1_score: 0.9833\n",
      "Epoch 00023: val_accuracy did not improve from 0.86006\n",
      "135/135 [==============================] - 12s 87ms/step - loss: 0.0539 - accuracy: 0.9859 - f1_score: 0.9833 - val_loss: 0.9331 - val_accuracy: 0.8480 - val_f1_score: 0.8204\n",
      "Epoch 24/1000\n",
      "135/135 [==============================] - ETA: 0s - loss: 0.0387 - accuracy: 0.9883 - f1_score: 0.9867\n",
      "Epoch 00024: val_accuracy did not improve from 0.86006\n",
      "135/135 [==============================] - 12s 88ms/step - loss: 0.0387 - accuracy: 0.9883 - f1_score: 0.9867 - val_loss: 0.8928 - val_accuracy: 0.8513 - val_f1_score: 0.8238\n",
      "Epoch 25/1000\n",
      "135/135 [==============================] - ETA: 0s - loss: 0.0291 - accuracy: 0.9920 - f1_score: 0.9904\n",
      "Epoch 00025: val_accuracy did not improve from 0.86006\n",
      "135/135 [==============================] - 12s 88ms/step - loss: 0.0291 - accuracy: 0.9920 - f1_score: 0.9904 - val_loss: 0.9769 - val_accuracy: 0.8536 - val_f1_score: 0.8288\n",
      "Epoch 26/1000\n",
      "135/135 [==============================] - ETA: 0s - loss: 0.0212 - accuracy: 0.9941 - f1_score: 0.9926\n",
      "Epoch 00026: val_accuracy did not improve from 0.86006\n",
      "135/135 [==============================] - 12s 88ms/step - loss: 0.0212 - accuracy: 0.9941 - f1_score: 0.9926 - val_loss: 0.9950 - val_accuracy: 0.8383 - val_f1_score: 0.8058\n",
      "Epoch 27/1000\n",
      "135/135 [==============================] - ETA: 0s - loss: 0.0191 - accuracy: 0.9947 - f1_score: 0.9933\n",
      "Epoch 00027: val_accuracy did not improve from 0.86006\n",
      "135/135 [==============================] - 12s 87ms/step - loss: 0.0191 - accuracy: 0.9947 - f1_score: 0.9933 - val_loss: 1.0568 - val_accuracy: 0.8522 - val_f1_score: 0.8227\n",
      "Epoch 28/1000\n",
      "135/135 [==============================] - ETA: 0s - loss: 0.0211 - accuracy: 0.9932 - f1_score: 0.9911\n",
      "Epoch 00028: val_accuracy did not improve from 0.86006\n",
      "135/135 [==============================] - 12s 88ms/step - loss: 0.0211 - accuracy: 0.9932 - f1_score: 0.9911 - val_loss: 1.0197 - val_accuracy: 0.8517 - val_f1_score: 0.8177\n",
      "Epoch 29/1000\n",
      "135/135 [==============================] - ETA: 0s - loss: 0.0226 - accuracy: 0.9937 - f1_score: 0.9929\n",
      "Epoch 00029: val_accuracy did not improve from 0.86006\n",
      "135/135 [==============================] - 12s 87ms/step - loss: 0.0226 - accuracy: 0.9937 - f1_score: 0.9929 - val_loss: 0.9811 - val_accuracy: 0.8475 - val_f1_score: 0.8187\n"
     ]
    }
   ],
   "source": [
    "model, histroy = acblstm_train_pt_w2v.train(train_X, train_YS)"
   ]
  },
  {
   "cell_type": "code",
   "execution_count": 25,
   "metadata": {
    "colab": {
     "base_uri": "https://localhost:8080/",
     "height": 803
    },
    "colab_type": "code",
    "executionInfo": {
     "elapsed": 273624,
     "status": "ok",
     "timestamp": 1591918841759,
     "user": {
      "displayName": "이명훈",
      "photoUrl": "",
      "userId": "07271482681718000858"
     },
     "user_tz": -540
    },
    "id": "4OD430U8qU6Y",
    "outputId": "ad86f239-d144-47df-93f6-883913f184f5"
   },
   "outputs": [
    {
     "data": {
      "image/png": "[encoded data removed]",
      "text/plain": [
       "<Figure size 432x288 with 1 Axes>"
      ]
     },
     "metadata": {
      "needs_background": "light"
     },
     "output_type": "display_data"
    },
    {
     "data": {
      "image/png": "[encoded data removed]",
      "text/plain": [
       "<Figure size 432x288 with 1 Axes>"
      ]
     },
     "metadata": {
      "needs_background": "light"
     },
     "output_type": "display_data"
    },
    {
     "data": {
      "image/png": "[encoded data removed]",
      "text/plain": [
       "<Figure size 432x288 with 1 Axes>"
      ]
     },
     "metadata": {
      "needs_background": "light"
     },
     "output_type": "display_data"
    }
   ],
   "source": [
    "acblstm_train_pt_w2v.train_plot(model, histroy)"
   ]
  },
  {
   "cell_type": "code",
   "execution_count": 26,
   "metadata": {
    "colab": {
     "base_uri": "https://localhost:8080/",
     "height": 34
    },
    "colab_type": "code",
    "executionInfo": {
     "elapsed": 2508,
     "status": "ok",
     "timestamp": 1591919223299,
     "user": {
      "displayName": "이명훈",
      "photoUrl": "",
      "userId": "07271482681718000858"
     },
     "user_tz": -540
    },
    "id": "tU45hfVUqU6e",
    "outputId": "e5871ac5-314a-458c-a067-43c30bbfdc88"
   },
   "outputs": [
    {
     "name": "stdout",
     "output_type": "stream",
     "text": [
      "145/145 [==============================] - 1s 10ms/step - loss: 0.7795 - accuracy: 0.8674 - f1_score: 0.8455\n"
     ]
    }
   ],
   "source": [
    "acblstm_train_pt_w2v.evaluation(model, test_X, test_YS)"
   ]
  },
  {
   "cell_type": "markdown",
   "metadata": {
    "colab_type": "text",
    "id": "FMCacFewqU6j"
   },
   "source": [
    "### optimizer radam"
   ]
  },
  {
   "cell_type": "code",
   "execution_count": 27,
   "metadata": {
    "colab": {
     "base_uri": "https://localhost:8080/",
     "height": 122
    },
    "colab_type": "code",
    "executionInfo": {
     "elapsed": 1246,
     "status": "ok",
     "timestamp": 1591918224432,
     "user": {
      "displayName": "이명훈",
      "photoUrl": "",
      "userId": "07271482681718000858"
     },
     "user_tz": -540
    },
    "id": "IawvOxRtqU6j",
    "outputId": "166eb0c8-f656-4f82-8086-963788c570b1"
   },
   "outputs": [
    {
     "name": "stdout",
     "output_type": "stream",
     "text": [
      "big_class\n",
      "output_dim :  43\n",
      "./model_save/acblstm_model/\n",
      "word index size :  30079\n",
      "28173 1905\n",
      "train_mode : pt, optimizer : radam, pre-trained_mode : pt_w2v, model_name : AC-BLSTM_pt_radam_pt_w2v\n"
     ]
    }
   ],
   "source": [
    "acblstm_train_pt_w2v = ACBLSTMTrain(vocab_size=vocab_size, \n",
    "                                    train_mode='pt', \n",
    "                                    optimizer='radam',\n",
    "                                    embedding_matrix=pre_trained_w2v,\n",
    "                                    word_index=word_index,\n",
    "                                    pre_trained_mode='pt_w2v')"
   ]
  },
  {
   "cell_type": "code",
   "execution_count": 28,
   "metadata": {
    "colab": {
     "base_uri": "https://localhost:8080/",
     "height": 1000
    },
    "colab_type": "code",
    "executionInfo": {
     "elapsed": 298645,
     "status": "ok",
     "timestamp": 1591918524277,
     "user": {
      "displayName": "이명훈",
      "photoUrl": "",
      "userId": "07271482681718000858"
     },
     "user_tz": -540
    },
    "id": "U7TTXFXhqU6n",
    "outputId": "c91e50dd-68a8-4c69-c068-96a1d203dd98",
    "scrolled": true
   },
   "outputs": [
    {
     "name": "stdout",
     "output_type": "stream",
     "text": [
      "{'vocab_size': 30079, 'embedding_size': 300, 'num_filters': 128, 'dropout_rate': 0.5, 'lstm_dimension': 256, 'hidden_dimension': 128, 'train_mode': 'pt', 'output_dimension': 43, 'model_name': 'AC-BLSTM_pt_radam_pt_w2v', 'embedding_matrix': array([[ 0.        ,  0.        ,  0.        , ...,  0.        ,\n",
      "         0.        ,  0.        ],\n",
      "       [-0.1215607 ,  0.20265704, -0.1296849 , ..., -0.25743967,\n",
      "        -0.44502595, -0.15552975],\n",
      "       [-0.07061617,  0.60541958,  0.0075527 , ...,  0.00845565,\n",
      "        -0.01567723, -0.02487615],\n",
      "       ...,\n",
      "       [-0.73014832,  0.27339637, -0.06521773, ..., -0.30837446,\n",
      "         0.41687673, -0.36610672],\n",
      "       [-0.78842098, -0.6107676 , -0.37505671, ...,  0.14378503,\n",
      "        -0.27998501, -0.66035861],\n",
      "       [-0.59498692,  0.02842285,  0.46921459, ..., -0.48162848,\n",
      "        -0.31085017, -0.19220926]])}\n",
      "./model_save/acblstm_model/AC-BLSTM_pt_radam_pt_w2v -- Folder create complete \n",
      "\n",
      "callback set\n",
      "Epoch 1/1000\n",
      "135/135 [==============================] - ETA: 0s - loss: 2.5121 - accuracy: 0.3528 - f1_score: 0.2643\n",
      "Epoch 00001: val_accuracy improved from -inf to 0.66219, saving model to ./model_save/acblstm_model/AC-BLSTM_pt_radam_pt_w2v/weights.h5\n",
      "135/135 [==============================] - 22s 160ms/step - loss: 2.5121 - accuracy: 0.3528 - f1_score: 0.2643 - val_loss: 1.3197 - val_accuracy: 0.6622 - val_f1_score: 0.5548\n",
      "Epoch 2/1000\n",
      "135/135 [==============================] - ETA: 0s - loss: 1.1251 - accuracy: 0.6749 - f1_score: 0.5983\n",
      "Epoch 00002: val_accuracy improved from 0.66219 to 0.70343, saving model to ./model_save/acblstm_model/AC-BLSTM_pt_radam_pt_w2v/weights.h5\n",
      "135/135 [==============================] - 21s 158ms/step - loss: 1.1251 - accuracy: 0.6749 - f1_score: 0.5983 - val_loss: 0.9895 - val_accuracy: 0.7034 - val_f1_score: 0.6255\n",
      "Epoch 3/1000\n",
      "135/135 [==============================] - ETA: 0s - loss: 0.8263 - accuracy: 0.7558 - f1_score: 0.7032\n",
      "Epoch 00003: val_accuracy improved from 0.70343 to 0.73540, saving model to ./model_save/acblstm_model/AC-BLSTM_pt_radam_pt_w2v/weights.h5\n",
      "135/135 [==============================] - 21s 156ms/step - loss: 0.8263 - accuracy: 0.7558 - f1_score: 0.7032 - val_loss: 0.8827 - val_accuracy: 0.7354 - val_f1_score: 0.6717\n",
      "Epoch 4/1000\n",
      "135/135 [==============================] - ETA: 0s - loss: 0.6299 - accuracy: 0.7979 - f1_score: 0.7608\n",
      "Epoch 00004: val_accuracy improved from 0.73540 to 0.76135, saving model to ./model_save/acblstm_model/AC-BLSTM_pt_radam_pt_w2v/weights.h5\n",
      "135/135 [==============================] - 21s 156ms/step - loss: 0.6299 - accuracy: 0.7979 - f1_score: 0.7608 - val_loss: 0.8007 - val_accuracy: 0.7614 - val_f1_score: 0.7012\n",
      "Epoch 5/1000\n",
      "135/135 [==============================] - ETA: 0s - loss: 0.4671 - accuracy: 0.8508 - f1_score: 0.8281\n",
      "Epoch 00005: val_accuracy improved from 0.76135 to 0.76691, saving model to ./model_save/acblstm_model/AC-BLSTM_pt_radam_pt_w2v/weights.h5\n",
      "135/135 [==============================] - 21s 156ms/step - loss: 0.4671 - accuracy: 0.8508 - f1_score: 0.8281 - val_loss: 0.7640 - val_accuracy: 0.7669 - val_f1_score: 0.7057\n",
      "Epoch 6/1000\n",
      "135/135 [==============================] - ETA: 0s - loss: 0.3550 - accuracy: 0.8896 - f1_score: 0.8726\n",
      "Epoch 00006: val_accuracy improved from 0.76691 to 0.77247, saving model to ./model_save/acblstm_model/AC-BLSTM_pt_radam_pt_w2v/weights.h5\n",
      "135/135 [==============================] - 21s 156ms/step - loss: 0.3550 - accuracy: 0.8896 - f1_score: 0.8726 - val_loss: 0.7995 - val_accuracy: 0.7725 - val_f1_score: 0.7338\n",
      "Epoch 7/1000\n",
      "135/135 [==============================] - ETA: 0s - loss: 0.2727 - accuracy: 0.9093 - f1_score: 0.8971\n",
      "Epoch 00007: val_accuracy improved from 0.77247 to 0.78313, saving model to ./model_save/acblstm_model/AC-BLSTM_pt_radam_pt_w2v/weights.h5\n",
      "135/135 [==============================] - 21s 156ms/step - loss: 0.2727 - accuracy: 0.9093 - f1_score: 0.8971 - val_loss: 0.7489 - val_accuracy: 0.7831 - val_f1_score: 0.7559\n",
      "Epoch 8/1000\n",
      "135/135 [==============================] - ETA: 0s - loss: 0.2171 - accuracy: 0.9263 - f1_score: 0.9193\n",
      "Epoch 00008: val_accuracy improved from 0.78313 to 0.78638, saving model to ./model_save/acblstm_model/AC-BLSTM_pt_radam_pt_w2v/weights.h5\n",
      "135/135 [==============================] - 21s 156ms/step - loss: 0.2171 - accuracy: 0.9263 - f1_score: 0.9193 - val_loss: 0.7451 - val_accuracy: 0.7864 - val_f1_score: 0.7403\n",
      "Epoch 9/1000\n",
      "135/135 [==============================] - ETA: 0s - loss: 0.1643 - accuracy: 0.9503 - f1_score: 0.9451\n",
      "Epoch 00009: val_accuracy improved from 0.78638 to 0.78777, saving model to ./model_save/acblstm_model/AC-BLSTM_pt_radam_pt_w2v/weights.h5\n",
      "135/135 [==============================] - 21s 156ms/step - loss: 0.1643 - accuracy: 0.9503 - f1_score: 0.9451 - val_loss: 0.7658 - val_accuracy: 0.7878 - val_f1_score: 0.7521\n",
      "Epoch 10/1000\n",
      "135/135 [==============================] - ETA: 0s - loss: 0.1407 - accuracy: 0.9542 - f1_score: 0.9515\n",
      "Epoch 00010: val_accuracy improved from 0.78777 to 0.79750, saving model to ./model_save/acblstm_model/AC-BLSTM_pt_radam_pt_w2v/weights.h5\n",
      "135/135 [==============================] - 21s 156ms/step - loss: 0.1407 - accuracy: 0.9542 - f1_score: 0.9515 - val_loss: 0.8105 - val_accuracy: 0.7975 - val_f1_score: 0.7674\n",
      "Epoch 11/1000\n",
      "135/135 [==============================] - ETA: 0s - loss: 0.1248 - accuracy: 0.9586 - f1_score: 0.9547\n",
      "Epoch 00011: val_accuracy did not improve from 0.79750\n",
      "135/135 [==============================] - 21s 153ms/step - loss: 0.1248 - accuracy: 0.9586 - f1_score: 0.9547 - val_loss: 0.8447 - val_accuracy: 0.7785 - val_f1_score: 0.7523\n",
      "Epoch 12/1000\n",
      "135/135 [==============================] - ETA: 0s - loss: 0.1142 - accuracy: 0.9612 - f1_score: 0.9593\n",
      "Epoch 00012: val_accuracy did not improve from 0.79750\n",
      "135/135 [==============================] - 21s 153ms/step - loss: 0.1142 - accuracy: 0.9612 - f1_score: 0.9593 - val_loss: 0.8240 - val_accuracy: 0.7970 - val_f1_score: 0.7610\n",
      "Epoch 13/1000\n",
      "135/135 [==============================] - ETA: 0s - loss: 0.1239 - accuracy: 0.9606 - f1_score: 0.9585\n",
      "Epoch 00013: val_accuracy did not improve from 0.79750\n",
      "135/135 [==============================] - 21s 153ms/step - loss: 0.1239 - accuracy: 0.9606 - f1_score: 0.9585 - val_loss: 0.8258 - val_accuracy: 0.7952 - val_f1_score: 0.7509\n",
      "Epoch 14/1000\n",
      "135/135 [==============================] - ETA: 0s - loss: 0.0823 - accuracy: 0.9740 - f1_score: 0.9699\n",
      "Epoch 00014: val_accuracy improved from 0.79750 to 0.81001, saving model to ./model_save/acblstm_model/AC-BLSTM_pt_radam_pt_w2v/weights.h5\n",
      "135/135 [==============================] - 21s 157ms/step - loss: 0.0823 - accuracy: 0.9740 - f1_score: 0.9699 - val_loss: 0.7756 - val_accuracy: 0.8100 - val_f1_score: 0.7754\n",
      "Epoch 15/1000\n",
      "135/135 [==============================] - ETA: 0s - loss: 0.0996 - accuracy: 0.9685 - f1_score: 0.9656\n",
      "Epoch 00015: val_accuracy did not improve from 0.81001\n",
      "135/135 [==============================] - 21s 153ms/step - loss: 0.0996 - accuracy: 0.9685 - f1_score: 0.9656 - val_loss: 0.8265 - val_accuracy: 0.8063 - val_f1_score: 0.7680\n",
      "Epoch 16/1000\n",
      "135/135 [==============================] - ETA: 0s - loss: 0.0945 - accuracy: 0.9705 - f1_score: 0.9687\n",
      "Epoch 00016: val_accuracy did not improve from 0.81001\n",
      "135/135 [==============================] - 21s 153ms/step - loss: 0.0945 - accuracy: 0.9705 - f1_score: 0.9687 - val_loss: 0.8023 - val_accuracy: 0.8021 - val_f1_score: 0.7634\n",
      "Epoch 17/1000\n",
      "135/135 [==============================] - ETA: 0s - loss: 0.0990 - accuracy: 0.9677 - f1_score: 0.9638\n",
      "Epoch 00017: val_accuracy did not improve from 0.81001\n",
      "135/135 [==============================] - 21s 153ms/step - loss: 0.0990 - accuracy: 0.9677 - f1_score: 0.9638 - val_loss: 0.8395 - val_accuracy: 0.8068 - val_f1_score: 0.7590\n",
      "Epoch 18/1000\n",
      "135/135 [==============================] - ETA: 0s - loss: 0.0731 - accuracy: 0.9776 - f1_score: 0.9768\n",
      "Epoch 00018: val_accuracy did not improve from 0.81001\n",
      "135/135 [==============================] - 21s 153ms/step - loss: 0.0731 - accuracy: 0.9776 - f1_score: 0.9768 - val_loss: 0.8620 - val_accuracy: 0.8100 - val_f1_score: 0.7720\n",
      "Epoch 19/1000\n"
     ]
    },
    {
     "name": "stdout",
     "output_type": "stream",
     "text": [
      "135/135 [==============================] - ETA: 0s - loss: 0.0790 - accuracy: 0.9759 - f1_score: 0.9694\n",
      "Epoch 00019: val_accuracy did not improve from 0.81001\n",
      "135/135 [==============================] - 21s 153ms/step - loss: 0.0790 - accuracy: 0.9759 - f1_score: 0.9694 - val_loss: 0.8622 - val_accuracy: 0.8049 - val_f1_score: 0.7558\n",
      "Epoch 20/1000\n",
      "135/135 [==============================] - ETA: 0s - loss: 0.0786 - accuracy: 0.9754 - f1_score: 0.9724\n",
      "Epoch 00020: val_accuracy did not improve from 0.81001\n",
      "135/135 [==============================] - 21s 152ms/step - loss: 0.0786 - accuracy: 0.9754 - f1_score: 0.9724 - val_loss: 0.9017 - val_accuracy: 0.8007 - val_f1_score: 0.7566\n",
      "Epoch 21/1000\n",
      "135/135 [==============================] - ETA: 0s - loss: 0.0953 - accuracy: 0.9700 - f1_score: 0.9685\n",
      "Epoch 00021: val_accuracy did not improve from 0.81001\n",
      "135/135 [==============================] - 21s 152ms/step - loss: 0.0953 - accuracy: 0.9700 - f1_score: 0.9685 - val_loss: 0.8781 - val_accuracy: 0.8040 - val_f1_score: 0.7615\n",
      "Epoch 22/1000\n",
      "135/135 [==============================] - ETA: 0s - loss: 0.0909 - accuracy: 0.9720 - f1_score: 0.9694\n",
      "Epoch 00022: val_accuracy did not improve from 0.81001\n",
      "135/135 [==============================] - 21s 152ms/step - loss: 0.0909 - accuracy: 0.9720 - f1_score: 0.9694 - val_loss: 0.9460 - val_accuracy: 0.7924 - val_f1_score: 0.7641\n",
      "Epoch 23/1000\n",
      "135/135 [==============================] - ETA: 0s - loss: 0.0902 - accuracy: 0.9722 - f1_score: 0.9688\n",
      "Epoch 00023: val_accuracy did not improve from 0.81001\n",
      "135/135 [==============================] - 21s 153ms/step - loss: 0.0902 - accuracy: 0.9722 - f1_score: 0.9688 - val_loss: 0.8515 - val_accuracy: 0.8054 - val_f1_score: 0.7607\n",
      "Epoch 24/1000\n",
      "135/135 [==============================] - ETA: 0s - loss: 0.0885 - accuracy: 0.9728 - f1_score: 0.9678\n",
      "Epoch 00024: val_accuracy improved from 0.81001 to 0.81835, saving model to ./model_save/acblstm_model/AC-BLSTM_pt_radam_pt_w2v/weights.h5\n",
      "135/135 [==============================] - 21s 156ms/step - loss: 0.0885 - accuracy: 0.9728 - f1_score: 0.9678 - val_loss: 0.7961 - val_accuracy: 0.8184 - val_f1_score: 0.7929\n",
      "Epoch 25/1000\n",
      "135/135 [==============================] - ETA: 0s - loss: 0.0859 - accuracy: 0.9734 - f1_score: 0.9702\n",
      "Epoch 00025: val_accuracy did not improve from 0.81835\n",
      "135/135 [==============================] - 21s 152ms/step - loss: 0.0859 - accuracy: 0.9734 - f1_score: 0.9702 - val_loss: 0.8765 - val_accuracy: 0.8114 - val_f1_score: 0.7767\n",
      "Epoch 26/1000\n",
      "135/135 [==============================] - ETA: 0s - loss: 0.0676 - accuracy: 0.9797 - f1_score: 0.9751\n",
      "Epoch 00026: val_accuracy did not improve from 0.81835\n",
      "135/135 [==============================] - 21s 152ms/step - loss: 0.0676 - accuracy: 0.9797 - f1_score: 0.9751 - val_loss: 0.9219 - val_accuracy: 0.8017 - val_f1_score: 0.7539\n",
      "Epoch 27/1000\n",
      "135/135 [==============================] - ETA: 0s - loss: 0.0842 - accuracy: 0.9738 - f1_score: 0.9687\n",
      "Epoch 00027: val_accuracy improved from 0.81835 to 0.82762, saving model to ./model_save/acblstm_model/AC-BLSTM_pt_radam_pt_w2v/weights.h5\n",
      "135/135 [==============================] - 21s 158ms/step - loss: 0.0842 - accuracy: 0.9738 - f1_score: 0.9687 - val_loss: 0.8399 - val_accuracy: 0.8276 - val_f1_score: 0.8014\n",
      "Epoch 28/1000\n",
      "135/135 [==============================] - ETA: 0s - loss: 0.0691 - accuracy: 0.9783 - f1_score: 0.9744\n",
      "Epoch 00028: val_accuracy did not improve from 0.82762\n",
      "135/135 [==============================] - 21s 153ms/step - loss: 0.0691 - accuracy: 0.9783 - f1_score: 0.9744 - val_loss: 0.8554 - val_accuracy: 0.8258 - val_f1_score: 0.7871\n",
      "Epoch 29/1000\n",
      "135/135 [==============================] - ETA: 0s - loss: 0.0724 - accuracy: 0.9773 - f1_score: 0.9775\n",
      "Epoch 00029: val_accuracy did not improve from 0.82762\n",
      "135/135 [==============================] - 21s 153ms/step - loss: 0.0724 - accuracy: 0.9773 - f1_score: 0.9775 - val_loss: 1.0256 - val_accuracy: 0.7975 - val_f1_score: 0.7560\n",
      "Epoch 30/1000\n",
      "135/135 [==============================] - ETA: 0s - loss: 0.0835 - accuracy: 0.9730 - f1_score: 0.9703\n",
      "Epoch 00030: val_accuracy did not improve from 0.82762\n",
      "135/135 [==============================] - 21s 152ms/step - loss: 0.0835 - accuracy: 0.9730 - f1_score: 0.9703 - val_loss: 0.8997 - val_accuracy: 0.8207 - val_f1_score: 0.7856\n",
      "Epoch 31/1000\n",
      "135/135 [==============================] - ETA: 0s - loss: 0.0701 - accuracy: 0.9789 - f1_score: 0.9735\n",
      "Epoch 00031: val_accuracy did not improve from 0.82762\n",
      "135/135 [==============================] - 21s 152ms/step - loss: 0.0701 - accuracy: 0.9789 - f1_score: 0.9735 - val_loss: 0.8710 - val_accuracy: 0.8151 - val_f1_score: 0.7825\n",
      "Epoch 32/1000\n",
      "135/135 [==============================] - ETA: 0s - loss: 0.0726 - accuracy: 0.9775 - f1_score: 0.9720\n",
      "Epoch 00032: val_accuracy did not improve from 0.82762\n",
      "135/135 [==============================] - 21s 152ms/step - loss: 0.0726 - accuracy: 0.9775 - f1_score: 0.9720 - val_loss: 0.8767 - val_accuracy: 0.8207 - val_f1_score: 0.7921\n",
      "Epoch 33/1000\n",
      "135/135 [==============================] - ETA: 0s - loss: 0.0838 - accuracy: 0.9745 - f1_score: 0.9711\n",
      "Epoch 00033: val_accuracy did not improve from 0.82762\n",
      "135/135 [==============================] - 21s 153ms/step - loss: 0.0838 - accuracy: 0.9745 - f1_score: 0.9711 - val_loss: 0.9293 - val_accuracy: 0.8151 - val_f1_score: 0.7684\n",
      "Epoch 34/1000\n",
      "135/135 [==============================] - ETA: 0s - loss: 0.0708 - accuracy: 0.9776 - f1_score: 0.9749\n",
      "Epoch 00034: val_accuracy did not improve from 0.82762\n",
      "135/135 [==============================] - 21s 152ms/step - loss: 0.0708 - accuracy: 0.9776 - f1_score: 0.9749 - val_loss: 0.9784 - val_accuracy: 0.8109 - val_f1_score: 0.7753\n",
      "Epoch 35/1000\n",
      "135/135 [==============================] - ETA: 0s - loss: 0.0652 - accuracy: 0.9800 - f1_score: 0.9770\n",
      "Epoch 00035: val_accuracy did not improve from 0.82762\n",
      "135/135 [==============================] - 21s 152ms/step - loss: 0.0652 - accuracy: 0.9800 - f1_score: 0.9770 - val_loss: 0.9124 - val_accuracy: 0.8202 - val_f1_score: 0.7854\n",
      "Epoch 36/1000\n",
      "135/135 [==============================] - ETA: 0s - loss: 0.0612 - accuracy: 0.9804 - f1_score: 0.9753\n",
      "Epoch 00036: val_accuracy improved from 0.82762 to 0.82947, saving model to ./model_save/acblstm_model/AC-BLSTM_pt_radam_pt_w2v/weights.h5\n",
      "135/135 [==============================] - 21s 156ms/step - loss: 0.0612 - accuracy: 0.9804 - f1_score: 0.9753 - val_loss: 0.9093 - val_accuracy: 0.8295 - val_f1_score: 0.7985\n",
      "Epoch 37/1000\n",
      "135/135 [==============================] - ETA: 0s - loss: 0.0532 - accuracy: 0.9842 - f1_score: 0.9807\n",
      "Epoch 00037: val_accuracy improved from 0.82947 to 0.83364, saving model to ./model_save/acblstm_model/AC-BLSTM_pt_radam_pt_w2v/weights.h5\n",
      "135/135 [==============================] - 21s 156ms/step - loss: 0.0532 - accuracy: 0.9842 - f1_score: 0.9807 - val_loss: 0.8875 - val_accuracy: 0.8336 - val_f1_score: 0.8023\n",
      "Epoch 38/1000\n",
      "135/135 [==============================] - ETA: 0s - loss: 0.0688 - accuracy: 0.9787 - f1_score: 0.9763\n",
      "Epoch 00038: val_accuracy did not improve from 0.83364\n",
      "135/135 [==============================] - 21s 152ms/step - loss: 0.0688 - accuracy: 0.9787 - f1_score: 0.9763 - val_loss: 0.9266 - val_accuracy: 0.8281 - val_f1_score: 0.8032\n",
      "Epoch 39/1000\n",
      "135/135 [==============================] - ETA: 0s - loss: 0.0673 - accuracy: 0.9807 - f1_score: 0.9781\n",
      "Epoch 00039: val_accuracy did not improve from 0.83364\n",
      "135/135 [==============================] - 21s 153ms/step - loss: 0.0673 - accuracy: 0.9807 - f1_score: 0.9781 - val_loss: 0.9472 - val_accuracy: 0.8234 - val_f1_score: 0.7832\n",
      "Epoch 40/1000\n",
      "135/135 [==============================] - ETA: 0s - loss: 0.0706 - accuracy: 0.9764 - f1_score: 0.9708\n",
      "Epoch 00040: val_accuracy did not improve from 0.83364\n",
      "135/135 [==============================] - 21s 153ms/step - loss: 0.0706 - accuracy: 0.9764 - f1_score: 0.9708 - val_loss: 0.9713 - val_accuracy: 0.8202 - val_f1_score: 0.7895\n",
      "Epoch 41/1000\n",
      "135/135 [==============================] - ETA: 0s - loss: 0.0696 - accuracy: 0.9783 - f1_score: 0.9754\n",
      "Epoch 00041: val_accuracy did not improve from 0.83364\n",
      "135/135 [==============================] - 21s 152ms/step - loss: 0.0696 - accuracy: 0.9783 - f1_score: 0.9754 - val_loss: 0.9888 - val_accuracy: 0.8244 - val_f1_score: 0.7926\n"
     ]
    },
    {
     "name": "stdout",
     "output_type": "stream",
     "text": [
      "Epoch 42/1000\n",
      "135/135 [==============================] - ETA: 0s - loss: 0.0872 - accuracy: 0.9736 - f1_score: 0.9724\n",
      "Epoch 00042: val_accuracy improved from 0.83364 to 0.83642, saving model to ./model_save/acblstm_model/AC-BLSTM_pt_radam_pt_w2v/weights.h5\n",
      "135/135 [==============================] - 21s 158ms/step - loss: 0.0872 - accuracy: 0.9736 - f1_score: 0.9724 - val_loss: 0.9081 - val_accuracy: 0.8364 - val_f1_score: 0.8050\n",
      "Epoch 43/1000\n",
      "135/135 [==============================] - ETA: 0s - loss: 0.0488 - accuracy: 0.9846 - f1_score: 0.9817\n",
      "Epoch 00043: val_accuracy did not improve from 0.83642\n",
      "135/135 [==============================] - 21s 153ms/step - loss: 0.0488 - accuracy: 0.9846 - f1_score: 0.9817 - val_loss: 0.9579 - val_accuracy: 0.8318 - val_f1_score: 0.7956\n",
      "Epoch 44/1000\n",
      "135/135 [==============================] - ETA: 0s - loss: 0.0290 - accuracy: 0.9917 - f1_score: 0.9905\n",
      "Epoch 00044: val_accuracy improved from 0.83642 to 0.84662, saving model to ./model_save/acblstm_model/AC-BLSTM_pt_radam_pt_w2v/weights.h5\n",
      "135/135 [==============================] - 21s 156ms/step - loss: 0.0290 - accuracy: 0.9917 - f1_score: 0.9905 - val_loss: 0.8619 - val_accuracy: 0.8466 - val_f1_score: 0.8175\n",
      "Epoch 45/1000\n",
      "135/135 [==============================] - ETA: 0s - loss: 0.0230 - accuracy: 0.9934 - f1_score: 0.9920\n",
      "Epoch 00045: val_accuracy did not improve from 0.84662\n",
      "135/135 [==============================] - 21s 152ms/step - loss: 0.0230 - accuracy: 0.9934 - f1_score: 0.9920 - val_loss: 0.9818 - val_accuracy: 0.8383 - val_f1_score: 0.8124\n",
      "Epoch 46/1000\n",
      "135/135 [==============================] - ETA: 0s - loss: 0.0340 - accuracy: 0.9889 - f1_score: 0.9877\n",
      "Epoch 00046: val_accuracy did not improve from 0.84662\n",
      "135/135 [==============================] - 21s 153ms/step - loss: 0.0340 - accuracy: 0.9889 - f1_score: 0.9877 - val_loss: 0.9981 - val_accuracy: 0.8323 - val_f1_score: 0.8037\n",
      "Epoch 47/1000\n",
      "135/135 [==============================] - ETA: 0s - loss: 0.0685 - accuracy: 0.9797 - f1_score: 0.9753\n",
      "Epoch 00047: val_accuracy did not improve from 0.84662\n",
      "135/135 [==============================] - 21s 153ms/step - loss: 0.0685 - accuracy: 0.9797 - f1_score: 0.9753 - val_loss: 0.9428 - val_accuracy: 0.8387 - val_f1_score: 0.8011\n",
      "Epoch 48/1000\n",
      "135/135 [==============================] - ETA: 0s - loss: 0.0549 - accuracy: 0.9837 - f1_score: 0.9785\n",
      "Epoch 00048: val_accuracy did not improve from 0.84662\n",
      "135/135 [==============================] - 21s 153ms/step - loss: 0.0549 - accuracy: 0.9837 - f1_score: 0.9785 - val_loss: 0.9092 - val_accuracy: 0.8415 - val_f1_score: 0.8099\n",
      "Epoch 49/1000\n",
      "135/135 [==============================] - ETA: 0s - loss: 0.0590 - accuracy: 0.9825 - f1_score: 0.9795\n",
      "Epoch 00049: val_accuracy did not improve from 0.84662\n",
      "135/135 [==============================] - 20s 152ms/step - loss: 0.0590 - accuracy: 0.9825 - f1_score: 0.9795 - val_loss: 0.8992 - val_accuracy: 0.8406 - val_f1_score: 0.8050\n",
      "Epoch 50/1000\n",
      "135/135 [==============================] - ETA: 0s - loss: 0.0448 - accuracy: 0.9860 - f1_score: 0.9833\n",
      "Epoch 00050: val_accuracy did not improve from 0.84662\n",
      "135/135 [==============================] - 21s 152ms/step - loss: 0.0448 - accuracy: 0.9860 - f1_score: 0.9833 - val_loss: 0.9451 - val_accuracy: 0.8466 - val_f1_score: 0.8174\n",
      "Epoch 51/1000\n",
      "135/135 [==============================] - ETA: 0s - loss: 0.0382 - accuracy: 0.9881 - f1_score: 0.9877\n",
      "Epoch 00051: val_accuracy did not improve from 0.84662\n",
      "135/135 [==============================] - 21s 153ms/step - loss: 0.0382 - accuracy: 0.9881 - f1_score: 0.9877 - val_loss: 0.8850 - val_accuracy: 0.8420 - val_f1_score: 0.8077\n",
      "Epoch 52/1000\n",
      "135/135 [==============================] - ETA: 0s - loss: 0.0398 - accuracy: 0.9889 - f1_score: 0.9884\n",
      "Epoch 00052: val_accuracy did not improve from 0.84662\n",
      "135/135 [==============================] - 21s 152ms/step - loss: 0.0398 - accuracy: 0.9889 - f1_score: 0.9884 - val_loss: 0.9749 - val_accuracy: 0.8443 - val_f1_score: 0.8186\n",
      "Epoch 53/1000\n",
      "135/135 [==============================] - ETA: 0s - loss: 0.0496 - accuracy: 0.9847 - f1_score: 0.9809\n",
      "Epoch 00053: val_accuracy did not improve from 0.84662\n",
      "135/135 [==============================] - 21s 152ms/step - loss: 0.0496 - accuracy: 0.9847 - f1_score: 0.9809 - val_loss: 0.9970 - val_accuracy: 0.8406 - val_f1_score: 0.8058\n",
      "Epoch 54/1000\n",
      "135/135 [==============================] - ETA: 0s - loss: 0.0512 - accuracy: 0.9844 - f1_score: 0.9817\n",
      "Epoch 00054: val_accuracy did not improve from 0.84662\n",
      "135/135 [==============================] - 21s 152ms/step - loss: 0.0512 - accuracy: 0.9844 - f1_score: 0.9817 - val_loss: 0.8770 - val_accuracy: 0.8424 - val_f1_score: 0.8167\n"
     ]
    }
   ],
   "source": [
    "model, histroy = acblstm_train_pt_w2v.train(train_X, train_YS)"
   ]
  },
  {
   "cell_type": "code",
   "execution_count": 29,
   "metadata": {
    "colab": {
     "base_uri": "https://localhost:8080/",
     "height": 803
    },
    "colab_type": "code",
    "executionInfo": {
     "elapsed": 1963,
     "status": "ok",
     "timestamp": 1591918531628,
     "user": {
      "displayName": "이명훈",
      "photoUrl": "",
      "userId": "07271482681718000858"
     },
     "user_tz": -540
    },
    "id": "GvA2-xCCqU6q",
    "outputId": "36f8670f-c62c-4e24-a3c9-bb2fd607cf47"
   },
   "outputs": [
    {
     "data": {
      "image/png": "[encoded data removed]",
      "text/plain": [
       "<Figure size 432x288 with 1 Axes>"
      ]
     },
     "metadata": {
      "needs_background": "light"
     },
     "output_type": "display_data"
    },
    {
     "data": {
      "image/png": "[encoded data removed]",
      "text/plain": [
       "<Figure size 432x288 with 1 Axes>"
      ]
     },
     "metadata": {
      "needs_background": "light"
     },
     "output_type": "display_data"
    },
    {
     "data": {
      "image/png": "[encoded data removed]",
      "text/plain": [
       "<Figure size 432x288 with 1 Axes>"
      ]
     },
     "metadata": {
      "needs_background": "light"
     },
     "output_type": "display_data"
    }
   ],
   "source": [
    "acblstm_train_pt_w2v.train_plot(model, histroy)"
   ]
  },
  {
   "cell_type": "code",
   "execution_count": 30,
   "metadata": {
    "colab": {
     "base_uri": "https://localhost:8080/",
     "height": 34
    },
    "colab_type": "code",
    "executionInfo": {
     "elapsed": 6943,
     "status": "ok",
     "timestamp": 1591918539359,
     "user": {
      "displayName": "이명훈",
      "photoUrl": "",
      "userId": "07271482681718000858"
     },
     "user_tz": -540
    },
    "id": "SFgGF17vqU6s",
    "outputId": "d4af229d-98fc-463e-ba07-7f4812fa0c51"
   },
   "outputs": [
    {
     "name": "stdout",
     "output_type": "stream",
     "text": [
      "145/145 [==============================] - 4s 26ms/step - loss: 0.8188 - accuracy: 0.8609 - f1_score: 0.8421\n"
     ]
    }
   ],
   "source": [
    "acblstm_train_pt_w2v.evaluation(model, test_X, test_YS)"
   ]
  }
 ],
 "metadata": {
  "accelerator": "GPU",
  "colab": {
   "collapsed_sections": [],
   "machine_shape": "hm",
   "name": "05.AC-BLSTM_model.ipynb",
   "provenance": []
  },
  "kernelspec": {
   "display_name": "deeplearning",
   "language": "python",
   "name": "deeplearning-gpu"
  },
  "language_info": {
   "codemirror_mode": {
    "name": "ipython",
    "version": 3
   },
   "file_extension": ".py",
   "mimetype": "text/x-python",
   "name": "python",
   "nbconvert_exporter": "python",
   "pygments_lexer": "ipython3",
   "version": "3.7.7"
  }
 },
 "nbformat": 4,
 "nbformat_minor": 1
}
