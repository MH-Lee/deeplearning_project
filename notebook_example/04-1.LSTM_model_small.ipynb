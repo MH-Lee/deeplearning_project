{
 "cells": [
  {
   "cell_type": "code",
   "execution_count": 2,
   "metadata": {
    "colab": {
     "base_uri": "https://localhost:8080/",
     "height": 34
    },
    "colab_type": "code",
    "executionInfo": {
     "elapsed": 698,
     "status": "ok",
     "timestamp": 1591106447974,
     "user": {
      "displayName": "이명훈",
      "photoUrl": "",
      "userId": "07271482681718000858"
     },
     "user_tz": -540
    },
    "id": "_W6a_gOOQ5SD",
    "outputId": "77bec341-a750-49d4-f88d-4989ed8562b8"
   },
   "outputs": [
    {
     "name": "stdout",
     "output_type": "stream",
     "text": [
      "/content/drive/My Drive/mge511_preject\n"
     ]
    }
   ],
   "source": [
    "cd drive/My\\ Drive/mge511_preject/"
   ]
  },
  {
   "cell_type": "code",
   "execution_count": 0,
   "metadata": {
    "colab": {},
    "colab_type": "code",
    "id": "by1sA1bvQsWw"
   },
   "outputs": [],
   "source": [
    "import os\n",
    "import sys\n",
    "import json\n",
    "import matplotlib.pyplot as plt\n",
    "import numpy as np\n",
    "import tensorflow as tf\n",
    "from gensim.models.word2vec import Word2Vec\n",
    "sys.path.append(os.pardir)\n",
    "from models.word_embedding import get_embedding_matrix"
   ]
  },
  {
   "cell_type": "code",
   "execution_count": 0,
   "metadata": {
    "colab": {},
    "colab_type": "code",
    "id": "dE_75_Y9Qyhz"
   },
   "outputs": [],
   "source": [
    "DATA_IN_PATH = './assets/data/npy_data/2020-05-31/'\n",
    "DATA_OUT_PATH = './model_save/cnn_model/'\n",
    "# Data save label\n",
    "TRAIN_INPUT_DATA = 'train_input.npy'\n",
    "TEST_INPUT_DATA = 'test_input.npy'\n",
    "DATA_CONFIGS = 'data_configs.json'\n",
    "SEQ_CONFIGS = 'seq_configs_bt.json'\n",
    "\n",
    "# Train label save file name\n",
    "TRAIN_LABEL_DATA = 'train_label.npy'\n",
    "TRAIN_LABEL_SMALL = 'train_label_small.npy'\n",
    "TEST_LABEL_DATA = 'test_label.npy'\n",
    "TEST_LABEL_SMALL = 'test_label_small.npy'"
   ]
  },
  {
   "cell_type": "code",
   "execution_count": 0,
   "metadata": {
    "colab": {},
    "colab_type": "code",
    "id": "wt_bS1Z2Rhap"
   },
   "outputs": [],
   "source": [
    "from notebook_example.test_package.lstm_train import LSTMTrain"
   ]
  },
  {
   "cell_type": "markdown",
   "metadata": {
    "colab_type": "text",
    "id": "xqWJ5TcyWjzf"
   },
   "source": [
    "## Load pre-trained data"
   ]
  },
  {
   "cell_type": "code",
   "execution_count": 6,
   "metadata": {
    "colab": {
     "base_uri": "https://localhost:8080/",
     "height": 72
    },
    "colab_type": "code",
    "executionInfo": {
     "elapsed": 7491,
     "status": "ok",
     "timestamp": 1591106459952,
     "user": {
      "displayName": "이명훈",
      "photoUrl": "",
      "userId": "07271482681718000858"
     },
     "user_tz": -540
    },
    "id": "07930H21Rj1O",
    "outputId": "3fcbd88a-e3ed-423e-d3a3-7a5e44a33fc8"
   },
   "outputs": [
    {
     "name": "stderr",
     "output_type": "stream",
     "text": [
      "/usr/local/lib/python3.6/dist-packages/smart_open/smart_open_lib.py:253: UserWarning: This function is deprecated, use smart_open.open instead. See the migration notes for details: https://github.com/RaRe-Technologies/smart_open/blob/master/README.rst#migrating-to-the-new-open-function\n",
      "  'See the migration notes for details: %s' % _MIGRATION_NOTES_URL\n"
     ]
    }
   ],
   "source": [
    "pre_trained_name = './model_save/embedding_model/trained_word2vec1.model'\n",
    "pre_trained_w2v = Word2Vec.load(pre_trained_name)"
   ]
  },
  {
   "cell_type": "code",
   "execution_count": 7,
   "metadata": {
    "colab": {
     "base_uri": "https://localhost:8080/",
     "height": 34
    },
    "colab_type": "code",
    "executionInfo": {
     "elapsed": 7308,
     "status": "ok",
     "timestamp": 1591106460616,
     "user": {
      "displayName": "이명훈",
      "photoUrl": "",
      "userId": "07271482681718000858"
     },
     "user_tz": -540
    },
    "id": "dZMpB5ZARlL-",
    "outputId": "08deb582-d1cb-4e35-dd52-0c3f13f261ed"
   },
   "outputs": [
    {
     "name": "stdout",
     "output_type": "stream",
     "text": [
      "vocab_size :  30079\n"
     ]
    }
   ],
   "source": [
    "train_X = np.load(open(DATA_IN_PATH + TRAIN_INPUT_DATA, 'rb'))\n",
    "train_Y = np.load(open(DATA_IN_PATH + TRAIN_LABEL_SMALL, 'rb'))\n",
    "test_X = np.load(open(DATA_IN_PATH + TEST_INPUT_DATA, 'rb'))\n",
    "test_Y = np.load(open(DATA_IN_PATH + TEST_LABEL_SMALL, 'rb'))\n",
    "train_YS = tf.one_hot(train_Y, 455)\n",
    "test_YS = tf.one_hot(test_Y, 455)\n",
    "data_configs = json.load(open(DATA_IN_PATH + DATA_CONFIGS, 'r'))\n",
    "vocab_size = data_configs['vocab_size'] + 1\n",
    "print(\"vocab_size : \", vocab_size)\n",
    "word_index = data_configs['vocab']"
   ]
  },
  {
   "cell_type": "markdown",
   "metadata": {
    "colab_type": "text",
    "id": "5HCFBOvJihlD"
   },
   "source": [
    "## 04. Bidirection LSTM pre-trained word2vec"
   ]
  },
  {
   "cell_type": "markdown",
   "metadata": {
    "colab_type": "text",
    "id": "i78cIYLnjqd3"
   },
   "source": [
    "### optimizer radam"
   ]
  },
  {
   "cell_type": "code",
   "execution_count": 8,
   "metadata": {
    "colab": {
     "base_uri": "https://localhost:8080/",
     "height": 122
    },
    "colab_type": "code",
    "executionInfo": {
     "elapsed": 1062,
     "status": "ok",
     "timestamp": 1591106464533,
     "user": {
      "displayName": "이명훈",
      "photoUrl": "",
      "userId": "07271482681718000858"
     },
     "user_tz": -540
    },
    "id": "VFTwU-D1j0NI",
    "outputId": "9a8b5b79-0a4f-4acf-8931-e1c798f83987"
   },
   "outputs": [
    {
     "name": "stdout",
     "output_type": "stream",
     "text": [
      "small_class\n",
      "output_dim :  455\n",
      "./model_save/rnn_model_small/\n",
      "word index size :  30079\n",
      "28173 1905\n",
      "train_mode : pt, optimizer : radam, pre-trained_mode : pt_w2v, model_name : lstm_pt_radam_pt_w2v\n"
     ]
    }
   ],
   "source": [
    "lstm_train_pt_w2v = LSTMTrain(vocab_size=vocab_size, \n",
    "                            batch_size=128,\n",
    "                            train_mode='pt',\n",
    "                            output_dim=455,\n",
    "                            pre_trained_mode='pt_w2v',\n",
    "                            optimizer='radam',\n",
    "                            word_index=word_index,\n",
    "                            embedding_matrix=pre_trained_w2v\n",
    "                            )"
   ]
  },
  {
   "cell_type": "code",
   "execution_count": 9,
   "metadata": {
    "colab": {
     "base_uri": "https://localhost:8080/",
     "height": 1000
    },
    "colab_type": "code",
    "executionInfo": {
     "elapsed": 1448439,
     "status": "ok",
     "timestamp": 1591107916278,
     "user": {
      "displayName": "이명훈",
      "photoUrl": "",
      "userId": "07271482681718000858"
     },
     "user_tz": -540
    },
    "id": "Qv5HbmJTj1gy",
    "outputId": "405e1a84-4c68-475a-a75a-79c33d7e8eb1"
   },
   "outputs": [
    {
     "name": "stdout",
     "output_type": "stream",
     "text": [
      "{'vocab_size': 30079, 'embedding_size': 300, 'dropout_rate': 0.5, 'lstm_dimension': 128, 'dense_dimension': 64, 'train_mode': 'pt', 'output_dimension': 455, 'model_name': 'lstm_pt_radam_pt_w2v', 'embedding_matrix': array([[ 0.        ,  0.        ,  0.        , ...,  0.        ,\n",
      "         0.        ,  0.        ],\n",
      "       [-0.1215607 ,  0.20265704, -0.1296849 , ..., -0.25743967,\n",
      "        -0.44502595, -0.15552975],\n",
      "       [-0.07061617,  0.60541958,  0.0075527 , ...,  0.00845565,\n",
      "        -0.01567723, -0.02487615],\n",
      "       ...,\n",
      "       [-0.73014832,  0.27339637, -0.06521773, ..., -0.30837446,\n",
      "         0.41687673, -0.36610672],\n",
      "       [-0.78842098, -0.6107676 , -0.37505671, ...,  0.14378503,\n",
      "        -0.27998501, -0.66035861],\n",
      "       [-0.59498692,  0.02842285,  0.46921459, ..., -0.48162848,\n",
      "        -0.31085017, -0.19220926]])}\n",
      "./model_save/rnn_model_small/lstm_pt_radam_pt_w2v -- Folder already exists \n",
      "\n",
      "callback set\n",
      "Epoch 1/1000\n",
      "68/68 [==============================] - ETA: 0s - loss: 6.1166 - accuracy: 0.0031 - f1_score: 0.0022\n",
      "Epoch 00001: val_accuracy improved from -inf to 0.01066, saving model to ./model_save/rnn_model_small/lstm_pt_radam_pt_w2v/weights.h5\n",
      "68/68 [==============================] - 13s 193ms/step - loss: 6.1166 - accuracy: 0.0031 - f1_score: 0.0022 - val_loss: 6.1010 - val_accuracy: 0.0107 - val_f1_score: 0.0014\n",
      "Epoch 2/1000\n",
      "68/68 [==============================] - ETA: 0s - loss: 6.0802 - accuracy: 0.0071 - f1_score: 0.0022\n",
      "Epoch 00002: val_accuracy improved from 0.01066 to 0.02549, saving model to ./model_save/rnn_model_small/lstm_pt_radam_pt_w2v/weights.h5\n",
      "68/68 [==============================] - 13s 192ms/step - loss: 6.0802 - accuracy: 0.0071 - f1_score: 0.0022 - val_loss: 6.0298 - val_accuracy: 0.0255 - val_f1_score: 0.0030\n",
      "Epoch 3/1000\n",
      "68/68 [==============================] - ETA: 0s - loss: 5.9399 - accuracy: 0.0205 - f1_score: 0.0057\n",
      "Epoch 00003: val_accuracy improved from 0.02549 to 0.04634, saving model to ./model_save/rnn_model_small/lstm_pt_radam_pt_w2v/weights.h5\n",
      "68/68 [==============================] - 15s 214ms/step - loss: 5.9399 - accuracy: 0.0205 - f1_score: 0.0057 - val_loss: 5.7691 - val_accuracy: 0.0463 - val_f1_score: 0.0080\n",
      "Epoch 4/1000\n",
      "68/68 [==============================] - ETA: 0s - loss: 5.6712 - accuracy: 0.0404 - f1_score: 0.0091\n",
      "Epoch 00004: val_accuracy improved from 0.04634 to 0.05561, saving model to ./model_save/rnn_model_small/lstm_pt_radam_pt_w2v/weights.h5\n",
      "68/68 [==============================] - 11s 166ms/step - loss: 5.6712 - accuracy: 0.0404 - f1_score: 0.0091 - val_loss: 5.4613 - val_accuracy: 0.0556 - val_f1_score: 0.0073\n",
      "Epoch 5/1000\n",
      "68/68 [==============================] - ETA: 0s - loss: 5.3654 - accuracy: 0.0643 - f1_score: 0.0131\n",
      "Epoch 00005: val_accuracy improved from 0.05561 to 0.05746, saving model to ./model_save/rnn_model_small/lstm_pt_radam_pt_w2v/weights.h5\n",
      "68/68 [==============================] - 11s 165ms/step - loss: 5.3654 - accuracy: 0.0643 - f1_score: 0.0131 - val_loss: 5.1986 - val_accuracy: 0.0575 - val_f1_score: 0.0105\n",
      "Epoch 6/1000\n",
      "68/68 [==============================] - ETA: 0s - loss: 5.1077 - accuracy: 0.0784 - f1_score: 0.0158\n",
      "Epoch 00006: val_accuracy improved from 0.05746 to 0.07368, saving model to ./model_save/rnn_model_small/lstm_pt_radam_pt_w2v/weights.h5\n",
      "68/68 [==============================] - 13s 194ms/step - loss: 5.1077 - accuracy: 0.0784 - f1_score: 0.0158 - val_loss: 4.9237 - val_accuracy: 0.0737 - val_f1_score: 0.0145\n",
      "Epoch 7/1000\n",
      "68/68 [==============================] - ETA: 0s - loss: 4.8437 - accuracy: 0.1018 - f1_score: 0.0244\n",
      "Epoch 00007: val_accuracy improved from 0.07368 to 0.11724, saving model to ./model_save/rnn_model_small/lstm_pt_radam_pt_w2v/weights.h5\n",
      "68/68 [==============================] - 15s 215ms/step - loss: 4.8437 - accuracy: 0.1018 - f1_score: 0.0244 - val_loss: 4.6673 - val_accuracy: 0.1172 - val_f1_score: 0.0250\n",
      "Epoch 8/1000\n",
      "68/68 [==============================] - ETA: 0s - loss: 4.6331 - accuracy: 0.1177 - f1_score: 0.0300\n",
      "Epoch 00008: val_accuracy improved from 0.11724 to 0.13207, saving model to ./model_save/rnn_model_small/lstm_pt_radam_pt_w2v/weights.h5\n",
      "68/68 [==============================] - 15s 221ms/step - loss: 4.6331 - accuracy: 0.1177 - f1_score: 0.0300 - val_loss: 4.4459 - val_accuracy: 0.1321 - val_f1_score: 0.0275\n",
      "Epoch 9/1000\n",
      "68/68 [==============================] - ETA: 0s - loss: 4.4092 - accuracy: 0.1398 - f1_score: 0.0359\n",
      "Epoch 00009: val_accuracy improved from 0.13207 to 0.14875, saving model to ./model_save/rnn_model_small/lstm_pt_radam_pt_w2v/weights.h5\n",
      "68/68 [==============================] - 14s 201ms/step - loss: 4.4092 - accuracy: 0.1398 - f1_score: 0.0359 - val_loss: 4.2615 - val_accuracy: 0.1487 - val_f1_score: 0.0349\n",
      "Epoch 10/1000\n",
      "68/68 [==============================] - ETA: 0s - loss: 4.2204 - accuracy: 0.1471 - f1_score: 0.0400\n",
      "Epoch 00010: val_accuracy improved from 0.14875 to 0.16682, saving model to ./model_save/rnn_model_small/lstm_pt_radam_pt_w2v/weights.h5\n",
      "68/68 [==============================] - 14s 201ms/step - loss: 4.2204 - accuracy: 0.1471 - f1_score: 0.0400 - val_loss: 4.0600 - val_accuracy: 0.1668 - val_f1_score: 0.0412\n",
      "Epoch 11/1000\n",
      "68/68 [==============================] - ETA: 0s - loss: 4.0507 - accuracy: 0.1651 - f1_score: 0.0475\n",
      "Epoch 00011: val_accuracy improved from 0.16682 to 0.17377, saving model to ./model_save/rnn_model_small/lstm_pt_radam_pt_w2v/weights.h5\n",
      "68/68 [==============================] - 14s 199ms/step - loss: 4.0507 - accuracy: 0.1651 - f1_score: 0.0475 - val_loss: 3.9002 - val_accuracy: 0.1738 - val_f1_score: 0.0441\n",
      "Epoch 12/1000\n",
      "68/68 [==============================] - ETA: 0s - loss: 3.9910 - accuracy: 0.1661 - f1_score: 0.0524\n",
      "Epoch 00012: val_accuracy did not improve from 0.17377\n",
      "68/68 [==============================] - 11s 163ms/step - loss: 3.9910 - accuracy: 0.1661 - f1_score: 0.0524 - val_loss: 3.8311 - val_accuracy: 0.1701 - val_f1_score: 0.0427\n",
      "Epoch 13/1000\n",
      "68/68 [==============================] - ETA: 0s - loss: 3.9414 - accuracy: 0.1631 - f1_score: 0.0530\n",
      "Epoch 00013: val_accuracy did not improve from 0.17377\n",
      "68/68 [==============================] - 11s 162ms/step - loss: 3.9414 - accuracy: 0.1631 - f1_score: 0.0530 - val_loss: 3.8393 - val_accuracy: 0.1627 - val_f1_score: 0.0409\n",
      "Epoch 14/1000\n",
      "68/68 [==============================] - ETA: 0s - loss: 3.7216 - accuracy: 0.1840 - f1_score: 0.0652\n",
      "Epoch 00014: val_accuracy improved from 0.17377 to 0.18953, saving model to ./model_save/rnn_model_small/lstm_pt_radam_pt_w2v/weights.h5\n",
      "68/68 [==============================] - 13s 195ms/step - loss: 3.7216 - accuracy: 0.1840 - f1_score: 0.0652 - val_loss: 3.5872 - val_accuracy: 0.1895 - val_f1_score: 0.0555\n",
      "Epoch 15/1000\n",
      "68/68 [==============================] - ETA: 0s - loss: 3.5924 - accuracy: 0.2008 - f1_score: 0.0745\n",
      "Epoch 00015: val_accuracy improved from 0.18953 to 0.20714, saving model to ./model_save/rnn_model_small/lstm_pt_radam_pt_w2v/weights.h5\n",
      "68/68 [==============================] - 14s 205ms/step - loss: 3.5924 - accuracy: 0.2008 - f1_score: 0.0745 - val_loss: 3.4192 - val_accuracy: 0.2071 - val_f1_score: 0.0652\n",
      "Epoch 16/1000\n",
      "68/68 [==============================] - ETA: 0s - loss: 3.4495 - accuracy: 0.2221 - f1_score: 0.0857\n",
      "Epoch 00016: val_accuracy improved from 0.20714 to 0.21918, saving model to ./model_save/rnn_model_small/lstm_pt_radam_pt_w2v/weights.h5\n",
      "68/68 [==============================] - 11s 166ms/step - loss: 3.4495 - accuracy: 0.2221 - f1_score: 0.0857 - val_loss: 3.3717 - val_accuracy: 0.2192 - val_f1_score: 0.0749\n",
      "Epoch 17/1000\n",
      "68/68 [==============================] - ETA: 0s - loss: 3.3487 - accuracy: 0.2314 - f1_score: 0.0919\n",
      "Epoch 00017: val_accuracy improved from 0.21918 to 0.23587, saving model to ./model_save/rnn_model_small/lstm_pt_radam_pt_w2v/weights.h5\n",
      "68/68 [==============================] - 11s 166ms/step - loss: 3.3487 - accuracy: 0.2314 - f1_score: 0.0919 - val_loss: 3.2226 - val_accuracy: 0.2359 - val_f1_score: 0.0970\n",
      "Epoch 18/1000\n",
      "68/68 [==============================] - ETA: 0s - loss: 3.2528 - accuracy: 0.2328 - f1_score: 0.0980\n",
      "Epoch 00018: val_accuracy did not improve from 0.23587\n",
      "68/68 [==============================] - 11s 163ms/step - loss: 3.2528 - accuracy: 0.2328 - f1_score: 0.0980 - val_loss: 3.1579 - val_accuracy: 0.2354 - val_f1_score: 0.0932\n",
      "Epoch 19/1000\n",
      "68/68 [==============================] - ETA: 0s - loss: 3.1742 - accuracy: 0.2419 - f1_score: 0.1027\n",
      "Epoch 00019: val_accuracy did not improve from 0.23587\n",
      "68/68 [==============================] - 11s 161ms/step - loss: 3.1742 - accuracy: 0.2419 - f1_score: 0.1027 - val_loss: 3.1292 - val_accuracy: 0.2317 - val_f1_score: 0.0919\n",
      "Epoch 20/1000\n",
      "68/68 [==============================] - ETA: 0s - loss: 3.1007 - accuracy: 0.2530 - f1_score: 0.1163\n",
      "Epoch 00020: val_accuracy improved from 0.23587 to 0.25857, saving model to ./model_save/rnn_model_small/lstm_pt_radam_pt_w2v/weights.h5\n",
      "68/68 [==============================] - 13s 188ms/step - loss: 3.1007 - accuracy: 0.2530 - f1_score: 0.1163 - val_loss: 2.9897 - val_accuracy: 0.2586 - val_f1_score: 0.1073\n",
      "Epoch 21/1000\n",
      "68/68 [==============================] - ETA: 0s - loss: 3.0676 - accuracy: 0.2574 - f1_score: 0.1191\n",
      "Epoch 00021: val_accuracy did not improve from 0.25857\n",
      "68/68 [==============================] - 11s 167ms/step - loss: 3.0676 - accuracy: 0.2574 - f1_score: 0.1191 - val_loss: 3.0069 - val_accuracy: 0.2525 - val_f1_score: 0.1068\n",
      "Epoch 22/1000\n",
      "68/68 [==============================] - ETA: 0s - loss: 2.9733 - accuracy: 0.2717 - f1_score: 0.1263\n",
      "Epoch 00022: val_accuracy improved from 0.25857 to 0.27247, saving model to ./model_save/rnn_model_small/lstm_pt_radam_pt_w2v/weights.h5\n",
      "68/68 [==============================] - 15s 219ms/step - loss: 2.9733 - accuracy: 0.2717 - f1_score: 0.1263 - val_loss: 2.8679 - val_accuracy: 0.2725 - val_f1_score: 0.1177\n",
      "Epoch 23/1000\n",
      "68/68 [==============================] - ETA: 0s - loss: 2.8616 - accuracy: 0.2824 - f1_score: 0.1385\n",
      "Epoch 00023: val_accuracy improved from 0.27247 to 0.27618, saving model to ./model_save/rnn_model_small/lstm_pt_radam_pt_w2v/weights.h5\n",
      "68/68 [==============================] - 13s 192ms/step - loss: 2.8616 - accuracy: 0.2824 - f1_score: 0.1385 - val_loss: 2.8339 - val_accuracy: 0.2762 - val_f1_score: 0.1182\n",
      "Epoch 24/1000\n",
      "68/68 [==============================] - ETA: 0s - loss: 2.8183 - accuracy: 0.2931 - f1_score: 0.1478\n",
      "Epoch 00024: val_accuracy improved from 0.27618 to 0.28406, saving model to ./model_save/rnn_model_small/lstm_pt_radam_pt_w2v/weights.h5\n",
      "68/68 [==============================] - 13s 193ms/step - loss: 2.8183 - accuracy: 0.2931 - f1_score: 0.1478 - val_loss: 2.7616 - val_accuracy: 0.2841 - val_f1_score: 0.1302\n",
      "Epoch 25/1000\n",
      "68/68 [==============================] - ETA: 0s - loss: 2.7422 - accuracy: 0.2953 - f1_score: 0.1514\n",
      "Epoch 00025: val_accuracy improved from 0.28406 to 0.30399, saving model to ./model_save/rnn_model_small/lstm_pt_radam_pt_w2v/weights.h5\n",
      "68/68 [==============================] - 14s 200ms/step - loss: 2.7422 - accuracy: 0.2953 - f1_score: 0.1514 - val_loss: 2.6736 - val_accuracy: 0.3040 - val_f1_score: 0.1452\n",
      "Epoch 26/1000\n",
      "68/68 [==============================] - ETA: 0s - loss: 2.6414 - accuracy: 0.3104 - f1_score: 0.1623\n",
      "Epoch 00026: val_accuracy improved from 0.30399 to 0.31094, saving model to ./model_save/rnn_model_small/lstm_pt_radam_pt_w2v/weights.h5\n",
      "68/68 [==============================] - 13s 197ms/step - loss: 2.6414 - accuracy: 0.3104 - f1_score: 0.1623 - val_loss: 2.6256 - val_accuracy: 0.3109 - val_f1_score: 0.1537\n",
      "Epoch 27/1000\n",
      "68/68 [==============================] - ETA: 0s - loss: 2.5744 - accuracy: 0.3177 - f1_score: 0.1657\n",
      "Epoch 00027: val_accuracy improved from 0.31094 to 0.32437, saving model to ./model_save/rnn_model_small/lstm_pt_radam_pt_w2v/weights.h5\n",
      "68/68 [==============================] - 11s 166ms/step - loss: 2.5744 - accuracy: 0.3177 - f1_score: 0.1657 - val_loss: 2.5301 - val_accuracy: 0.3244 - val_f1_score: 0.1653\n",
      "Epoch 28/1000\n",
      "68/68 [==============================] - ETA: 0s - loss: 2.5453 - accuracy: 0.3251 - f1_score: 0.1798\n",
      "Epoch 00028: val_accuracy did not improve from 0.32437\n",
      "68/68 [==============================] - 11s 163ms/step - loss: 2.5453 - accuracy: 0.3251 - f1_score: 0.1798 - val_loss: 2.5484 - val_accuracy: 0.3179 - val_f1_score: 0.1615\n",
      "Epoch 29/1000\n",
      "68/68 [==============================] - ETA: 0s - loss: 2.5091 - accuracy: 0.3328 - f1_score: 0.1859\n",
      "Epoch 00029: val_accuracy improved from 0.32437 to 0.34059, saving model to ./model_save/rnn_model_small/lstm_pt_radam_pt_w2v/weights.h5\n",
      "68/68 [==============================] - 14s 204ms/step - loss: 2.5091 - accuracy: 0.3328 - f1_score: 0.1859 - val_loss: 2.4791 - val_accuracy: 0.3406 - val_f1_score: 0.1719\n",
      "Epoch 30/1000\n",
      "68/68 [==============================] - ETA: 0s - loss: 2.4456 - accuracy: 0.3529 - f1_score: 0.2020\n",
      "Epoch 00030: val_accuracy improved from 0.34059 to 0.35218, saving model to ./model_save/rnn_model_small/lstm_pt_radam_pt_w2v/weights.h5\n",
      "68/68 [==============================] - 13s 194ms/step - loss: 2.4456 - accuracy: 0.3529 - f1_score: 0.2020 - val_loss: 2.4350 - val_accuracy: 0.3522 - val_f1_score: 0.1916\n",
      "Epoch 31/1000\n",
      "68/68 [==============================] - ETA: 0s - loss: 2.4272 - accuracy: 0.3502 - f1_score: 0.2016\n",
      "Epoch 00031: val_accuracy improved from 0.35218 to 0.35635, saving model to ./model_save/rnn_model_small/lstm_pt_radam_pt_w2v/weights.h5\n",
      "68/68 [==============================] - 13s 188ms/step - loss: 2.4272 - accuracy: 0.3502 - f1_score: 0.2016 - val_loss: 2.3836 - val_accuracy: 0.3563 - val_f1_score: 0.1923\n",
      "Epoch 32/1000\n",
      "68/68 [==============================] - ETA: 0s - loss: 2.3413 - accuracy: 0.3610 - f1_score: 0.2115\n",
      "Epoch 00032: val_accuracy improved from 0.35635 to 0.36608, saving model to ./model_save/rnn_model_small/lstm_pt_radam_pt_w2v/weights.h5\n",
      "68/68 [==============================] - 11s 166ms/step - loss: 2.3413 - accuracy: 0.3610 - f1_score: 0.2115 - val_loss: 2.3663 - val_accuracy: 0.3661 - val_f1_score: 0.2097\n",
      "Epoch 33/1000\n",
      "68/68 [==============================] - ETA: 0s - loss: 2.2794 - accuracy: 0.3781 - f1_score: 0.2277\n",
      "Epoch 00033: val_accuracy did not improve from 0.36608\n",
      "68/68 [==============================] - 11s 164ms/step - loss: 2.2794 - accuracy: 0.3781 - f1_score: 0.2277 - val_loss: 2.3192 - val_accuracy: 0.3652 - val_f1_score: 0.2092\n",
      "Epoch 34/1000\n",
      "68/68 [==============================] - ETA: 0s - loss: 2.2238 - accuracy: 0.3857 - f1_score: 0.2394\n",
      "Epoch 00034: val_accuracy improved from 0.36608 to 0.37257, saving model to ./model_save/rnn_model_small/lstm_pt_radam_pt_w2v/weights.h5\n",
      "68/68 [==============================] - 13s 191ms/step - loss: 2.2238 - accuracy: 0.3857 - f1_score: 0.2394 - val_loss: 2.2851 - val_accuracy: 0.3726 - val_f1_score: 0.2196\n",
      "Epoch 35/1000\n",
      "68/68 [==============================] - ETA: 0s - loss: 2.2770 - accuracy: 0.3796 - f1_score: 0.2373\n",
      "Epoch 00035: val_accuracy improved from 0.37257 to 0.37905, saving model to ./model_save/rnn_model_small/lstm_pt_radam_pt_w2v/weights.h5\n",
      "68/68 [==============================] - 14s 199ms/step - loss: 2.2770 - accuracy: 0.3796 - f1_score: 0.2373 - val_loss: 2.2646 - val_accuracy: 0.3791 - val_f1_score: 0.2142\n",
      "Epoch 36/1000\n",
      "68/68 [==============================] - ETA: 0s - loss: 2.2052 - accuracy: 0.3920 - f1_score: 0.2427\n",
      "Epoch 00036: val_accuracy did not improve from 0.37905\n",
      "68/68 [==============================] - 11s 164ms/step - loss: 2.2052 - accuracy: 0.3920 - f1_score: 0.2427 - val_loss: 2.2973 - val_accuracy: 0.3777 - val_f1_score: 0.2169\n",
      "Epoch 37/1000\n",
      "68/68 [==============================] - ETA: 0s - loss: 2.3608 - accuracy: 0.3652 - f1_score: 0.2227\n",
      "Epoch 00037: val_accuracy did not improve from 0.37905\n",
      "68/68 [==============================] - 11s 164ms/step - loss: 2.3608 - accuracy: 0.3652 - f1_score: 0.2227 - val_loss: 2.3954 - val_accuracy: 0.3522 - val_f1_score: 0.1987\n",
      "Epoch 38/1000\n",
      "68/68 [==============================] - ETA: 0s - loss: 2.2760 - accuracy: 0.3712 - f1_score: 0.2277\n",
      "Epoch 00038: val_accuracy improved from 0.37905 to 0.38276, saving model to ./model_save/rnn_model_small/lstm_pt_radam_pt_w2v/weights.h5\n",
      "68/68 [==============================] - 13s 193ms/step - loss: 2.2760 - accuracy: 0.3712 - f1_score: 0.2277 - val_loss: 2.2133 - val_accuracy: 0.3828 - val_f1_score: 0.2290\n",
      "Epoch 39/1000\n",
      "68/68 [==============================] - ETA: 0s - loss: 2.1337 - accuracy: 0.4069 - f1_score: 0.2600\n",
      "Epoch 00039: val_accuracy improved from 0.38276 to 0.39713, saving model to ./model_save/rnn_model_small/lstm_pt_radam_pt_w2v/weights.h5\n",
      "68/68 [==============================] - 13s 192ms/step - loss: 2.1337 - accuracy: 0.4069 - f1_score: 0.2600 - val_loss: 2.1580 - val_accuracy: 0.3971 - val_f1_score: 0.2358\n",
      "Epoch 40/1000\n",
      "68/68 [==============================] - ETA: 0s - loss: 2.0452 - accuracy: 0.4147 - f1_score: 0.2670\n",
      "Epoch 00040: val_accuracy improved from 0.39713 to 0.41103, saving model to ./model_save/rnn_model_small/lstm_pt_radam_pt_w2v/weights.h5\n",
      "68/68 [==============================] - 13s 191ms/step - loss: 2.0452 - accuracy: 0.4147 - f1_score: 0.2670 - val_loss: 2.1194 - val_accuracy: 0.4110 - val_f1_score: 0.2520\n",
      "Epoch 41/1000\n",
      "68/68 [==============================] - ETA: 0s - loss: 1.9962 - accuracy: 0.4349 - f1_score: 0.2898\n",
      "Epoch 00041: val_accuracy improved from 0.41103 to 0.41844, saving model to ./model_save/rnn_model_small/lstm_pt_radam_pt_w2v/weights.h5\n",
      "68/68 [==============================] - 11s 166ms/step - loss: 1.9962 - accuracy: 0.4349 - f1_score: 0.2898 - val_loss: 2.0569 - val_accuracy: 0.4184 - val_f1_score: 0.2624\n",
      "Epoch 42/1000\n",
      "68/68 [==============================] - ETA: 0s - loss: 2.0557 - accuracy: 0.4224 - f1_score: 0.2753\n",
      "Epoch 00042: val_accuracy improved from 0.41844 to 0.41983, saving model to ./model_save/rnn_model_small/lstm_pt_radam_pt_w2v/weights.h5\n",
      "68/68 [==============================] - 14s 205ms/step - loss: 2.0557 - accuracy: 0.4224 - f1_score: 0.2753 - val_loss: 2.0704 - val_accuracy: 0.4198 - val_f1_score: 0.2615\n",
      "Epoch 43/1000\n",
      "68/68 [==============================] - ETA: 0s - loss: 1.9588 - accuracy: 0.4370 - f1_score: 0.2941\n",
      "Epoch 00043: val_accuracy improved from 0.41983 to 0.43698, saving model to ./model_save/rnn_model_small/lstm_pt_radam_pt_w2v/weights.h5\n",
      "68/68 [==============================] - 12s 170ms/step - loss: 1.9588 - accuracy: 0.4370 - f1_score: 0.2941 - val_loss: 2.0176 - val_accuracy: 0.4370 - val_f1_score: 0.2765\n",
      "Epoch 44/1000\n",
      "68/68 [==============================] - ETA: 0s - loss: 1.9165 - accuracy: 0.4544 - f1_score: 0.3082\n",
      "Epoch 00044: val_accuracy did not improve from 0.43698\n",
      "68/68 [==============================] - 11s 163ms/step - loss: 1.9165 - accuracy: 0.4544 - f1_score: 0.3082 - val_loss: 2.0100 - val_accuracy: 0.4286 - val_f1_score: 0.2766\n",
      "Epoch 45/1000\n",
      "68/68 [==============================] - ETA: 0s - loss: 1.8629 - accuracy: 0.4615 - f1_score: 0.3182\n",
      "Epoch 00045: val_accuracy improved from 0.43698 to 0.44347, saving model to ./model_save/rnn_model_small/lstm_pt_radam_pt_w2v/weights.h5\n",
      "68/68 [==============================] - 13s 191ms/step - loss: 1.8629 - accuracy: 0.4615 - f1_score: 0.3182 - val_loss: 1.9446 - val_accuracy: 0.4435 - val_f1_score: 0.2885\n",
      "Epoch 46/1000\n",
      "68/68 [==============================] - ETA: 0s - loss: 1.8334 - accuracy: 0.4741 - f1_score: 0.3301\n",
      "Epoch 00046: val_accuracy improved from 0.44347 to 0.45459, saving model to ./model_save/rnn_model_small/lstm_pt_radam_pt_w2v/weights.h5\n",
      "68/68 [==============================] - 11s 166ms/step - loss: 1.8334 - accuracy: 0.4741 - f1_score: 0.3301 - val_loss: 1.9388 - val_accuracy: 0.4546 - val_f1_score: 0.3033\n",
      "Epoch 47/1000\n",
      "68/68 [==============================] - ETA: 0s - loss: 1.7965 - accuracy: 0.4914 - f1_score: 0.3521\n",
      "Epoch 00047: val_accuracy did not improve from 0.45459\n",
      "68/68 [==============================] - 11s 164ms/step - loss: 1.7965 - accuracy: 0.4914 - f1_score: 0.3521 - val_loss: 1.9333 - val_accuracy: 0.4486 - val_f1_score: 0.2883\n",
      "Epoch 48/1000\n",
      "68/68 [==============================] - ETA: 0s - loss: 1.7530 - accuracy: 0.4921 - f1_score: 0.3488\n",
      "Epoch 00048: val_accuracy improved from 0.45459 to 0.46849, saving model to ./model_save/rnn_model_small/lstm_pt_radam_pt_w2v/weights.h5\n",
      "68/68 [==============================] - 13s 190ms/step - loss: 1.7530 - accuracy: 0.4921 - f1_score: 0.3488 - val_loss: 1.8654 - val_accuracy: 0.4685 - val_f1_score: 0.3151\n",
      "Epoch 49/1000\n",
      "68/68 [==============================] - ETA: 0s - loss: 1.7190 - accuracy: 0.4984 - f1_score: 0.3602\n",
      "Epoch 00049: val_accuracy improved from 0.46849 to 0.47915, saving model to ./model_save/rnn_model_small/lstm_pt_radam_pt_w2v/weights.h5\n",
      "68/68 [==============================] - 11s 166ms/step - loss: 1.7190 - accuracy: 0.4984 - f1_score: 0.3602 - val_loss: 1.8478 - val_accuracy: 0.4791 - val_f1_score: 0.3233\n",
      "Epoch 50/1000\n",
      "68/68 [==============================] - ETA: 0s - loss: 1.6792 - accuracy: 0.5201 - f1_score: 0.3825\n",
      "Epoch 00050: val_accuracy improved from 0.47915 to 0.48749, saving model to ./model_save/rnn_model_small/lstm_pt_radam_pt_w2v/weights.h5\n",
      "68/68 [==============================] - 11s 166ms/step - loss: 1.6792 - accuracy: 0.5201 - f1_score: 0.3825 - val_loss: 1.8297 - val_accuracy: 0.4875 - val_f1_score: 0.3417\n",
      "Epoch 51/1000\n",
      "68/68 [==============================] - ETA: 0s - loss: 1.6247 - accuracy: 0.5238 - f1_score: 0.3890\n",
      "Epoch 00051: val_accuracy improved from 0.48749 to 0.49815, saving model to ./model_save/rnn_model_small/lstm_pt_radam_pt_w2v/weights.h5\n",
      "68/68 [==============================] - 11s 166ms/step - loss: 1.6247 - accuracy: 0.5238 - f1_score: 0.3890 - val_loss: 1.7709 - val_accuracy: 0.4981 - val_f1_score: 0.3424\n",
      "Epoch 52/1000\n",
      "68/68 [==============================] - ETA: 0s - loss: 1.6008 - accuracy: 0.5354 - f1_score: 0.3962\n",
      "Epoch 00052: val_accuracy did not improve from 0.49815\n",
      "68/68 [==============================] - 11s 163ms/step - loss: 1.6008 - accuracy: 0.5354 - f1_score: 0.3962 - val_loss: 1.8101 - val_accuracy: 0.4893 - val_f1_score: 0.3409\n",
      "Epoch 53/1000\n",
      "68/68 [==============================] - ETA: 0s - loss: 1.5861 - accuracy: 0.5323 - f1_score: 0.3985\n",
      "Epoch 00053: val_accuracy did not improve from 0.49815\n",
      "68/68 [==============================] - 11s 162ms/step - loss: 1.5861 - accuracy: 0.5323 - f1_score: 0.3985 - val_loss: 1.7860 - val_accuracy: 0.4893 - val_f1_score: 0.3433\n",
      "Epoch 54/1000\n",
      "68/68 [==============================] - ETA: 0s - loss: 1.5576 - accuracy: 0.5466 - f1_score: 0.4159\n",
      "Epoch 00054: val_accuracy improved from 0.49815 to 0.51158, saving model to ./model_save/rnn_model_small/lstm_pt_radam_pt_w2v/weights.h5\n",
      "68/68 [==============================] - 13s 193ms/step - loss: 1.5576 - accuracy: 0.5466 - f1_score: 0.4159 - val_loss: 1.7389 - val_accuracy: 0.5116 - val_f1_score: 0.3557\n",
      "Epoch 55/1000\n",
      "68/68 [==============================] - ETA: 0s - loss: 1.5387 - accuracy: 0.5547 - f1_score: 0.4246\n",
      "Epoch 00055: val_accuracy did not improve from 0.51158\n",
      "68/68 [==============================] - 11s 163ms/step - loss: 1.5387 - accuracy: 0.5547 - f1_score: 0.4246 - val_loss: 1.7498 - val_accuracy: 0.5111 - val_f1_score: 0.3676\n",
      "Epoch 56/1000\n",
      "68/68 [==============================] - ETA: 0s - loss: 1.5240 - accuracy: 0.5538 - f1_score: 0.4242\n",
      "Epoch 00056: val_accuracy improved from 0.51158 to 0.51993, saving model to ./model_save/rnn_model_small/lstm_pt_radam_pt_w2v/weights.h5\n",
      "68/68 [==============================] - 13s 190ms/step - loss: 1.5240 - accuracy: 0.5538 - f1_score: 0.4242 - val_loss: 1.7115 - val_accuracy: 0.5199 - val_f1_score: 0.3788\n",
      "Epoch 57/1000\n",
      "68/68 [==============================] - ETA: 0s - loss: 1.4753 - accuracy: 0.5639 - f1_score: 0.4304\n",
      "Epoch 00057: val_accuracy improved from 0.51993 to 0.52873, saving model to ./model_save/rnn_model_small/lstm_pt_radam_pt_w2v/weights.h5\n",
      "68/68 [==============================] - 13s 188ms/step - loss: 1.4753 - accuracy: 0.5639 - f1_score: 0.4304 - val_loss: 1.6951 - val_accuracy: 0.5287 - val_f1_score: 0.3745\n",
      "Epoch 58/1000\n",
      "68/68 [==============================] - ETA: 0s - loss: 1.4397 - accuracy: 0.5720 - f1_score: 0.4431\n",
      "Epoch 00058: val_accuracy improved from 0.52873 to 0.53105, saving model to ./model_save/rnn_model_small/lstm_pt_radam_pt_w2v/weights.h5\n",
      "68/68 [==============================] - 11s 164ms/step - loss: 1.4397 - accuracy: 0.5720 - f1_score: 0.4431 - val_loss: 1.6694 - val_accuracy: 0.5310 - val_f1_score: 0.3881\n",
      "Epoch 59/1000\n",
      "68/68 [==============================] - ETA: 0s - loss: 1.4312 - accuracy: 0.5784 - f1_score: 0.4531\n",
      "Epoch 00059: val_accuracy did not improve from 0.53105\n",
      "68/68 [==============================] - 11s 166ms/step - loss: 1.4312 - accuracy: 0.5784 - f1_score: 0.4531 - val_loss: 1.7091 - val_accuracy: 0.5287 - val_f1_score: 0.3949\n",
      "Epoch 60/1000\n",
      "68/68 [==============================] - ETA: 0s - loss: 1.4124 - accuracy: 0.5823 - f1_score: 0.4530\n",
      "Epoch 00060: val_accuracy did not improve from 0.53105\n",
      "68/68 [==============================] - 11s 162ms/step - loss: 1.4124 - accuracy: 0.5823 - f1_score: 0.4530 - val_loss: 1.6835 - val_accuracy: 0.5190 - val_f1_score: 0.3783\n",
      "Epoch 61/1000\n",
      "68/68 [==============================] - ETA: 0s - loss: 1.3826 - accuracy: 0.5910 - f1_score: 0.4627\n",
      "Epoch 00061: val_accuracy improved from 0.53105 to 0.53475, saving model to ./model_save/rnn_model_small/lstm_pt_radam_pt_w2v/weights.h5\n",
      "68/68 [==============================] - 14s 207ms/step - loss: 1.3826 - accuracy: 0.5910 - f1_score: 0.4627 - val_loss: 1.6688 - val_accuracy: 0.5348 - val_f1_score: 0.3891\n",
      "Epoch 62/1000\n",
      "68/68 [==============================] - ETA: 0s - loss: 1.3658 - accuracy: 0.5977 - f1_score: 0.4735\n",
      "Epoch 00062: val_accuracy improved from 0.53475 to 0.53522, saving model to ./model_save/rnn_model_small/lstm_pt_radam_pt_w2v/weights.h5\n",
      "68/68 [==============================] - 13s 188ms/step - loss: 1.3658 - accuracy: 0.5977 - f1_score: 0.4735 - val_loss: 1.6844 - val_accuracy: 0.5352 - val_f1_score: 0.3953\n",
      "Epoch 63/1000\n",
      "68/68 [==============================] - ETA: 0s - loss: 1.3202 - accuracy: 0.6070 - f1_score: 0.4857\n",
      "Epoch 00063: val_accuracy improved from 0.53522 to 0.54912, saving model to ./model_save/rnn_model_small/lstm_pt_radam_pt_w2v/weights.h5\n",
      "68/68 [==============================] - 11s 166ms/step - loss: 1.3202 - accuracy: 0.6070 - f1_score: 0.4857 - val_loss: 1.6055 - val_accuracy: 0.5491 - val_f1_score: 0.4027\n",
      "Epoch 64/1000\n",
      "68/68 [==============================] - ETA: 0s - loss: 1.2953 - accuracy: 0.6202 - f1_score: 0.4991\n",
      "Epoch 00064: val_accuracy improved from 0.54912 to 0.55978, saving model to ./model_save/rnn_model_small/lstm_pt_radam_pt_w2v/weights.h5\n",
      "68/68 [==============================] - 13s 187ms/step - loss: 1.2953 - accuracy: 0.6202 - f1_score: 0.4991 - val_loss: 1.5945 - val_accuracy: 0.5598 - val_f1_score: 0.4196\n",
      "Epoch 65/1000\n",
      "68/68 [==============================] - ETA: 0s - loss: 1.2649 - accuracy: 0.6253 - f1_score: 0.5035\n",
      "Epoch 00065: val_accuracy improved from 0.55978 to 0.56209, saving model to ./model_save/rnn_model_small/lstm_pt_radam_pt_w2v/weights.h5\n",
      "68/68 [==============================] - 15s 224ms/step - loss: 1.2649 - accuracy: 0.6253 - f1_score: 0.5035 - val_loss: 1.5918 - val_accuracy: 0.5621 - val_f1_score: 0.4225\n",
      "Epoch 66/1000\n",
      "68/68 [==============================] - ETA: 0s - loss: 1.2512 - accuracy: 0.6319 - f1_score: 0.5114\n",
      "Epoch 00066: val_accuracy did not improve from 0.56209\n",
      "68/68 [==============================] - 11s 163ms/step - loss: 1.2512 - accuracy: 0.6319 - f1_score: 0.5114 - val_loss: 1.5639 - val_accuracy: 0.5551 - val_f1_score: 0.4153\n",
      "Epoch 67/1000\n",
      "68/68 [==============================] - ETA: 0s - loss: 1.3591 - accuracy: 0.5988 - f1_score: 0.4777\n",
      "Epoch 00067: val_accuracy did not improve from 0.56209\n",
      "68/68 [==============================] - 11s 163ms/step - loss: 1.3591 - accuracy: 0.5988 - f1_score: 0.4777 - val_loss: 1.6233 - val_accuracy: 0.5565 - val_f1_score: 0.4174\n",
      "Epoch 68/1000\n",
      "68/68 [==============================] - ETA: 0s - loss: 1.2571 - accuracy: 0.6236 - f1_score: 0.5007\n",
      "Epoch 00068: val_accuracy did not improve from 0.56209\n",
      "68/68 [==============================] - 11s 163ms/step - loss: 1.2571 - accuracy: 0.6236 - f1_score: 0.5007 - val_loss: 1.5686 - val_accuracy: 0.5616 - val_f1_score: 0.4329\n",
      "Epoch 69/1000\n",
      "68/68 [==============================] - ETA: 0s - loss: 1.2079 - accuracy: 0.6418 - f1_score: 0.5243\n",
      "Epoch 00069: val_accuracy improved from 0.56209 to 0.56858, saving model to ./model_save/rnn_model_small/lstm_pt_radam_pt_w2v/weights.h5\n",
      "68/68 [==============================] - 13s 189ms/step - loss: 1.2079 - accuracy: 0.6418 - f1_score: 0.5243 - val_loss: 1.5368 - val_accuracy: 0.5686 - val_f1_score: 0.4360\n",
      "Epoch 70/1000\n",
      "68/68 [==============================] - ETA: 0s - loss: 1.1878 - accuracy: 0.6453 - f1_score: 0.5282\n",
      "Epoch 00070: val_accuracy improved from 0.56858 to 0.57044, saving model to ./model_save/rnn_model_small/lstm_pt_radam_pt_w2v/weights.h5\n",
      "68/68 [==============================] - 11s 165ms/step - loss: 1.1878 - accuracy: 0.6453 - f1_score: 0.5282 - val_loss: 1.5551 - val_accuracy: 0.5704 - val_f1_score: 0.4379\n",
      "Epoch 71/1000\n",
      "68/68 [==============================] - ETA: 0s - loss: 1.1575 - accuracy: 0.6574 - f1_score: 0.5453\n",
      "Epoch 00071: val_accuracy improved from 0.57044 to 0.57507, saving model to ./model_save/rnn_model_small/lstm_pt_radam_pt_w2v/weights.h5\n",
      "68/68 [==============================] - 11s 165ms/step - loss: 1.1575 - accuracy: 0.6574 - f1_score: 0.5453 - val_loss: 1.5421 - val_accuracy: 0.5751 - val_f1_score: 0.4440\n",
      "Epoch 72/1000\n",
      "68/68 [==============================] - ETA: 0s - loss: 1.1304 - accuracy: 0.6624 - f1_score: 0.5475\n",
      "Epoch 00072: val_accuracy did not improve from 0.57507\n",
      "68/68 [==============================] - 11s 162ms/step - loss: 1.1304 - accuracy: 0.6624 - f1_score: 0.5475 - val_loss: 1.5442 - val_accuracy: 0.5741 - val_f1_score: 0.4354\n",
      "Epoch 73/1000\n",
      "68/68 [==============================] - ETA: 0s - loss: 1.1576 - accuracy: 0.6577 - f1_score: 0.5537\n",
      "Epoch 00073: val_accuracy improved from 0.57507 to 0.58434, saving model to ./model_save/rnn_model_small/lstm_pt_radam_pt_w2v/weights.h5\n",
      "68/68 [==============================] - 13s 191ms/step - loss: 1.1576 - accuracy: 0.6577 - f1_score: 0.5537 - val_loss: 1.4996 - val_accuracy: 0.5843 - val_f1_score: 0.4615\n",
      "Epoch 74/1000\n",
      "68/68 [==============================] - ETA: 0s - loss: 1.1485 - accuracy: 0.6632 - f1_score: 0.5517\n",
      "Epoch 00074: val_accuracy did not improve from 0.58434\n",
      "68/68 [==============================] - 11s 166ms/step - loss: 1.1485 - accuracy: 0.6632 - f1_score: 0.5517 - val_loss: 1.5292 - val_accuracy: 0.5788 - val_f1_score: 0.4498\n",
      "Epoch 75/1000\n",
      "68/68 [==============================] - ETA: 0s - loss: 1.0942 - accuracy: 0.6739 - f1_score: 0.5646\n",
      "Epoch 00075: val_accuracy improved from 0.58434 to 0.58851, saving model to ./model_save/rnn_model_small/lstm_pt_radam_pt_w2v/weights.h5\n",
      "68/68 [==============================] - 13s 194ms/step - loss: 1.0942 - accuracy: 0.6739 - f1_score: 0.5646 - val_loss: 1.4884 - val_accuracy: 0.5885 - val_f1_score: 0.4641\n",
      "Epoch 76/1000\n",
      "68/68 [==============================] - ETA: 0s - loss: 1.0611 - accuracy: 0.6787 - f1_score: 0.5710\n",
      "Epoch 00076: val_accuracy improved from 0.58851 to 0.59222, saving model to ./model_save/rnn_model_small/lstm_pt_radam_pt_w2v/weights.h5\n",
      "68/68 [==============================] - 11s 164ms/step - loss: 1.0611 - accuracy: 0.6787 - f1_score: 0.5710 - val_loss: 1.4816 - val_accuracy: 0.5922 - val_f1_score: 0.4693\n",
      "Epoch 77/1000\n",
      "68/68 [==============================] - ETA: 0s - loss: 1.0433 - accuracy: 0.6927 - f1_score: 0.5888\n",
      "Epoch 00077: val_accuracy improved from 0.59222 to 0.59639, saving model to ./model_save/rnn_model_small/lstm_pt_radam_pt_w2v/weights.h5\n",
      "68/68 [==============================] - 11s 163ms/step - loss: 1.0433 - accuracy: 0.6927 - f1_score: 0.5888 - val_loss: 1.4838 - val_accuracy: 0.5964 - val_f1_score: 0.4742\n",
      "Epoch 78/1000\n",
      "68/68 [==============================] - ETA: 0s - loss: 1.0548 - accuracy: 0.6857 - f1_score: 0.5799\n",
      "Epoch 00078: val_accuracy did not improve from 0.59639\n",
      "68/68 [==============================] - 11s 162ms/step - loss: 1.0548 - accuracy: 0.6857 - f1_score: 0.5799 - val_loss: 1.4750 - val_accuracy: 0.5927 - val_f1_score: 0.4693\n",
      "Epoch 79/1000\n",
      "68/68 [==============================] - ETA: 0s - loss: 1.0687 - accuracy: 0.6847 - f1_score: 0.5844\n",
      "Epoch 00079: val_accuracy improved from 0.59639 to 0.60426, saving model to ./model_save/rnn_model_small/lstm_pt_radam_pt_w2v/weights.h5\n",
      "68/68 [==============================] - 13s 191ms/step - loss: 1.0687 - accuracy: 0.6847 - f1_score: 0.5844 - val_loss: 1.4608 - val_accuracy: 0.6043 - val_f1_score: 0.4836\n",
      "Epoch 80/1000\n",
      "68/68 [==============================] - ETA: 0s - loss: 0.9993 - accuracy: 0.7029 - f1_score: 0.6038\n",
      "Epoch 00080: val_accuracy did not improve from 0.60426\n",
      "68/68 [==============================] - 11s 162ms/step - loss: 0.9993 - accuracy: 0.7029 - f1_score: 0.6038 - val_loss: 1.4664 - val_accuracy: 0.6010 - val_f1_score: 0.4882\n",
      "Epoch 81/1000\n",
      "68/68 [==============================] - ETA: 0s - loss: 0.9956 - accuracy: 0.6982 - f1_score: 0.5979\n",
      "Epoch 00081: val_accuracy did not improve from 0.60426\n",
      "68/68 [==============================] - 11s 163ms/step - loss: 0.9956 - accuracy: 0.6982 - f1_score: 0.5979 - val_loss: 1.4697 - val_accuracy: 0.6019 - val_f1_score: 0.4832\n",
      "Epoch 82/1000\n",
      "68/68 [==============================] - ETA: 0s - loss: 0.9484 - accuracy: 0.7223 - f1_score: 0.6199\n",
      "Epoch 00082: val_accuracy improved from 0.60426 to 0.60473, saving model to ./model_save/rnn_model_small/lstm_pt_radam_pt_w2v/weights.h5\n",
      "68/68 [==============================] - 13s 197ms/step - loss: 0.9484 - accuracy: 0.7223 - f1_score: 0.6199 - val_loss: 1.4705 - val_accuracy: 0.6047 - val_f1_score: 0.4872\n",
      "Epoch 83/1000\n",
      "68/68 [==============================] - ETA: 0s - loss: 0.9353 - accuracy: 0.7154 - f1_score: 0.6125\n",
      "Epoch 00083: val_accuracy improved from 0.60473 to 0.61446, saving model to ./model_save/rnn_model_small/lstm_pt_radam_pt_w2v/weights.h5\n",
      "68/68 [==============================] - 11s 165ms/step - loss: 0.9353 - accuracy: 0.7154 - f1_score: 0.6125 - val_loss: 1.4266 - val_accuracy: 0.6145 - val_f1_score: 0.4943\n",
      "Epoch 84/1000\n",
      "68/68 [==============================] - ETA: 0s - loss: 0.9235 - accuracy: 0.7283 - f1_score: 0.6314\n",
      "Epoch 00084: val_accuracy improved from 0.61446 to 0.62512, saving model to ./model_save/rnn_model_small/lstm_pt_radam_pt_w2v/weights.h5\n",
      "68/68 [==============================] - 11s 165ms/step - loss: 0.9235 - accuracy: 0.7283 - f1_score: 0.6314 - val_loss: 1.3801 - val_accuracy: 0.6251 - val_f1_score: 0.5037\n",
      "Epoch 85/1000\n",
      "68/68 [==============================] - ETA: 0s - loss: 0.8939 - accuracy: 0.7342 - f1_score: 0.6420\n",
      "Epoch 00085: val_accuracy did not improve from 0.62512\n",
      "68/68 [==============================] - 11s 164ms/step - loss: 0.8939 - accuracy: 0.7342 - f1_score: 0.6420 - val_loss: 1.3934 - val_accuracy: 0.6214 - val_f1_score: 0.5127\n",
      "Epoch 86/1000\n",
      "68/68 [==============================] - ETA: 0s - loss: 0.8875 - accuracy: 0.7384 - f1_score: 0.6420\n",
      "Epoch 00086: val_accuracy did not improve from 0.62512\n",
      "68/68 [==============================] - 11s 162ms/step - loss: 0.8875 - accuracy: 0.7384 - f1_score: 0.6420 - val_loss: 1.4019 - val_accuracy: 0.6251 - val_f1_score: 0.5112\n",
      "Epoch 87/1000\n",
      "68/68 [==============================] - ETA: 0s - loss: 0.8755 - accuracy: 0.7408 - f1_score: 0.6547\n",
      "Epoch 00087: val_accuracy improved from 0.62512 to 0.62743, saving model to ./model_save/rnn_model_small/lstm_pt_radam_pt_w2v/weights.h5\n",
      "68/68 [==============================] - 13s 188ms/step - loss: 0.8755 - accuracy: 0.7408 - f1_score: 0.6547 - val_loss: 1.3592 - val_accuracy: 0.6274 - val_f1_score: 0.5141\n",
      "Epoch 88/1000\n",
      "68/68 [==============================] - ETA: 0s - loss: 0.8600 - accuracy: 0.7474 - f1_score: 0.6544\n",
      "Epoch 00088: val_accuracy did not improve from 0.62743\n",
      "68/68 [==============================] - 11s 162ms/step - loss: 0.8600 - accuracy: 0.7474 - f1_score: 0.6544 - val_loss: 1.4294 - val_accuracy: 0.6149 - val_f1_score: 0.4989\n",
      "Epoch 89/1000\n",
      "68/68 [==============================] - ETA: 0s - loss: 0.9032 - accuracy: 0.7322 - f1_score: 0.6395\n",
      "Epoch 00089: val_accuracy did not improve from 0.62743\n",
      "68/68 [==============================] - 11s 163ms/step - loss: 0.9032 - accuracy: 0.7322 - f1_score: 0.6395 - val_loss: 1.4318 - val_accuracy: 0.6228 - val_f1_score: 0.5094\n",
      "Epoch 90/1000\n",
      "68/68 [==============================] - ETA: 0s - loss: 0.8932 - accuracy: 0.7354 - f1_score: 0.6455\n",
      "Epoch 00090: val_accuracy improved from 0.62743 to 0.63160, saving model to ./model_save/rnn_model_small/lstm_pt_radam_pt_w2v/weights.h5\n",
      "68/68 [==============================] - 13s 193ms/step - loss: 0.8932 - accuracy: 0.7354 - f1_score: 0.6455 - val_loss: 1.3764 - val_accuracy: 0.6316 - val_f1_score: 0.5282\n",
      "Epoch 91/1000\n",
      "68/68 [==============================] - ETA: 0s - loss: 0.8383 - accuracy: 0.7528 - f1_score: 0.6689\n",
      "Epoch 00091: val_accuracy did not improve from 0.63160\n",
      "68/68 [==============================] - 11s 163ms/step - loss: 0.8383 - accuracy: 0.7528 - f1_score: 0.6689 - val_loss: 1.4289 - val_accuracy: 0.6154 - val_f1_score: 0.5053\n",
      "Epoch 92/1000\n",
      "68/68 [==============================] - ETA: 0s - loss: 0.8567 - accuracy: 0.7468 - f1_score: 0.6582\n",
      "Epoch 00092: val_accuracy improved from 0.63160 to 0.63809, saving model to ./model_save/rnn_model_small/lstm_pt_radam_pt_w2v/weights.h5\n",
      "68/68 [==============================] - 14s 206ms/step - loss: 0.8567 - accuracy: 0.7468 - f1_score: 0.6582 - val_loss: 1.3836 - val_accuracy: 0.6381 - val_f1_score: 0.5274\n",
      "Epoch 93/1000\n",
      "68/68 [==============================] - ETA: 0s - loss: 0.8207 - accuracy: 0.7532 - f1_score: 0.6668\n",
      "Epoch 00093: val_accuracy improved from 0.63809 to 0.64133, saving model to ./model_save/rnn_model_small/lstm_pt_radam_pt_w2v/weights.h5\n",
      "68/68 [==============================] - 11s 169ms/step - loss: 0.8207 - accuracy: 0.7532 - f1_score: 0.6668 - val_loss: 1.3454 - val_accuracy: 0.6413 - val_f1_score: 0.5417\n",
      "Epoch 94/1000\n",
      "68/68 [==============================] - ETA: 0s - loss: 0.7900 - accuracy: 0.7628 - f1_score: 0.6747\n",
      "Epoch 00094: val_accuracy did not improve from 0.64133\n",
      "68/68 [==============================] - 11s 162ms/step - loss: 0.7900 - accuracy: 0.7628 - f1_score: 0.6747 - val_loss: 1.3886 - val_accuracy: 0.6395 - val_f1_score: 0.5404\n",
      "Epoch 95/1000\n",
      "68/68 [==============================] - ETA: 0s - loss: 0.8502 - accuracy: 0.7490 - f1_score: 0.6662\n",
      "Epoch 00095: val_accuracy did not improve from 0.64133\n",
      "68/68 [==============================] - 11s 162ms/step - loss: 0.8502 - accuracy: 0.7490 - f1_score: 0.6662 - val_loss: 1.3831 - val_accuracy: 0.6325 - val_f1_score: 0.5320\n",
      "Epoch 96/1000\n",
      "68/68 [==============================] - ETA: 0s - loss: 0.7686 - accuracy: 0.7759 - f1_score: 0.6935\n",
      "Epoch 00096: val_accuracy did not improve from 0.64133\n",
      "68/68 [==============================] - 11s 162ms/step - loss: 0.7686 - accuracy: 0.7759 - f1_score: 0.6935 - val_loss: 1.3522 - val_accuracy: 0.6358 - val_f1_score: 0.5316\n",
      "Epoch 97/1000\n",
      "68/68 [==============================] - ETA: 0s - loss: 0.7647 - accuracy: 0.7756 - f1_score: 0.7017\n",
      "Epoch 00097: val_accuracy improved from 0.64133 to 0.64690, saving model to ./model_save/rnn_model_small/lstm_pt_radam_pt_w2v/weights.h5\n",
      "68/68 [==============================] - 13s 188ms/step - loss: 0.7647 - accuracy: 0.7756 - f1_score: 0.7017 - val_loss: 1.3221 - val_accuracy: 0.6469 - val_f1_score: 0.5416\n",
      "Epoch 98/1000\n",
      "68/68 [==============================] - ETA: 0s - loss: 0.7406 - accuracy: 0.7797 - f1_score: 0.7019\n",
      "Epoch 00098: val_accuracy did not improve from 0.64690\n",
      "68/68 [==============================] - 11s 162ms/step - loss: 0.7406 - accuracy: 0.7797 - f1_score: 0.7019 - val_loss: 1.3504 - val_accuracy: 0.6437 - val_f1_score: 0.5423\n",
      "Epoch 99/1000\n",
      "68/68 [==============================] - ETA: 0s - loss: 0.7224 - accuracy: 0.7858 - f1_score: 0.7110\n",
      "Epoch 00099: val_accuracy did not improve from 0.64690\n",
      "68/68 [==============================] - 11s 161ms/step - loss: 0.7224 - accuracy: 0.7858 - f1_score: 0.7110 - val_loss: 1.3774 - val_accuracy: 0.6404 - val_f1_score: 0.5455\n",
      "Epoch 100/1000\n",
      "68/68 [==============================] - ETA: 0s - loss: 0.6985 - accuracy: 0.7957 - f1_score: 0.7225\n",
      "Epoch 00100: val_accuracy improved from 0.64690 to 0.64968, saving model to ./model_save/rnn_model_small/lstm_pt_radam_pt_w2v/weights.h5\n",
      "68/68 [==============================] - 13s 194ms/step - loss: 0.6985 - accuracy: 0.7957 - f1_score: 0.7225 - val_loss: 1.3485 - val_accuracy: 0.6497 - val_f1_score: 0.5442\n",
      "Epoch 101/1000\n",
      "68/68 [==============================] - ETA: 0s - loss: 0.6930 - accuracy: 0.7920 - f1_score: 0.7117\n",
      "Epoch 00101: val_accuracy did not improve from 0.64968\n",
      "68/68 [==============================] - 11s 166ms/step - loss: 0.6930 - accuracy: 0.7920 - f1_score: 0.7117 - val_loss: 1.3623 - val_accuracy: 0.6386 - val_f1_score: 0.5374\n",
      "Epoch 102/1000\n",
      "68/68 [==============================] - ETA: 0s - loss: 0.6733 - accuracy: 0.7976 - f1_score: 0.7225\n",
      "Epoch 00102: val_accuracy improved from 0.64968 to 0.65570, saving model to ./model_save/rnn_model_small/lstm_pt_radam_pt_w2v/weights.h5\n",
      "68/68 [==============================] - 16s 228ms/step - loss: 0.6733 - accuracy: 0.7976 - f1_score: 0.7225 - val_loss: 1.3389 - val_accuracy: 0.6557 - val_f1_score: 0.5653\n",
      "Epoch 103/1000\n",
      "68/68 [==============================] - ETA: 0s - loss: 0.6542 - accuracy: 0.8091 - f1_score: 0.7408\n",
      "Epoch 00103: val_accuracy did not improve from 0.65570\n",
      "68/68 [==============================] - 11s 163ms/step - loss: 0.6542 - accuracy: 0.8091 - f1_score: 0.7408 - val_loss: 1.3428 - val_accuracy: 0.6552 - val_f1_score: 0.5604\n",
      "Epoch 104/1000\n",
      "68/68 [==============================] - ETA: 0s - loss: 0.6556 - accuracy: 0.8109 - f1_score: 0.7442\n",
      "Epoch 00104: val_accuracy improved from 0.65570 to 0.65663, saving model to ./model_save/rnn_model_small/lstm_pt_radam_pt_w2v/weights.h5\n",
      "68/68 [==============================] - 13s 192ms/step - loss: 0.6556 - accuracy: 0.8109 - f1_score: 0.7442 - val_loss: 1.3396 - val_accuracy: 0.6566 - val_f1_score: 0.5626\n",
      "Epoch 105/1000\n",
      "68/68 [==============================] - ETA: 0s - loss: 0.6537 - accuracy: 0.8058 - f1_score: 0.7357\n",
      "Epoch 00105: val_accuracy did not improve from 0.65663\n",
      "68/68 [==============================] - 11s 167ms/step - loss: 0.6537 - accuracy: 0.8058 - f1_score: 0.7357 - val_loss: 1.3556 - val_accuracy: 0.6538 - val_f1_score: 0.5634\n",
      "Epoch 106/1000\n",
      "68/68 [==============================] - ETA: 0s - loss: 0.6411 - accuracy: 0.8113 - f1_score: 0.7413\n",
      "Epoch 00106: val_accuracy improved from 0.65663 to 0.65802, saving model to ./model_save/rnn_model_small/lstm_pt_radam_pt_w2v/weights.h5\n",
      "68/68 [==============================] - 13s 191ms/step - loss: 0.6411 - accuracy: 0.8113 - f1_score: 0.7413 - val_loss: 1.3510 - val_accuracy: 0.6580 - val_f1_score: 0.5627\n",
      "Epoch 107/1000\n",
      "68/68 [==============================] - ETA: 0s - loss: 0.6509 - accuracy: 0.8082 - f1_score: 0.7409\n",
      "Epoch 00107: val_accuracy did not improve from 0.65802\n",
      "68/68 [==============================] - 11s 163ms/step - loss: 0.6509 - accuracy: 0.8082 - f1_score: 0.7409 - val_loss: 1.3831 - val_accuracy: 0.6548 - val_f1_score: 0.5564\n",
      "Epoch 108/1000\n",
      "68/68 [==============================] - ETA: 0s - loss: 0.6657 - accuracy: 0.8018 - f1_score: 0.7389\n",
      "Epoch 00108: val_accuracy improved from 0.65802 to 0.65987, saving model to ./model_save/rnn_model_small/lstm_pt_radam_pt_w2v/weights.h5\n",
      "68/68 [==============================] - 15s 217ms/step - loss: 0.6657 - accuracy: 0.8018 - f1_score: 0.7389 - val_loss: 1.3717 - val_accuracy: 0.6599 - val_f1_score: 0.5667\n",
      "Epoch 109/1000\n",
      "68/68 [==============================] - ETA: 0s - loss: 0.6396 - accuracy: 0.8125 - f1_score: 0.7486\n",
      "Epoch 00109: val_accuracy improved from 0.65987 to 0.66960, saving model to ./model_save/rnn_model_small/lstm_pt_radam_pt_w2v/weights.h5\n",
      "68/68 [==============================] - 13s 193ms/step - loss: 0.6396 - accuracy: 0.8125 - f1_score: 0.7486 - val_loss: 1.3352 - val_accuracy: 0.6696 - val_f1_score: 0.5715\n",
      "Epoch 110/1000\n",
      "68/68 [==============================] - ETA: 0s - loss: 0.6626 - accuracy: 0.8080 - f1_score: 0.7426\n",
      "Epoch 00110: val_accuracy did not improve from 0.66960\n",
      "68/68 [==============================] - 11s 164ms/step - loss: 0.6626 - accuracy: 0.8080 - f1_score: 0.7426 - val_loss: 1.3698 - val_accuracy: 0.6613 - val_f1_score: 0.5739\n",
      "Epoch 111/1000\n",
      "68/68 [==============================] - ETA: 0s - loss: 0.6779 - accuracy: 0.7982 - f1_score: 0.7319\n",
      "Epoch 00111: val_accuracy did not improve from 0.66960\n",
      "68/68 [==============================] - 11s 163ms/step - loss: 0.6779 - accuracy: 0.7982 - f1_score: 0.7319 - val_loss: 1.3896 - val_accuracy: 0.6511 - val_f1_score: 0.5638\n",
      "Epoch 112/1000\n",
      "68/68 [==============================] - ETA: 0s - loss: 0.6354 - accuracy: 0.8158 - f1_score: 0.7540\n",
      "Epoch 00112: val_accuracy did not improve from 0.66960\n",
      "68/68 [==============================] - 11s 162ms/step - loss: 0.6354 - accuracy: 0.8158 - f1_score: 0.7540 - val_loss: 1.3828 - val_accuracy: 0.6511 - val_f1_score: 0.5636\n",
      "Epoch 113/1000\n",
      "68/68 [==============================] - ETA: 0s - loss: 0.6021 - accuracy: 0.8253 - f1_score: 0.7653\n",
      "Epoch 00113: val_accuracy did not improve from 0.66960\n",
      "68/68 [==============================] - 11s 162ms/step - loss: 0.6021 - accuracy: 0.8253 - f1_score: 0.7653 - val_loss: 1.3524 - val_accuracy: 0.6571 - val_f1_score: 0.5639\n",
      "Epoch 114/1000\n",
      "68/68 [==============================] - ETA: 0s - loss: 0.5809 - accuracy: 0.8303 - f1_score: 0.7653\n",
      "Epoch 00114: val_accuracy did not improve from 0.66960\n",
      "68/68 [==============================] - 11s 161ms/step - loss: 0.5809 - accuracy: 0.8303 - f1_score: 0.7653 - val_loss: 1.3480 - val_accuracy: 0.6645 - val_f1_score: 0.5740\n",
      "Epoch 115/1000\n",
      "68/68 [==============================] - ETA: 0s - loss: 0.5718 - accuracy: 0.8333 - f1_score: 0.7744\n",
      "Epoch 00115: val_accuracy did not improve from 0.66960\n",
      "68/68 [==============================] - 11s 162ms/step - loss: 0.5718 - accuracy: 0.8333 - f1_score: 0.7744 - val_loss: 1.3428 - val_accuracy: 0.6677 - val_f1_score: 0.5740\n",
      "Epoch 116/1000\n",
      "68/68 [==============================] - ETA: 0s - loss: 0.5633 - accuracy: 0.8376 - f1_score: 0.7798\n",
      "Epoch 00116: val_accuracy did not improve from 0.66960\n",
      "68/68 [==============================] - 11s 162ms/step - loss: 0.5633 - accuracy: 0.8376 - f1_score: 0.7798 - val_loss: 1.3782 - val_accuracy: 0.6589 - val_f1_score: 0.5657\n",
      "Epoch 117/1000\n",
      "68/68 [==============================] - ETA: 0s - loss: 0.5821 - accuracy: 0.8290 - f1_score: 0.7673\n",
      "Epoch 00117: val_accuracy did not improve from 0.66960\n",
      "68/68 [==============================] - 11s 161ms/step - loss: 0.5821 - accuracy: 0.8290 - f1_score: 0.7673 - val_loss: 1.3656 - val_accuracy: 0.6659 - val_f1_score: 0.5859\n"
     ]
    }
   ],
   "source": [
    "model, histroy = lstm_train_pt_w2v.train(train_X, train_YS)"
   ]
  },
  {
   "cell_type": "code",
   "execution_count": 10,
   "metadata": {
    "colab": {
     "base_uri": "https://localhost:8080/",
     "height": 803
    },
    "colab_type": "code",
    "executionInfo": {
     "elapsed": 1449338,
     "status": "ok",
     "timestamp": 1591107922057,
     "user": {
      "displayName": "이명훈",
      "photoUrl": "",
      "userId": "07271482681718000858"
     },
     "user_tz": -540
    },
    "id": "yFcCcEM6j1aI",
    "outputId": "b137861f-6856-4ec9-d718-0ecc7982e61f"
   },
   "outputs": [
    {
     "data": {
      "image/png": "[encoded data removed]",
      "text/plain": [
       "<Figure size 432x288 with 1 Axes>"
      ]
     },
     "metadata": {
      "needs_background": "light",
      "tags": []
     },
     "output_type": "display_data"
    },
    {
     "data": {
      "image/png": "[encoded data removed]",
      "text/plain": [
       "<Figure size 432x288 with 1 Axes>"
      ]
     },
     "metadata": {
      "needs_background": "light",
      "tags": []
     },
     "output_type": "display_data"
    },
    {
     "data": {
      "image/png": "[encoded data removed]",
      "text/plain": [
       "<Figure size 432x288 with 1 Axes>"
      ]
     },
     "metadata": {
      "needs_background": "light",
      "tags": []
     },
     "output_type": "display_data"
    }
   ],
   "source": [
    "lstm_train_pt_w2v.train_plot(model, histroy)"
   ]
  },
  {
   "cell_type": "code",
   "execution_count": 11,
   "metadata": {
    "colab": {
     "base_uri": "https://localhost:8080/",
     "height": 34
    },
    "colab_type": "code",
    "executionInfo": {
     "elapsed": 1454106,
     "status": "ok",
     "timestamp": 1591107927157,
     "user": {
      "displayName": "이명훈",
      "photoUrl": "",
      "userId": "07271482681718000858"
     },
     "user_tz": -540
    },
    "id": "sr7Z-wSvj1Mp",
    "outputId": "6267f5ad-c003-42ed-e30a-261a87640ac4"
   },
   "outputs": [
    {
     "name": "stdout",
     "output_type": "stream",
     "text": [
      "145/145 [==============================] - 4s 26ms/step - loss: 1.3292 - accuracy: 0.6741 - f1_score: 0.5905\n"
     ]
    }
   ],
   "source": [
    "lstm_train_pt_w2v.evaluation(model, test_X, test_YS)"
   ]
  },
  {
   "cell_type": "code",
   "execution_count": 0,
   "metadata": {
    "colab": {},
    "colab_type": "code",
    "id": "MwK-ZMXCVgwJ"
   },
   "outputs": [],
   "source": []
  }
 ],
 "metadata": {
  "accelerator": "GPU",
  "colab": {
   "authorship_tag": "ABX9TyOji6WSWVY0FW1gsPX9rCUe",
   "collapsed_sections": [],
   "machine_shape": "hm",
   "mount_file_id": "1PPhqbIbj1Af4G-J3Bb1r-XXDsccbVhVj",
   "name": "lstm_train_small.ipynb",
   "provenance": []
  },
  "kernelspec": {
   "display_name": "Python 3",
   "language": "python",
   "name": "python3"
  },
  "language_info": {
   "codemirror_mode": {
    "name": "ipython",
    "version": 3
   },
   "file_extension": ".py",
   "mimetype": "text/x-python",
   "name": "python",
   "nbconvert_exporter": "python",
   "pygments_lexer": "ipython3",
   "version": "3.7.6"
  }
 },
 "nbformat": 4,
 "nbformat_minor": 1
}
