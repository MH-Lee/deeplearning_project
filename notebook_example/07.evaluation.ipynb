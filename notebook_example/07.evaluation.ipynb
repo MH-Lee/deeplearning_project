{
 "cells": [
  {
   "cell_type": "code",
   "execution_count": 5,
   "metadata": {},
   "outputs": [],
   "source": [
    "import os\n",
    "import sys\n",
    "import json\n",
    "import matplotlib.pyplot as plt\n",
    "import numpy as np\n",
    "import tensorflow as tf\n",
    "import tensorflow_addons as tfa\n",
    "sys.path.append(os.pardir)\n",
    "from gensim.models.doc2vec import Doc2Vec, TaggedDocument\n",
    "from gensim.models.word2vec import Word2Vec\n",
    "from models.word_embedding import get_embedding_matrix\n",
    "from models.cnn_kr import CNNClassifier"
   ]
  },
  {
   "cell_type": "code",
   "execution_count": 3,
   "metadata": {},
   "outputs": [],
   "source": [
    "w2v_model_name = '../model_save/embedding_model/Word2vec1.model'\n",
    "word_vectorizer = Word2Vec.load(w2v_model_name)\n",
    "\n",
    "pre_trained_name = '../model_save/embedding_model/trained_word2vec1.model'\n",
    "pre_trained_w2v = Word2Vec.load(pre_trained_name)"
   ]
  },
  {
   "cell_type": "markdown",
   "metadata": {},
   "source": [
    "## 01. Data Load"
   ]
  },
  {
   "cell_type": "code",
   "execution_count": 21,
   "metadata": {},
   "outputs": [],
   "source": [
    "DATA_IN_PATH = '../assets/data/npy_data/2020-05-31/'\n",
    "\n",
    "# Data save label\n",
    "TRAIN_INPUT_DATA = 'train_input.npy'\n",
    "TEST_INPUT_DATA = 'test_input.npy'\n",
    "DATA_CONFIGS = 'data_configs.json'\n",
    "SEQ_CONFIGS = 'seq_configs_bt.json'\n",
    "\n",
    "# Train label save file name\n",
    "TRAIN_LABEL_DATA = 'train_label.npy'\n",
    "TEST_LABEL_DATA = 'test_label.npy'\n",
    "TRAIN_LABEL_SMALL = 'train_label_small.npy'\n",
    "TEST_LABEL_SMALL = 'test_label_small.npy'"
   ]
  },
  {
   "cell_type": "code",
   "execution_count": 22,
   "metadata": {},
   "outputs": [
    {
     "name": "stdout",
     "output_type": "stream",
     "text": [
      "vocab_size :  30079\n"
     ]
    }
   ],
   "source": [
    "train_X = np.load(open(DATA_IN_PATH + TRAIN_INPUT_DATA, 'rb'))\n",
    "train_Y = np.load(open(DATA_IN_PATH + TRAIN_LABEL_DATA, 'rb'))\n",
    "test_X = np.load(open(DATA_IN_PATH + TEST_INPUT_DATA, 'rb'))\n",
    "test_Y = np.load(open(DATA_IN_PATH + TEST_LABEL_DATA, 'rb'))\n",
    "train_YS = tf.one_hot(train_Y, 43)\n",
    "test_YS = tf.one_hot(test_Y, 43)\n",
    "data_configs = json.load(open(DATA_IN_PATH + DATA_CONFIGS, 'r'))\n",
    "vocab_size = data_configs['vocab_size'] + 1\n",
    "print(\"vocab_size : \", vocab_size)\n",
    "word_index = data_configs['vocab']"
   ]
  },
  {
   "cell_type": "markdown",
   "metadata": {},
   "source": [
    "### best parameter each neural network"
   ]
  },
  {
   "cell_type": "code",
   "execution_count": 23,
   "metadata": {},
   "outputs": [],
   "source": [
    "cnn_kargs = {'vocab_size': vocab_size,\n",
    "             'embedding_size': 300, \n",
    "             'num_filters': 128, \n",
    "             'dropout_rate': 0.5, \n",
    "             'hidden_dimension': 500, \n",
    "             'train_mode': 'non_static', \n",
    "             'output_dimension': 43, \n",
    "             'trainable':True,\n",
    "             'optimizer':'adam',\n",
    "             'model_name': 'cnn_non_static_adam_w2v'}"
   ]
  },
  {
   "cell_type": "code",
   "execution_count": 24,
   "metadata": {},
   "outputs": [],
   "source": [
    "rnn_kargs = {'vocab_size': vocab_size,\n",
    "             'embedding_size': 300, \n",
    "             'dropout_rate': 0.5, \n",
    "             'lstm_dimension': 128, \n",
    "             'dense_dimension': 64, \n",
    "             'train_mode': 'pt', \n",
    "             'output_dimension': 43, \n",
    "             'optimizer':'radam',\n",
    "             'model_name': 'lstm_pt_radam_pt_w2v'}"
   ]
  },
  {
   "cell_type": "markdown",
   "metadata": {},
   "source": [
    "## 02. model evaluation"
   ]
  },
  {
   "cell_type": "markdown",
   "metadata": {},
   "source": [
    "### 02-1. big_class"
   ]
  },
  {
   "cell_type": "code",
   "execution_count": 25,
   "metadata": {},
   "outputs": [],
   "source": [
    "from models.model_evaluation import model_build, return_two_calss_acc"
   ]
  },
  {
   "cell_type": "markdown",
   "metadata": {},
   "source": [
    "### cnn_non_static w2v"
   ]
  },
  {
   "cell_type": "code",
   "execution_count": 26,
   "metadata": {},
   "outputs": [
    {
     "name": "stdout",
     "output_type": "stream",
     "text": [
      "word index size :  30079\n",
      "27423 2655\n",
      "cnn\n",
      "big_class\n",
      "Model: \"cnn_non_static_adam_w2v\"\n",
      "_________________________________________________________________\n",
      "Layer (type)                 Output Shape              Param #   \n",
      "=================================================================\n",
      "embedding_2 (Embedding)      multiple                  9023700   \n",
      "_________________________________________________________________\n",
      "conv1d_6 (Conv1D)            multiple                  115328    \n",
      "_________________________________________________________________\n",
      "conv1d_7 (Conv1D)            multiple                  153728    \n",
      "_________________________________________________________________\n",
      "conv1d_8 (Conv1D)            multiple                  192128    \n",
      "_________________________________________________________________\n",
      "global_max_pooling1d_2 (Glob multiple                  0         \n",
      "_________________________________________________________________\n",
      "dropout_2 (Dropout)          multiple                  0         \n",
      "_________________________________________________________________\n",
      "dense_4 (Dense)              multiple                  192500    \n",
      "_________________________________________________________________\n",
      "dense_5 (Dense)              multiple                  21543     \n",
      "=================================================================\n",
      "Total params: 9,698,927\n",
      "Trainable params: 9,698,927\n",
      "Non-trainable params: 0\n",
      "_________________________________________________________________\n",
      "None\n",
      "../model_save/cnn_model/cnn_non_static_adam_w2v\\weights.h5\n"
     ]
    }
   ],
   "source": [
    "cnn_model = model_build(train_X, word_index, word_vectorizer, **cnn_kargs)"
   ]
  },
  {
   "cell_type": "code",
   "execution_count": 27,
   "metadata": {},
   "outputs": [
    {
     "name": "stdout",
     "output_type": "stream",
     "text": [
      "145/145 [==============================] - 1s 5ms/step - loss: 0.6180 - accuracy: 0.8733 - f1_score: 0.8592\n"
     ]
    },
    {
     "data": {
      "text/plain": [
       "[0.6180410981178284, 0.8732699155807495, 0.8592448830604553]"
      ]
     },
     "execution_count": 27,
     "metadata": {},
     "output_type": "execute_result"
    }
   ],
   "source": [
    "cnn_model.evaluate(test_X, test_YS)"
   ]
  },
  {
   "cell_type": "markdown",
   "metadata": {},
   "source": [
    "### predict_proba two class"
   ]
  },
  {
   "cell_type": "code",
   "execution_count": 14,
   "metadata": {},
   "outputs": [],
   "source": [
    "two_class_acc = return_two_calss_acc(cnn_model, test_X, test_Y)"
   ]
  },
  {
   "cell_type": "code",
   "execution_count": 15,
   "metadata": {},
   "outputs": [
    {
     "data": {
      "text/plain": [
       "0.9463667820069204"
      ]
     },
     "execution_count": 15,
     "metadata": {},
     "output_type": "execute_result"
    }
   ],
   "source": [
    "two_class_acc"
   ]
  },
  {
   "cell_type": "markdown",
   "metadata": {},
   "source": [
    "### bidirection LSTM"
   ]
  },
  {
   "cell_type": "code",
   "execution_count": 16,
   "metadata": {},
   "outputs": [
    {
     "name": "stdout",
     "output_type": "stream",
     "text": [
      "word index size :  30079\n",
      "27423 2655\n",
      "rnn\n",
      "big_class\n",
      "Model: \"lstm_pt_radam_pt_w2v\"\n",
      "_________________________________________________________________\n",
      "Layer (type)                 Output Shape              Param #   \n",
      "=================================================================\n",
      "embedding_1 (Embedding)      multiple                  9023700   \n",
      "_________________________________________________________________\n",
      "bidirectional (Bidirectional multiple                  439296    \n",
      "_________________________________________________________________\n",
      "bidirectional_1 (Bidirection multiple                  394240    \n",
      "_________________________________________________________________\n",
      "dropout_1 (Dropout)          multiple                  0         \n",
      "_________________________________________________________________\n",
      "dense_2 (Dense)              multiple                  16448     \n",
      "_________________________________________________________________\n",
      "dense_3 (Dense)              multiple                  2795      \n",
      "=================================================================\n",
      "Total params: 9,876,479\n",
      "Trainable params: 9,876,479\n",
      "Non-trainable params: 0\n",
      "_________________________________________________________________\n",
      "None\n",
      "../model_save/rnn_model/lstm_pt_radam_pt_w2v\\weights.h5\n"
     ]
    }
   ],
   "source": [
    "rnn_model = model_build(train_X, word_index, word_vectorizer, **rnn_kargs)"
   ]
  },
  {
   "cell_type": "code",
   "execution_count": 22,
   "metadata": {},
   "outputs": [
    {
     "name": "stdout",
     "output_type": "stream",
     "text": [
      "145/145 [==============================] - 2s 17ms/step - loss: 0.8131 - accuracy: 0.8443 - f1_score: 0.8163\n"
     ]
    },
    {
     "data": {
      "text/plain": [
       "[0.8131087422370911, 0.8442906737327576, 0.8162685632705688]"
      ]
     },
     "execution_count": 22,
     "metadata": {},
     "output_type": "execute_result"
    }
   ],
   "source": [
    "rnn_model.evaluate(test_X, test_YS)"
   ]
  },
  {
   "cell_type": "code",
   "execution_count": 23,
   "metadata": {},
   "outputs": [],
   "source": [
    "two_class_acc = return_two_calss_acc(rnn_model, test_X, test_Y)"
   ]
  },
  {
   "cell_type": "code",
   "execution_count": 24,
   "metadata": {},
   "outputs": [
    {
     "data": {
      "text/plain": [
       "0.9154411764705882"
      ]
     },
     "execution_count": 24,
     "metadata": {},
     "output_type": "execute_result"
    }
   ],
   "source": [
    "two_class_acc"
   ]
  },
  {
   "cell_type": "markdown",
   "metadata": {},
   "source": [
    "### AC-BLSTM"
   ]
  },
  {
   "cell_type": "code",
   "execution_count": null,
   "metadata": {},
   "outputs": [],
   "source": []
  },
  {
   "cell_type": "markdown",
   "metadata": {},
   "source": [
    "### 02-2. small_class"
   ]
  },
  {
   "cell_type": "markdown",
   "metadata": {},
   "source": [
    "### CNN"
   ]
  },
  {
   "cell_type": "code",
   "execution_count": 32,
   "metadata": {},
   "outputs": [],
   "source": [
    "test_Y = np.load(open(DATA_IN_PATH + TEST_LABEL_SMALL, 'rb'))\n",
    "test_YS = tf.one_hot(test_Y, 455)"
   ]
  },
  {
   "cell_type": "code",
   "execution_count": 33,
   "metadata": {},
   "outputs": [],
   "source": [
    "cnn_kargs['output_dimension'] = 455\n",
    "rnn_kargs['output_dimension'] = 455"
   ]
  },
  {
   "cell_type": "code",
   "execution_count": 34,
   "metadata": {},
   "outputs": [
    {
     "name": "stdout",
     "output_type": "stream",
     "text": [
      "word index size :  30079\n",
      "27423 2655\n",
      "cnn\n",
      "small_class\n",
      "Model: \"cnn_non_static_adam_w2v\"\n",
      "_________________________________________________________________\n",
      "Layer (type)                 Output Shape              Param #   \n",
      "=================================================================\n",
      "embedding_3 (Embedding)      multiple                  9023700   \n",
      "_________________________________________________________________\n",
      "conv1d_6 (Conv1D)            multiple                  115328    \n",
      "_________________________________________________________________\n",
      "conv1d_7 (Conv1D)            multiple                  153728    \n",
      "_________________________________________________________________\n",
      "conv1d_8 (Conv1D)            multiple                  192128    \n",
      "_________________________________________________________________\n",
      "global_max_pooling1d_2 (Glob multiple                  0         \n",
      "_________________________________________________________________\n",
      "dropout_3 (Dropout)          multiple                  0         \n",
      "_________________________________________________________________\n",
      "dense_6 (Dense)              multiple                  192500    \n",
      "_________________________________________________________________\n",
      "dense_7 (Dense)              multiple                  227955    \n",
      "=================================================================\n",
      "Total params: 9,905,339\n",
      "Trainable params: 9,905,339\n",
      "Non-trainable params: 0\n",
      "_________________________________________________________________\n",
      "None\n",
      "../model_save/cnn_model_small/cnn_non_static_adam_w2v\\weights.h5\n"
     ]
    }
   ],
   "source": [
    "cnn_model_small = model_build(train_X, word_index, word_vectorizer, **cnn_kargs)"
   ]
  },
  {
   "cell_type": "code",
   "execution_count": 35,
   "metadata": {},
   "outputs": [
    {
     "name": "stdout",
     "output_type": "stream",
     "text": [
      "145/145 [==============================] - 1s 5ms/step - loss: 1.3026 - accuracy: 0.7260 - f1_score: 0.6748\n"
     ]
    },
    {
     "data": {
      "text/plain": [
       "[1.3026211261749268, 0.7259948253631592, 0.6747869849205017]"
      ]
     },
     "execution_count": 35,
     "metadata": {},
     "output_type": "execute_result"
    }
   ],
   "source": [
    "cnn_model_small.evaluate(test_X, test_YS)"
   ]
  },
  {
   "cell_type": "code",
   "execution_count": 36,
   "metadata": {},
   "outputs": [],
   "source": [
    "two_class_acc_small = return_two_calss_acc(cnn_model_small, test_X, test_Y)"
   ]
  },
  {
   "cell_type": "code",
   "execution_count": 37,
   "metadata": {},
   "outputs": [
    {
     "data": {
      "text/plain": [
       "0.8365051903114187"
      ]
     },
     "execution_count": 37,
     "metadata": {},
     "output_type": "execute_result"
    }
   ],
   "source": [
    "two_class_acc_small"
   ]
  },
  {
   "cell_type": "markdown",
   "metadata": {},
   "source": [
    "### LSTM"
   ]
  },
  {
   "cell_type": "code",
   "execution_count": 38,
   "metadata": {},
   "outputs": [
    {
     "name": "stdout",
     "output_type": "stream",
     "text": [
      "word index size :  30079\n",
      "27423 2655\n",
      "rnn\n",
      "small_class\n",
      "Model: \"lstm_pt_radam_pt_w2v\"\n",
      "_________________________________________________________________\n",
      "Layer (type)                 Output Shape              Param #   \n",
      "=================================================================\n",
      "embedding_4 (Embedding)      multiple                  9023700   \n",
      "_________________________________________________________________\n",
      "bidirectional_2 (Bidirection multiple                  439296    \n",
      "_________________________________________________________________\n",
      "bidirectional_3 (Bidirection multiple                  394240    \n",
      "_________________________________________________________________\n",
      "dropout_4 (Dropout)          multiple                  0         \n",
      "_________________________________________________________________\n",
      "dense_8 (Dense)              multiple                  16448     \n",
      "_________________________________________________________________\n",
      "dense_9 (Dense)              multiple                  29575     \n",
      "=================================================================\n",
      "Total params: 9,903,259\n",
      "Trainable params: 9,903,259\n",
      "Non-trainable params: 0\n",
      "_________________________________________________________________\n",
      "None\n",
      "../model_save/rnn_model_small/lstm_pt_radam_pt_w2v\\weights.h5\n"
     ]
    }
   ],
   "source": [
    "rnn_model_small = model_build(train_X, word_index, word_vectorizer, **rnn_kargs)"
   ]
  },
  {
   "cell_type": "code",
   "execution_count": 39,
   "metadata": {},
   "outputs": [
    {
     "name": "stdout",
     "output_type": "stream",
     "text": [
      "145/145 [==============================] - 2s 17ms/step - loss: 1.3292 - accuracy: 0.6741 - f1_score: 0.5905\n"
     ]
    },
    {
     "data": {
      "text/plain": [
       "[1.3292149305343628, 0.6740916967391968, 0.5904927253723145]"
      ]
     },
     "execution_count": 39,
     "metadata": {},
     "output_type": "execute_result"
    }
   ],
   "source": [
    "rnn_model_small.evaluate(test_X, test_YS)"
   ]
  },
  {
   "cell_type": "code",
   "execution_count": 40,
   "metadata": {},
   "outputs": [],
   "source": [
    "two_class_acc_small = return_two_calss_acc(rnn_model_small, test_X, test_Y)"
   ]
  },
  {
   "cell_type": "code",
   "execution_count": 41,
   "metadata": {},
   "outputs": [
    {
     "data": {
      "text/plain": [
       "0.8016868512110726"
      ]
     },
     "execution_count": 41,
     "metadata": {},
     "output_type": "execute_result"
    }
   ],
   "source": [
    "two_class_acc_small"
   ]
  },
  {
   "cell_type": "markdown",
   "metadata": {},
   "source": [
    "### 03. application"
   ]
  },
  {
   "cell_type": "code",
   "execution_count": null,
   "metadata": {},
   "outputs": [],
   "source": []
  }
 ],
 "metadata": {
  "kernelspec": {
   "display_name": "deeplearning",
   "language": "python",
   "name": "deeplearning-gpu"
  },
  "language_info": {
   "codemirror_mode": {
    "name": "ipython",
    "version": 3
   },
   "file_extension": ".py",
   "mimetype": "text/x-python",
   "name": "python",
   "nbconvert_exporter": "python",
   "pygments_lexer": "ipython3",
   "version": "3.7.7"
  }
 },
 "nbformat": 4,
 "nbformat_minor": 4
}
