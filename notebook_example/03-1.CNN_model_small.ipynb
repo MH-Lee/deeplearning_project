{
 "cells": [
  {
   "cell_type": "markdown",
   "metadata": {
    "colab_type": "text",
    "id": "MC_ypYJNF6fZ"
   },
   "source": [
    "## 01. package load"
   ]
  },
  {
   "cell_type": "code",
   "execution_count": 1,
   "metadata": {
    "colab": {
     "base_uri": "https://localhost:8080/",
     "height": 316
    },
    "colab_type": "code",
    "executionInfo": {
     "elapsed": 4074,
     "status": "ok",
     "timestamp": 1591104495326,
     "user": {
      "displayName": "이명훈",
      "photoUrl": "",
      "userId": "07271482681718000858"
     },
     "user_tz": -540
    },
    "id": "unfpZlAHF9BF",
    "outputId": "e1482cf7-ab88-497e-81a2-11309946a76b"
   },
   "outputs": [
    {
     "name": "stdout",
     "output_type": "stream",
     "text": [
      "Tue Jun  2 13:28:13 2020       \n",
      "+-----------------------------------------------------------------------------+\n",
      "| NVIDIA-SMI 440.82       Driver Version: 418.67       CUDA Version: 10.1     |\n",
      "|-------------------------------+----------------------+----------------------+\n",
      "| GPU  Name        Persistence-M| Bus-Id        Disp.A | Volatile Uncorr. ECC |\n",
      "| Fan  Temp  Perf  Pwr:Usage/Cap|         Memory-Usage | GPU-Util  Compute M. |\n",
      "|===============================+======================+======================|\n",
      "|   0  Tesla P100-PCIE...  Off  | 00000000:00:04.0 Off |                    0 |\n",
      "| N/A   36C    P0    25W / 250W |      0MiB / 16280MiB |      0%      Default |\n",
      "+-------------------------------+----------------------+----------------------+\n",
      "                                                                               \n",
      "+-----------------------------------------------------------------------------+\n",
      "| Processes:                                                       GPU Memory |\n",
      "|  GPU       PID   Type   Process name                             Usage      |\n",
      "|=============================================================================|\n",
      "|  No running processes found                                                 |\n",
      "+-----------------------------------------------------------------------------+\n"
     ]
    }
   ],
   "source": [
    "!nvidia-smi"
   ]
  },
  {
   "cell_type": "code",
   "execution_count": 2,
   "metadata": {
    "colab": {
     "base_uri": "https://localhost:8080/",
     "height": 125
    },
    "colab_type": "code",
    "executionInfo": {
     "elapsed": 73484,
     "status": "ok",
     "timestamp": 1591104564743,
     "user": {
      "displayName": "이명훈",
      "photoUrl": "",
      "userId": "07271482681718000858"
     },
     "user_tz": -540
    },
    "id": "klRxndp6GGPm",
    "outputId": "6d97aaa4-a252-496f-f0f4-41304625b468"
   },
   "outputs": [
    {
     "name": "stdout",
     "output_type": "stream",
     "text": [
      "Go to this URL in a browser: https://accounts.google.com/o/oauth2/auth?client_id=947318989803-6bn6qk8qdgf4n4g3pfee6491hc0brc4i.apps.googleusercontent.com&redirect_uri=urn%3aietf%3awg%3aoauth%3a2.0%3aoob&response_type=code&scope=email%20https%3a%2f%2fwww.googleapis.com%2fauth%2fdocs.test%20https%3a%2f%2fwww.googleapis.com%2fauth%2fdrive%20https%3a%2f%2fwww.googleapis.com%2fauth%2fdrive.photos.readonly%20https%3a%2f%2fwww.googleapis.com%2fauth%2fpeopleapi.readonly\n",
      "\n",
      "Enter your authorization code:\n",
      "··········\n",
      "Mounted at /content/drive\n"
     ]
    }
   ],
   "source": [
    "from google.colab import drive\n",
    "drive.mount('/content/drive')"
   ]
  },
  {
   "cell_type": "code",
   "execution_count": 3,
   "metadata": {
    "colab": {
     "base_uri": "https://localhost:8080/",
     "height": 34
    },
    "colab_type": "code",
    "executionInfo": {
     "elapsed": 1559,
     "status": "ok",
     "timestamp": 1591104566384,
     "user": {
      "displayName": "이명훈",
      "photoUrl": "",
      "userId": "07271482681718000858"
     },
     "user_tz": -540
    },
    "id": "nEt2YCu3GN60",
    "outputId": "c0bb2c34-c661-4b79-8219-56a632dd3f24"
   },
   "outputs": [
    {
     "name": "stdout",
     "output_type": "stream",
     "text": [
      "/content/drive/My Drive/mge511_preject\n"
     ]
    }
   ],
   "source": [
    "cd drive/My\\ Drive/mge511_preject/"
   ]
  },
  {
   "cell_type": "code",
   "execution_count": 1,
   "metadata": {
    "colab": {},
    "colab_type": "code",
    "id": "5Lan1zLiF6fa"
   },
   "outputs": [],
   "source": [
    "import os\n",
    "import sys\n",
    "import json\n",
    "import matplotlib.pyplot as plt\n",
    "import numpy as np\n",
    "import tensorflow as tf\n",
    "import tensorflow_addons as tfa\n",
    "from gensim.models.doc2vec import Doc2Vec, TaggedDocument\n",
    "from gensim.models.word2vec import Word2Vec\n",
    "sys.path.append(os.pardir)\n",
    "from models.cnn_kr import CNNClassifier\n",
    "from models.word_embedding import get_embedding_matrix"
   ]
  },
  {
   "cell_type": "markdown",
   "metadata": {
    "colab_type": "text",
    "id": "jJgyAUTIF6ff"
   },
   "source": [
    "### local gpu setting"
   ]
  },
  {
   "cell_type": "code",
   "execution_count": 0,
   "metadata": {
    "colab": {},
    "colab_type": "code",
    "id": "k3Thoya0F6fg"
   },
   "outputs": [],
   "source": [
    "gpus = tf.config.experimental.list_physical_devices('GPU')\n",
    "if gpus:\n",
    "    try:\n",
    "        tf.config.experimental.set_memory_growth(gpus[0], True)\n",
    "    except RuntimeError as e:\n",
    "        print(e)"
   ]
  },
  {
   "cell_type": "markdown",
   "metadata": {
    "colab_type": "text",
    "id": "xEQgPlBAF6fk"
   },
   "source": [
    "### Assing data path"
   ]
  },
  {
   "cell_type": "code",
   "execution_count": 2,
   "metadata": {
    "colab": {},
    "colab_type": "code",
    "id": "QDr2DD5cF6fk"
   },
   "outputs": [],
   "source": [
    "DATA_IN_PATH = './assets/data/npy_data/2020-05-31/'\n",
    "# Data save label\n",
    "TRAIN_INPUT_DATA = 'train_input.npy'\n",
    "TEST_INPUT_DATA = 'test_input.npy'\n",
    "DATA_CONFIGS = 'data_configs.json'\n",
    "SEQ_CONFIGS = 'seq_configs_bt.json'\n",
    "\n",
    "# Train label save file name\n",
    "TRAIN_LABEL_SMALL = 'train_label_small.npy'\n",
    "TEST_LABEL_DATA_SMALL = 'test_label_small.npy'"
   ]
  },
  {
   "cell_type": "markdown",
   "metadata": {
    "colab_type": "text",
    "id": "EOONlh0MF6fn"
   },
   "source": [
    "### set cnn parameter"
   ]
  },
  {
   "cell_type": "markdown",
   "metadata": {
    "colab_type": "text",
    "id": "HEzjIuhBF6fo"
   },
   "source": [
    "## CNN train module parameter\n",
    "\n",
    "+ parameter and default value\n",
    "\n",
    "    embedding_matrix=None (word2vec or doc2vec weight matrix)  \n",
    "    vocab_size=None  (train vocab size)  \n",
    "    pre_trained_mode=None ('d2v', 'w2v', 'pt_w2v')  \n",
    "    num_filters=128  \n",
    "    hidden_dimension=1000  \n",
    "    dropout_rate=0.5  \n",
    "    batch_size = 512  \n",
    "    num_epochs = 1000  \n",
    "    valid_split = 0.2  \n",
    "    optimizer = 'adam'  ('adam' or 'radam')  \n",
    "    train_mode='rand ' ('rand', 'static', 'non-static') \n",
    "    \n",
    "    \n",
    "+ pt_w2v is pre-trained word2vec which is trained korean wikipedia doctumentation(document size : 420000) \n",
    "+ embedding_matrix and pre_trained_mode cannot assign when train_mode is 'rand'\n",
    "+ embedding_matrix and pre_trained_mode can assign when train_mode is 'static' or 'non-statc'"
   ]
  },
  {
   "cell_type": "code",
   "execution_count": 3,
   "metadata": {
    "colab": {},
    "colab_type": "code",
    "id": "3mmF0lxCF6fo"
   },
   "outputs": [],
   "source": [
    "from notebook_example.test_package.cnn_train import CNNTrain"
   ]
  },
  {
   "cell_type": "markdown",
   "metadata": {
    "colab_type": "text",
    "id": "wxGw2L1LF6fq"
   },
   "source": [
    "## 02. Load  Data and make embedding matrix"
   ]
  },
  {
   "cell_type": "markdown",
   "metadata": {
    "colab_type": "text",
    "id": "vsUDFJztF6fr"
   },
   "source": [
    "+ Load embedding data"
   ]
  },
  {
   "cell_type": "code",
   "execution_count": 8,
   "metadata": {
    "colab": {
     "base_uri": "https://localhost:8080/",
     "height": 72
    },
    "colab_type": "code",
    "executionInfo": {
     "elapsed": 4758,
     "status": "ok",
     "timestamp": 1591104588918,
     "user": {
      "displayName": "이명훈",
      "photoUrl": "",
      "userId": "07271482681718000858"
     },
     "user_tz": -540
    },
    "id": "kHeSRoFRF6fr",
    "outputId": "30f200db-3f7d-458f-c46b-eee1f33642dc"
   },
   "outputs": [
    {
     "name": "stderr",
     "output_type": "stream",
     "text": [
      "/usr/local/lib/python3.6/dist-packages/smart_open/smart_open_lib.py:253: UserWarning: This function is deprecated, use smart_open.open instead. See the migration notes for details: https://github.com/RaRe-Technologies/smart_open/blob/master/README.rst#migrating-to-the-new-open-function\n",
      "  'See the migration notes for details: %s' % _MIGRATION_NOTES_URL\n"
     ]
    }
   ],
   "source": [
    "w2v_model_name = './model_save/embedding_model/Word2vec1.model'\n",
    "word_vectorizer = Word2Vec.load(w2v_model_name)"
   ]
  },
  {
   "cell_type": "markdown",
   "metadata": {
    "colab_type": "text",
    "id": "WKT-d-zEF6ft"
   },
   "source": [
    "+ Load data"
   ]
  },
  {
   "cell_type": "code",
   "execution_count": 9,
   "metadata": {
    "colab": {
     "base_uri": "https://localhost:8080/",
     "height": 34
    },
    "colab_type": "code",
    "executionInfo": {
     "elapsed": 13306,
     "status": "ok",
     "timestamp": 1591104602229,
     "user": {
      "displayName": "이명훈",
      "photoUrl": "",
      "userId": "07271482681718000858"
     },
     "user_tz": -540
    },
    "id": "dO7FZgESF6fu",
    "outputId": "30b9d019-4f99-4679-daf3-ceee0b6f5a23"
   },
   "outputs": [
    {
     "name": "stdout",
     "output_type": "stream",
     "text": [
      "vocab_size :  30079\n"
     ]
    }
   ],
   "source": [
    "train_X = np.load(open(DATA_IN_PATH + TRAIN_INPUT_DATA, 'rb'))\n",
    "train_Y = np.load(open(DATA_IN_PATH + TRAIN_LABEL_SMALL, 'rb'))\n",
    "test_X = np.load(open(DATA_IN_PATH + TEST_INPUT_DATA, 'rb'))\n",
    "test_Y = np.load(open(DATA_IN_PATH + TEST_LABEL_DATA_SMALL, 'rb'))\n",
    "train_YS = tf.one_hot(train_Y, 455)\n",
    "test_YS = tf.one_hot(test_Y, 455)\n",
    "data_configs = json.load(open(DATA_IN_PATH + DATA_CONFIGS, 'r'))\n",
    "vocab_size = data_configs['vocab_size'] + 1\n",
    "print(\"vocab_size : \", vocab_size)\n",
    "word_index = data_configs['vocab']"
   ]
  },
  {
   "cell_type": "markdown",
   "metadata": {
    "colab_type": "text",
    "id": "76sROX4KF6gl"
   },
   "source": [
    "## 06. CNN non-static(w2v)"
   ]
  },
  {
   "cell_type": "markdown",
   "metadata": {
    "colab_type": "text",
    "id": "FKpTnrUlF6gm"
   },
   "source": [
    "### optimizer adam"
   ]
  },
  {
   "cell_type": "code",
   "execution_count": 12,
   "metadata": {
    "colab": {
     "base_uri": "https://localhost:8080/",
     "height": 122
    },
    "colab_type": "code",
    "executionInfo": {
     "elapsed": 1274,
     "status": "ok",
     "timestamp": 1591104614003,
     "user": {
      "displayName": "이명훈",
      "photoUrl": "",
      "userId": "07271482681718000858"
     },
     "user_tz": -540
    },
    "id": "jXqnvv_0F6gm",
    "outputId": "1d3c6769-7582-491e-c20b-641869f95223"
   },
   "outputs": [
    {
     "name": "stdout",
     "output_type": "stream",
     "text": [
      "small_class\n",
      "output_dim :  455\n",
      "./model_save/cnn_model_small/\n",
      "word index size :  30079\n",
      "27423 2655\n",
      "train_mode : non_static, optimizer : adam, pre-trained_mode : w2v, trainable: True, model_name : cnn_non_static_adam_w2v\n"
     ]
    }
   ],
   "source": [
    "cnn_train_non_static_w2v = CNNTrain(vocab_size=vocab_size, \n",
    "                                    train_mode='non_static', \n",
    "                                    output_dim=455,\n",
    "                                    embedding_matrix=word_vectorizer,\n",
    "                                    word_index=word_index,\n",
    "                                    pre_trained_mode='w2v')"
   ]
  },
  {
   "cell_type": "code",
   "execution_count": 13,
   "metadata": {
    "colab": {
     "base_uri": "https://localhost:8080/",
     "height": 1000
    },
    "colab_type": "code",
    "executionInfo": {
     "elapsed": 210096,
     "status": "ok",
     "timestamp": 1591104828706,
     "user": {
      "displayName": "이명훈",
      "photoUrl": "",
      "userId": "07271482681718000858"
     },
     "user_tz": -540
    },
    "id": "NgyqiwP_F6gp",
    "outputId": "2d8c4605-28f6-4166-fa11-000180985277",
    "scrolled": true
   },
   "outputs": [
    {
     "name": "stdout",
     "output_type": "stream",
     "text": [
      "{'vocab_size': 30079, 'embedding_size': 300, 'num_filters': 128, 'dropout_rate': 0.5, 'hidden_dimension': 500, 'train_mode': 'non_static', 'output_dimension': 455, 'model_name': 'cnn_non_static_adam_w2v', 'embedding_matrix': array([[ 0.        ,  0.        ,  0.        , ...,  0.        ,\n",
      "         0.        ,  0.        ],\n",
      "       [ 0.05204903, -0.21638015, -0.21948703, ...,  0.14667457,\n",
      "        -0.02240289,  0.05068133],\n",
      "       [-0.00398654,  0.07112884, -0.51496243, ...,  0.07860778,\n",
      "        -0.33473143, -0.0859189 ],\n",
      "       ...,\n",
      "       [-0.60012555,  0.33054775, -0.45900419, ..., -0.22507869,\n",
      "         0.13599187, -0.08460996],\n",
      "       [ 0.48614532,  0.02564996, -0.16735327, ...,  0.38038063,\n",
      "         0.16799502, -0.66553634],\n",
      "       [ 0.79622883, -0.40894818,  0.2396446 , ..., -0.12865892,\n",
      "        -0.75648826,  0.38904482]]), 'trainable': True}\n",
      "./model_save/cnn_model_small/cnn_non_static_adam_w2v -- Folder create complete \n",
      "\n",
      "callback set\n",
      "Epoch 1/1000\n",
      "17/17 [==============================] - ETA: 0s - loss: 6.0788 - accuracy: 0.0130 - f1_score: 0.0011    \n",
      "Epoch 00001: val_accuracy improved from -inf to 0.03151, saving model to ./model_save/cnn_model_small/cnn_non_static_adam_w2v/weights.h5\n",
      "17/17 [==============================] - 3s 174ms/step - loss: 6.0788 - accuracy: 0.0130 - f1_score: 0.0011 - val_loss: 5.9740 - val_accuracy: 0.0315 - val_f1_score: 0.0034\n",
      "Epoch 2/1000\n",
      "17/17 [==============================] - ETA: 0s - loss: 5.8416 - accuracy: 0.0377 - f1_score: 0.0067\n",
      "Epoch 00002: val_accuracy improved from 0.03151 to 0.06163, saving model to ./model_save/cnn_model_small/cnn_non_static_adam_w2v/weights.h5\n",
      "17/17 [==============================] - 2s 133ms/step - loss: 5.8416 - accuracy: 0.0377 - f1_score: 0.0067 - val_loss: 5.8298 - val_accuracy: 0.0616 - val_f1_score: 0.0125\n",
      "Epoch 3/1000\n",
      "17/17 [==============================] - ETA: 0s - loss: 5.6120 - accuracy: 0.0742 - f1_score: 0.0119\n",
      "Epoch 00003: val_accuracy improved from 0.06163 to 0.07924, saving model to ./model_save/cnn_model_small/cnn_non_static_adam_w2v/weights.h5\n",
      "17/17 [==============================] - 2s 134ms/step - loss: 5.6120 - accuracy: 0.0742 - f1_score: 0.0119 - val_loss: 5.5677 - val_accuracy: 0.0792 - val_f1_score: 0.0152\n",
      "Epoch 4/1000\n",
      "17/17 [==============================] - ETA: 0s - loss: 5.2054 - accuracy: 0.1067 - f1_score: 0.0193\n",
      "Epoch 00004: val_accuracy improved from 0.07924 to 0.11956, saving model to ./model_save/cnn_model_small/cnn_non_static_adam_w2v/weights.h5\n",
      "17/17 [==============================] - 2s 130ms/step - loss: 5.2054 - accuracy: 0.1067 - f1_score: 0.0193 - val_loss: 5.1179 - val_accuracy: 0.1196 - val_f1_score: 0.0323\n",
      "Epoch 5/1000\n",
      "17/17 [==============================] - ETA: 0s - loss: 4.6278 - accuracy: 0.1617 - f1_score: 0.0435\n",
      "Epoch 00005: val_accuracy improved from 0.11956 to 0.17794, saving model to ./model_save/cnn_model_small/cnn_non_static_adam_w2v/weights.h5\n",
      "17/17 [==============================] - 2s 130ms/step - loss: 4.6278 - accuracy: 0.1617 - f1_score: 0.0435 - val_loss: 4.5137 - val_accuracy: 0.1779 - val_f1_score: 0.0609\n",
      "Epoch 6/1000\n",
      "17/17 [==============================] - ETA: 0s - loss: 3.9690 - accuracy: 0.2434 - f1_score: 0.0992\n",
      "Epoch 00006: val_accuracy improved from 0.17794 to 0.23957, saving model to ./model_save/cnn_model_small/cnn_non_static_adam_w2v/weights.h5\n",
      "17/17 [==============================] - 2s 132ms/step - loss: 3.9690 - accuracy: 0.2434 - f1_score: 0.0992 - val_loss: 3.8990 - val_accuracy: 0.2396 - val_f1_score: 0.0958\n",
      "Epoch 7/1000\n",
      "17/17 [==============================] - ETA: 0s - loss: 3.3142 - accuracy: 0.3206 - f1_score: 0.1622\n",
      "Epoch 00007: val_accuracy improved from 0.23957 to 0.28452, saving model to ./model_save/cnn_model_small/cnn_non_static_adam_w2v/weights.h5\n",
      "17/17 [==============================] - 2s 131ms/step - loss: 3.3142 - accuracy: 0.3206 - f1_score: 0.1622 - val_loss: 3.3216 - val_accuracy: 0.2845 - val_f1_score: 0.1439\n",
      "Epoch 8/1000\n",
      "17/17 [==============================] - ETA: 0s - loss: 2.7235 - accuracy: 0.4048 - f1_score: 0.2466\n",
      "Epoch 00008: val_accuracy improved from 0.28452 to 0.34569, saving model to ./model_save/cnn_model_small/cnn_non_static_adam_w2v/weights.h5\n",
      "17/17 [==============================] - 2s 133ms/step - loss: 2.7235 - accuracy: 0.4048 - f1_score: 0.2466 - val_loss: 2.8665 - val_accuracy: 0.3457 - val_f1_score: 0.1963\n",
      "Epoch 9/1000\n",
      "17/17 [==============================] - ETA: 0s - loss: 2.2540 - accuracy: 0.4776 - f1_score: 0.3402\n",
      "Epoch 00009: val_accuracy improved from 0.34569 to 0.41288, saving model to ./model_save/cnn_model_small/cnn_non_static_adam_w2v/weights.h5\n",
      "17/17 [==============================] - 2s 131ms/step - loss: 2.2540 - accuracy: 0.4776 - f1_score: 0.3402 - val_loss: 2.4844 - val_accuracy: 0.4129 - val_f1_score: 0.2614\n",
      "Epoch 10/1000\n",
      "17/17 [==============================] - ETA: 0s - loss: 1.8579 - accuracy: 0.5564 - f1_score: 0.4320\n",
      "Epoch 00010: val_accuracy improved from 0.41288 to 0.45273, saving model to ./model_save/cnn_model_small/cnn_non_static_adam_w2v/weights.h5\n",
      "17/17 [==============================] - 2s 131ms/step - loss: 1.8579 - accuracy: 0.5564 - f1_score: 0.4320 - val_loss: 2.2052 - val_accuracy: 0.4527 - val_f1_score: 0.2991\n",
      "Epoch 11/1000\n",
      "17/17 [==============================] - ETA: 0s - loss: 1.5584 - accuracy: 0.6156 - f1_score: 0.5085\n",
      "Epoch 00011: val_accuracy improved from 0.45273 to 0.49305, saving model to ./model_save/cnn_model_small/cnn_non_static_adam_w2v/weights.h5\n",
      "17/17 [==============================] - 2s 132ms/step - loss: 1.5584 - accuracy: 0.6156 - f1_score: 0.5085 - val_loss: 1.9877 - val_accuracy: 0.4930 - val_f1_score: 0.3518\n",
      "Epoch 12/1000\n",
      "17/17 [==============================] - ETA: 0s - loss: 1.2983 - accuracy: 0.6733 - f1_score: 0.5891\n",
      "Epoch 00012: val_accuracy improved from 0.49305 to 0.52039, saving model to ./model_save/cnn_model_small/cnn_non_static_adam_w2v/weights.h5\n",
      "17/17 [==============================] - 2s 133ms/step - loss: 1.2983 - accuracy: 0.6733 - f1_score: 0.5891 - val_loss: 1.7938 - val_accuracy: 0.5204 - val_f1_score: 0.3928\n",
      "Epoch 13/1000\n",
      "17/17 [==============================] - ETA: 0s - loss: 1.1062 - accuracy: 0.7208 - f1_score: 0.6468\n",
      "Epoch 00013: val_accuracy improved from 0.52039 to 0.55653, saving model to ./model_save/cnn_model_small/cnn_non_static_adam_w2v/weights.h5\n",
      "17/17 [==============================] - 2s 133ms/step - loss: 1.1062 - accuracy: 0.7208 - f1_score: 0.6468 - val_loss: 1.6873 - val_accuracy: 0.5565 - val_f1_score: 0.4242\n",
      "Epoch 14/1000\n",
      "17/17 [==============================] - ETA: 0s - loss: 0.9535 - accuracy: 0.7560 - f1_score: 0.6934\n",
      "Epoch 00014: val_accuracy improved from 0.55653 to 0.57878, saving model to ./model_save/cnn_model_small/cnn_non_static_adam_w2v/weights.h5\n",
      "17/17 [==============================] - 2s 132ms/step - loss: 0.9535 - accuracy: 0.7560 - f1_score: 0.6934 - val_loss: 1.5585 - val_accuracy: 0.5788 - val_f1_score: 0.4670\n",
      "Epoch 15/1000\n",
      "17/17 [==============================] - ETA: 0s - loss: 0.8033 - accuracy: 0.7954 - f1_score: 0.7487\n",
      "Epoch 00015: val_accuracy improved from 0.57878 to 0.59778, saving model to ./model_save/cnn_model_small/cnn_non_static_adam_w2v/weights.h5\n",
      "17/17 [==============================] - 2s 131ms/step - loss: 0.8033 - accuracy: 0.7954 - f1_score: 0.7487 - val_loss: 1.4693 - val_accuracy: 0.5978 - val_f1_score: 0.4899\n",
      "Epoch 16/1000\n",
      "17/17 [==============================] - ETA: 0s - loss: 0.6889 - accuracy: 0.8304 - f1_score: 0.7952\n",
      "Epoch 00016: val_accuracy improved from 0.59778 to 0.61724, saving model to ./model_save/cnn_model_small/cnn_non_static_adam_w2v/weights.h5\n",
      "17/17 [==============================] - 2s 133ms/step - loss: 0.6889 - accuracy: 0.8304 - f1_score: 0.7952 - val_loss: 1.3966 - val_accuracy: 0.6172 - val_f1_score: 0.5022\n",
      "Epoch 17/1000\n",
      "17/17 [==============================] - ETA: 0s - loss: 0.5826 - accuracy: 0.8581 - f1_score: 0.8277\n",
      "Epoch 00017: val_accuracy improved from 0.61724 to 0.62651, saving model to ./model_save/cnn_model_small/cnn_non_static_adam_w2v/weights.h5\n",
      "17/17 [==============================] - 2s 131ms/step - loss: 0.5826 - accuracy: 0.8581 - f1_score: 0.8277 - val_loss: 1.3304 - val_accuracy: 0.6265 - val_f1_score: 0.5203\n",
      "Epoch 18/1000\n",
      "17/17 [==============================] - ETA: 0s - loss: 0.5148 - accuracy: 0.8744 - f1_score: 0.8514\n",
      "Epoch 00018: val_accuracy improved from 0.62651 to 0.63948, saving model to ./model_save/cnn_model_small/cnn_non_static_adam_w2v/weights.h5\n",
      "17/17 [==============================] - 2s 131ms/step - loss: 0.5148 - accuracy: 0.8744 - f1_score: 0.8514 - val_loss: 1.2978 - val_accuracy: 0.6395 - val_f1_score: 0.5411\n",
      "Epoch 19/1000\n",
      "17/17 [==============================] - ETA: 0s - loss: 0.4376 - accuracy: 0.8926 - f1_score: 0.8720\n",
      "Epoch 00019: val_accuracy improved from 0.63948 to 0.64643, saving model to ./model_save/cnn_model_small/cnn_non_static_adam_w2v/weights.h5\n",
      "17/17 [==============================] - 2s 131ms/step - loss: 0.4376 - accuracy: 0.8926 - f1_score: 0.8720 - val_loss: 1.2668 - val_accuracy: 0.6464 - val_f1_score: 0.5484\n",
      "Epoch 20/1000\n",
      "17/17 [==============================] - ETA: 0s - loss: 0.3783 - accuracy: 0.9139 - f1_score: 0.8966\n",
      "Epoch 00020: val_accuracy improved from 0.64643 to 0.65709, saving model to ./model_save/cnn_model_small/cnn_non_static_adam_w2v/weights.h5\n",
      "17/17 [==============================] - 2s 131ms/step - loss: 0.3783 - accuracy: 0.9139 - f1_score: 0.8966 - val_loss: 1.2202 - val_accuracy: 0.6571 - val_f1_score: 0.5635\n",
      "Epoch 21/1000\n",
      "17/17 [==============================] - ETA: 0s - loss: 0.3290 - accuracy: 0.9272 - f1_score: 0.9126\n",
      "Epoch 00021: val_accuracy improved from 0.65709 to 0.66265, saving model to ./model_save/cnn_model_small/cnn_non_static_adam_w2v/weights.h5\n",
      "17/17 [==============================] - 2s 132ms/step - loss: 0.3290 - accuracy: 0.9272 - f1_score: 0.9126 - val_loss: 1.2114 - val_accuracy: 0.6627 - val_f1_score: 0.5768\n",
      "Epoch 22/1000\n",
      "17/17 [==============================] - ETA: 0s - loss: 0.2835 - accuracy: 0.9394 - f1_score: 0.9254\n",
      "Epoch 00022: val_accuracy improved from 0.66265 to 0.67563, saving model to ./model_save/cnn_model_small/cnn_non_static_adam_w2v/weights.h5\n",
      "17/17 [==============================] - 2s 144ms/step - loss: 0.2835 - accuracy: 0.9394 - f1_score: 0.9254 - val_loss: 1.1634 - val_accuracy: 0.6756 - val_f1_score: 0.5925\n",
      "Epoch 23/1000\n",
      "17/17 [==============================] - ETA: 0s - loss: 0.2518 - accuracy: 0.9455 - f1_score: 0.9350\n",
      "Epoch 00023: val_accuracy improved from 0.67563 to 0.67933, saving model to ./model_save/cnn_model_small/cnn_non_static_adam_w2v/weights.h5\n",
      "17/17 [==============================] - 2s 133ms/step - loss: 0.2518 - accuracy: 0.9455 - f1_score: 0.9350 - val_loss: 1.1855 - val_accuracy: 0.6793 - val_f1_score: 0.5893\n",
      "Epoch 24/1000\n",
      "17/17 [==============================] - ETA: 0s - loss: 0.2178 - accuracy: 0.9545 - f1_score: 0.9454\n",
      "Epoch 00024: val_accuracy did not improve from 0.67933\n",
      "17/17 [==============================] - 2s 123ms/step - loss: 0.2178 - accuracy: 0.9545 - f1_score: 0.9454 - val_loss: 1.1706 - val_accuracy: 0.6752 - val_f1_score: 0.5871\n",
      "Epoch 25/1000\n",
      "17/17 [==============================] - ETA: 0s - loss: 0.1927 - accuracy: 0.9605 - f1_score: 0.9509\n",
      "Epoch 00025: val_accuracy improved from 0.67933 to 0.68211, saving model to ./model_save/cnn_model_small/cnn_non_static_adam_w2v/weights.h5\n",
      "17/17 [==============================] - 2s 130ms/step - loss: 0.1927 - accuracy: 0.9605 - f1_score: 0.9509 - val_loss: 1.1521 - val_accuracy: 0.6821 - val_f1_score: 0.5989\n",
      "Epoch 26/1000\n",
      "17/17 [==============================] - ETA: 0s - loss: 0.1686 - accuracy: 0.9671 - f1_score: 0.9575\n",
      "Epoch 00026: val_accuracy did not improve from 0.68211\n",
      "17/17 [==============================] - 2s 123ms/step - loss: 0.1686 - accuracy: 0.9671 - f1_score: 0.9575 - val_loss: 1.1573 - val_accuracy: 0.6803 - val_f1_score: 0.5950\n",
      "Epoch 27/1000\n",
      "17/17 [==============================] - ETA: 0s - loss: 0.1485 - accuracy: 0.9707 - f1_score: 0.9629\n",
      "Epoch 00027: val_accuracy did not improve from 0.68211\n",
      "17/17 [==============================] - 2s 125ms/step - loss: 0.1485 - accuracy: 0.9707 - f1_score: 0.9629 - val_loss: 1.1522 - val_accuracy: 0.6812 - val_f1_score: 0.6017\n",
      "Epoch 28/1000\n",
      "17/17 [==============================] - ETA: 0s - loss: 0.1283 - accuracy: 0.9765 - f1_score: 0.9713\n",
      "Epoch 00028: val_accuracy improved from 0.68211 to 0.69045, saving model to ./model_save/cnn_model_small/cnn_non_static_adam_w2v/weights.h5\n",
      "17/17 [==============================] - 2s 132ms/step - loss: 0.1283 - accuracy: 0.9765 - f1_score: 0.9713 - val_loss: 1.1470 - val_accuracy: 0.6905 - val_f1_score: 0.6138\n",
      "Epoch 29/1000\n",
      "17/17 [==============================] - ETA: 0s - loss: 0.1189 - accuracy: 0.9765 - f1_score: 0.9697\n",
      "Epoch 00029: val_accuracy did not improve from 0.69045\n",
      "17/17 [==============================] - 2s 125ms/step - loss: 0.1189 - accuracy: 0.9765 - f1_score: 0.9697 - val_loss: 1.1630 - val_accuracy: 0.6854 - val_f1_score: 0.6051\n",
      "Epoch 30/1000\n",
      "17/17 [==============================] - ETA: 0s - loss: 0.1032 - accuracy: 0.9830 - f1_score: 0.9794\n",
      "Epoch 00030: val_accuracy did not improve from 0.69045\n",
      "17/17 [==============================] - 2s 123ms/step - loss: 0.1032 - accuracy: 0.9830 - f1_score: 0.9794 - val_loss: 1.1716 - val_accuracy: 0.6886 - val_f1_score: 0.6130\n",
      "Epoch 31/1000\n",
      "17/17 [==============================] - ETA: 0s - loss: 0.0935 - accuracy: 0.9844 - f1_score: 0.9803\n",
      "Epoch 00031: val_accuracy did not improve from 0.69045\n",
      "17/17 [==============================] - 2s 121ms/step - loss: 0.0935 - accuracy: 0.9844 - f1_score: 0.9803 - val_loss: 1.1800 - val_accuracy: 0.6886 - val_f1_score: 0.6131\n",
      "Epoch 32/1000\n",
      "17/17 [==============================] - ETA: 0s - loss: 0.0879 - accuracy: 0.9852 - f1_score: 0.9825\n",
      "Epoch 00032: val_accuracy did not improve from 0.69045\n",
      "17/17 [==============================] - 2s 124ms/step - loss: 0.0879 - accuracy: 0.9852 - f1_score: 0.9825 - val_loss: 1.1579 - val_accuracy: 0.6900 - val_f1_score: 0.6163\n",
      "Epoch 33/1000\n",
      "17/17 [==============================] - ETA: 0s - loss: 0.0750 - accuracy: 0.9885 - f1_score: 0.9859\n",
      "Epoch 00033: val_accuracy improved from 0.69045 to 0.70065, saving model to ./model_save/cnn_model_small/cnn_non_static_adam_w2v/weights.h5\n",
      "17/17 [==============================] - 3s 178ms/step - loss: 0.0750 - accuracy: 0.9885 - f1_score: 0.9859 - val_loss: 1.1636 - val_accuracy: 0.7006 - val_f1_score: 0.6252\n",
      "Epoch 34/1000\n",
      "17/17 [==============================] - ETA: 0s - loss: 0.0723 - accuracy: 0.9882 - f1_score: 0.9851\n",
      "Epoch 00034: val_accuracy did not improve from 0.70065\n",
      "17/17 [==============================] - 2s 124ms/step - loss: 0.0723 - accuracy: 0.9882 - f1_score: 0.9851 - val_loss: 1.1750 - val_accuracy: 0.6951 - val_f1_score: 0.6208\n",
      "Epoch 35/1000\n",
      "17/17 [==============================] - ETA: 0s - loss: 0.0636 - accuracy: 0.9897 - f1_score: 0.9873\n",
      "Epoch 00035: val_accuracy did not improve from 0.70065\n",
      "17/17 [==============================] - 2s 124ms/step - loss: 0.0636 - accuracy: 0.9897 - f1_score: 0.9873 - val_loss: 1.1830 - val_accuracy: 0.6960 - val_f1_score: 0.6233\n",
      "Epoch 36/1000\n",
      "17/17 [==============================] - ETA: 0s - loss: 0.0635 - accuracy: 0.9882 - f1_score: 0.9858\n",
      "Epoch 00036: val_accuracy did not improve from 0.70065\n",
      "17/17 [==============================] - 2s 126ms/step - loss: 0.0635 - accuracy: 0.9882 - f1_score: 0.9858 - val_loss: 1.2030 - val_accuracy: 0.6937 - val_f1_score: 0.6179\n",
      "Epoch 37/1000\n",
      "17/17 [==============================] - ETA: 0s - loss: 0.0618 - accuracy: 0.9902 - f1_score: 0.9877\n",
      "Epoch 00037: val_accuracy improved from 0.70065 to 0.70111, saving model to ./model_save/cnn_model_small/cnn_non_static_adam_w2v/weights.h5\n",
      "17/17 [==============================] - 2s 130ms/step - loss: 0.0618 - accuracy: 0.9902 - f1_score: 0.9877 - val_loss: 1.1968 - val_accuracy: 0.7011 - val_f1_score: 0.6274\n",
      "Epoch 38/1000\n",
      "17/17 [==============================] - ETA: 0s - loss: 0.0534 - accuracy: 0.9912 - f1_score: 0.9887\n",
      "Epoch 00038: val_accuracy did not improve from 0.70111\n",
      "17/17 [==============================] - 2s 124ms/step - loss: 0.0534 - accuracy: 0.9912 - f1_score: 0.9887 - val_loss: 1.2098 - val_accuracy: 0.6965 - val_f1_score: 0.6239\n",
      "Epoch 39/1000\n",
      "17/17 [==============================] - ETA: 0s - loss: 0.0463 - accuracy: 0.9932 - f1_score: 0.9913\n",
      "Epoch 00039: val_accuracy did not improve from 0.70111\n",
      "17/17 [==============================] - 2s 123ms/step - loss: 0.0463 - accuracy: 0.9932 - f1_score: 0.9913 - val_loss: 1.1970 - val_accuracy: 0.7006 - val_f1_score: 0.6293\n",
      "Epoch 40/1000\n",
      "17/17 [==============================] - ETA: 0s - loss: 0.0464 - accuracy: 0.9927 - f1_score: 0.9906\n",
      "Epoch 00040: val_accuracy improved from 0.70111 to 0.70158, saving model to ./model_save/cnn_model_small/cnn_non_static_adam_w2v/weights.h5\n",
      "17/17 [==============================] - 2s 130ms/step - loss: 0.0464 - accuracy: 0.9927 - f1_score: 0.9906 - val_loss: 1.2182 - val_accuracy: 0.7016 - val_f1_score: 0.6312\n",
      "Epoch 41/1000\n",
      "17/17 [==============================] - ETA: 0s - loss: 0.0448 - accuracy: 0.9925 - f1_score: 0.9907\n",
      "Epoch 00041: val_accuracy did not improve from 0.70158\n",
      "17/17 [==============================] - 2s 124ms/step - loss: 0.0448 - accuracy: 0.9925 - f1_score: 0.9907 - val_loss: 1.2085 - val_accuracy: 0.6993 - val_f1_score: 0.6220\n",
      "Epoch 42/1000\n",
      "17/17 [==============================] - ETA: 0s - loss: 0.0413 - accuracy: 0.9932 - f1_score: 0.9912\n",
      "Epoch 00042: val_accuracy improved from 0.70158 to 0.70528, saving model to ./model_save/cnn_model_small/cnn_non_static_adam_w2v/weights.h5\n",
      "17/17 [==============================] - 2s 131ms/step - loss: 0.0413 - accuracy: 0.9932 - f1_score: 0.9912 - val_loss: 1.2196 - val_accuracy: 0.7053 - val_f1_score: 0.6322\n",
      "Epoch 43/1000\n",
      "17/17 [==============================] - ETA: 0s - loss: 0.0379 - accuracy: 0.9941 - f1_score: 0.9926\n",
      "Epoch 00043: val_accuracy did not improve from 0.70528\n",
      "17/17 [==============================] - 2s 124ms/step - loss: 0.0379 - accuracy: 0.9941 - f1_score: 0.9926 - val_loss: 1.2214 - val_accuracy: 0.7034 - val_f1_score: 0.6255\n",
      "Epoch 44/1000\n",
      "17/17 [==============================] - ETA: 0s - loss: 0.0340 - accuracy: 0.9948 - f1_score: 0.9933\n",
      "Epoch 00044: val_accuracy did not improve from 0.70528\n",
      "17/17 [==============================] - 2s 125ms/step - loss: 0.0340 - accuracy: 0.9948 - f1_score: 0.9933 - val_loss: 1.2087 - val_accuracy: 0.7048 - val_f1_score: 0.6367\n",
      "Epoch 45/1000\n",
      "17/17 [==============================] - ETA: 0s - loss: 0.0333 - accuracy: 0.9946 - f1_score: 0.9926\n",
      "Epoch 00045: val_accuracy improved from 0.70528 to 0.70667, saving model to ./model_save/cnn_model_small/cnn_non_static_adam_w2v/weights.h5\n",
      "17/17 [==============================] - 2s 133ms/step - loss: 0.0333 - accuracy: 0.9946 - f1_score: 0.9926 - val_loss: 1.2248 - val_accuracy: 0.7067 - val_f1_score: 0.6393\n",
      "Epoch 46/1000\n",
      "17/17 [==============================] - ETA: 0s - loss: 0.0311 - accuracy: 0.9950 - f1_score: 0.9936\n",
      "Epoch 00046: val_accuracy improved from 0.70667 to 0.70806, saving model to ./model_save/cnn_model_small/cnn_non_static_adam_w2v/weights.h5\n",
      "17/17 [==============================] - 2s 131ms/step - loss: 0.0311 - accuracy: 0.9950 - f1_score: 0.9936 - val_loss: 1.2292 - val_accuracy: 0.7081 - val_f1_score: 0.6388\n",
      "Epoch 47/1000\n",
      "17/17 [==============================] - ETA: 0s - loss: 0.0313 - accuracy: 0.9947 - f1_score: 0.9932\n",
      "Epoch 00047: val_accuracy did not improve from 0.70806\n",
      "17/17 [==============================] - 2s 123ms/step - loss: 0.0313 - accuracy: 0.9947 - f1_score: 0.9932 - val_loss: 1.2368 - val_accuracy: 0.7006 - val_f1_score: 0.6264\n",
      "Epoch 48/1000\n",
      "17/17 [==============================] - ETA: 0s - loss: 0.0274 - accuracy: 0.9955 - f1_score: 0.9942\n",
      "Epoch 00048: val_accuracy did not improve from 0.70806\n",
      "17/17 [==============================] - 2s 122ms/step - loss: 0.0274 - accuracy: 0.9955 - f1_score: 0.9942 - val_loss: 1.2267 - val_accuracy: 0.7057 - val_f1_score: 0.6310\n",
      "Epoch 49/1000\n",
      "17/17 [==============================] - ETA: 0s - loss: 0.0269 - accuracy: 0.9964 - f1_score: 0.9954\n",
      "Epoch 00049: val_accuracy did not improve from 0.70806\n",
      "17/17 [==============================] - 2s 122ms/step - loss: 0.0269 - accuracy: 0.9964 - f1_score: 0.9954 - val_loss: 1.2526 - val_accuracy: 0.7057 - val_f1_score: 0.6330\n",
      "Epoch 50/1000\n",
      "17/17 [==============================] - ETA: 0s - loss: 0.0272 - accuracy: 0.9951 - f1_score: 0.9942\n",
      "Epoch 00050: val_accuracy did not improve from 0.70806\n",
      "17/17 [==============================] - 2s 122ms/step - loss: 0.0272 - accuracy: 0.9951 - f1_score: 0.9942 - val_loss: 1.2519 - val_accuracy: 0.7053 - val_f1_score: 0.6328\n",
      "Epoch 51/1000\n",
      "17/17 [==============================] - ETA: 0s - loss: 0.0245 - accuracy: 0.9965 - f1_score: 0.9956\n",
      "Epoch 00051: val_accuracy did not improve from 0.70806\n",
      "17/17 [==============================] - 2s 121ms/step - loss: 0.0245 - accuracy: 0.9965 - f1_score: 0.9956 - val_loss: 1.2599 - val_accuracy: 0.7076 - val_f1_score: 0.6323\n",
      "Epoch 52/1000\n",
      "17/17 [==============================] - ETA: 0s - loss: 0.0214 - accuracy: 0.9966 - f1_score: 0.9960\n",
      "Epoch 00052: val_accuracy improved from 0.70806 to 0.70899, saving model to ./model_save/cnn_model_small/cnn_non_static_adam_w2v/weights.h5\n",
      "17/17 [==============================] - 3s 157ms/step - loss: 0.0214 - accuracy: 0.9966 - f1_score: 0.9960 - val_loss: 1.2537 - val_accuracy: 0.7090 - val_f1_score: 0.6394\n",
      "Epoch 53/1000\n",
      "17/17 [==============================] - ETA: 0s - loss: 0.0234 - accuracy: 0.9962 - f1_score: 0.9953\n",
      "Epoch 00053: val_accuracy improved from 0.70899 to 0.71223, saving model to ./model_save/cnn_model_small/cnn_non_static_adam_w2v/weights.h5\n",
      "17/17 [==============================] - 2s 130ms/step - loss: 0.0234 - accuracy: 0.9962 - f1_score: 0.9953 - val_loss: 1.2589 - val_accuracy: 0.7122 - val_f1_score: 0.6418\n",
      "Epoch 54/1000\n",
      "17/17 [==============================] - ETA: 0s - loss: 0.0231 - accuracy: 0.9962 - f1_score: 0.9954\n",
      "Epoch 00054: val_accuracy improved from 0.71223 to 0.71316, saving model to ./model_save/cnn_model_small/cnn_non_static_adam_w2v/weights.h5\n",
      "17/17 [==============================] - 2s 133ms/step - loss: 0.0231 - accuracy: 0.9962 - f1_score: 0.9954 - val_loss: 1.2860 - val_accuracy: 0.7132 - val_f1_score: 0.6410\n",
      "Epoch 55/1000\n",
      "17/17 [==============================] - ETA: 0s - loss: 0.0203 - accuracy: 0.9966 - f1_score: 0.9958\n",
      "Epoch 00055: val_accuracy did not improve from 0.71316\n",
      "17/17 [==============================] - 2s 124ms/step - loss: 0.0203 - accuracy: 0.9966 - f1_score: 0.9958 - val_loss: 1.2831 - val_accuracy: 0.7108 - val_f1_score: 0.6386\n",
      "Epoch 56/1000\n",
      "17/17 [==============================] - ETA: 0s - loss: 0.0205 - accuracy: 0.9970 - f1_score: 0.9963\n",
      "Epoch 00056: val_accuracy did not improve from 0.71316\n",
      "17/17 [==============================] - 2s 123ms/step - loss: 0.0205 - accuracy: 0.9970 - f1_score: 0.9963 - val_loss: 1.2782 - val_accuracy: 0.7085 - val_f1_score: 0.6368\n",
      "Epoch 57/1000\n",
      "17/17 [==============================] - ETA: 0s - loss: 0.0183 - accuracy: 0.9966 - f1_score: 0.9956\n",
      "Epoch 00057: val_accuracy did not improve from 0.71316\n",
      "17/17 [==============================] - 2s 123ms/step - loss: 0.0183 - accuracy: 0.9966 - f1_score: 0.9956 - val_loss: 1.2784 - val_accuracy: 0.7104 - val_f1_score: 0.6361\n",
      "Epoch 58/1000\n",
      "17/17 [==============================] - ETA: 0s - loss: 0.0191 - accuracy: 0.9963 - f1_score: 0.9952\n",
      "Epoch 00058: val_accuracy improved from 0.71316 to 0.71362, saving model to ./model_save/cnn_model_small/cnn_non_static_adam_w2v/weights.h5\n",
      "17/17 [==============================] - 3s 156ms/step - loss: 0.0191 - accuracy: 0.9963 - f1_score: 0.9952 - val_loss: 1.2905 - val_accuracy: 0.7136 - val_f1_score: 0.6391\n",
      "Epoch 59/1000\n",
      "17/17 [==============================] - ETA: 0s - loss: 0.0210 - accuracy: 0.9962 - f1_score: 0.9953\n",
      "Epoch 00059: val_accuracy improved from 0.71362 to 0.71733, saving model to ./model_save/cnn_model_small/cnn_non_static_adam_w2v/weights.h5\n",
      "17/17 [==============================] - 2s 132ms/step - loss: 0.0210 - accuracy: 0.9962 - f1_score: 0.9953 - val_loss: 1.2733 - val_accuracy: 0.7173 - val_f1_score: 0.6488\n",
      "Epoch 60/1000\n",
      "17/17 [==============================] - ETA: 0s - loss: 0.0209 - accuracy: 0.9963 - f1_score: 0.9954\n",
      "Epoch 00060: val_accuracy did not improve from 0.71733\n",
      "17/17 [==============================] - 2s 125ms/step - loss: 0.0209 - accuracy: 0.9963 - f1_score: 0.9954 - val_loss: 1.3164 - val_accuracy: 0.7030 - val_f1_score: 0.6311\n",
      "Epoch 61/1000\n",
      "17/17 [==============================] - ETA: 0s - loss: 0.0183 - accuracy: 0.9968 - f1_score: 0.9956\n",
      "Epoch 00061: val_accuracy did not improve from 0.71733\n",
      "17/17 [==============================] - 2s 125ms/step - loss: 0.0183 - accuracy: 0.9968 - f1_score: 0.9956 - val_loss: 1.3108 - val_accuracy: 0.7127 - val_f1_score: 0.6379\n",
      "Epoch 62/1000\n",
      "17/17 [==============================] - ETA: 0s - loss: 0.0165 - accuracy: 0.9976 - f1_score: 0.9969\n",
      "Epoch 00062: val_accuracy did not improve from 0.71733\n",
      "17/17 [==============================] - 2s 123ms/step - loss: 0.0165 - accuracy: 0.9976 - f1_score: 0.9969 - val_loss: 1.3077 - val_accuracy: 0.7108 - val_f1_score: 0.6356\n",
      "Epoch 63/1000\n",
      "17/17 [==============================] - ETA: 0s - loss: 0.0162 - accuracy: 0.9969 - f1_score: 0.9955\n",
      "Epoch 00063: val_accuracy did not improve from 0.71733\n",
      "17/17 [==============================] - 2s 125ms/step - loss: 0.0162 - accuracy: 0.9969 - f1_score: 0.9955 - val_loss: 1.3207 - val_accuracy: 0.7136 - val_f1_score: 0.6446\n",
      "Epoch 64/1000\n",
      "17/17 [==============================] - ETA: 0s - loss: 0.0141 - accuracy: 0.9983 - f1_score: 0.9977\n",
      "Epoch 00064: val_accuracy did not improve from 0.71733\n",
      "17/17 [==============================] - 2s 123ms/step - loss: 0.0141 - accuracy: 0.9983 - f1_score: 0.9977 - val_loss: 1.3271 - val_accuracy: 0.7030 - val_f1_score: 0.6312\n",
      "Epoch 65/1000\n",
      "17/17 [==============================] - ETA: 0s - loss: 0.0152 - accuracy: 0.9969 - f1_score: 0.9958\n",
      "Epoch 00065: val_accuracy did not improve from 0.71733\n",
      "17/17 [==============================] - 2s 126ms/step - loss: 0.0152 - accuracy: 0.9969 - f1_score: 0.9958 - val_loss: 1.3134 - val_accuracy: 0.7169 - val_f1_score: 0.6478\n",
      "Epoch 66/1000\n",
      "17/17 [==============================] - ETA: 0s - loss: 0.0140 - accuracy: 0.9976 - f1_score: 0.9965\n",
      "Epoch 00066: val_accuracy did not improve from 0.71733\n",
      "17/17 [==============================] - 2s 124ms/step - loss: 0.0140 - accuracy: 0.9976 - f1_score: 0.9965 - val_loss: 1.3195 - val_accuracy: 0.7136 - val_f1_score: 0.6462\n",
      "Epoch 67/1000\n",
      "17/17 [==============================] - ETA: 0s - loss: 0.0120 - accuracy: 0.9985 - f1_score: 0.9979\n",
      "Epoch 00067: val_accuracy did not improve from 0.71733\n",
      "17/17 [==============================] - 2s 122ms/step - loss: 0.0120 - accuracy: 0.9985 - f1_score: 0.9979 - val_loss: 1.3342 - val_accuracy: 0.7108 - val_f1_score: 0.6440\n",
      "Epoch 68/1000\n",
      "17/17 [==============================] - ETA: 0s - loss: 0.0120 - accuracy: 0.9979 - f1_score: 0.9974\n",
      "Epoch 00068: val_accuracy did not improve from 0.71733\n",
      "17/17 [==============================] - 2s 123ms/step - loss: 0.0120 - accuracy: 0.9979 - f1_score: 0.9974 - val_loss: 1.3360 - val_accuracy: 0.7118 - val_f1_score: 0.6403\n",
      "Epoch 69/1000\n",
      "17/17 [==============================] - ETA: 0s - loss: 0.0132 - accuracy: 0.9975 - f1_score: 0.9968\n",
      "Epoch 00069: val_accuracy improved from 0.71733 to 0.71779, saving model to ./model_save/cnn_model_small/cnn_non_static_adam_w2v/weights.h5\n",
      "17/17 [==============================] - 3s 157ms/step - loss: 0.0132 - accuracy: 0.9975 - f1_score: 0.9968 - val_loss: 1.3232 - val_accuracy: 0.7178 - val_f1_score: 0.6431\n",
      "Epoch 70/1000\n",
      "17/17 [==============================] - ETA: 0s - loss: 0.0128 - accuracy: 0.9978 - f1_score: 0.9970\n",
      "Epoch 00070: val_accuracy did not improve from 0.71779\n",
      "17/17 [==============================] - 2s 124ms/step - loss: 0.0128 - accuracy: 0.9978 - f1_score: 0.9970 - val_loss: 1.3487 - val_accuracy: 0.7122 - val_f1_score: 0.6421\n",
      "Epoch 71/1000\n",
      "17/17 [==============================] - ETA: 0s - loss: 0.0150 - accuracy: 0.9971 - f1_score: 0.9964\n",
      "Epoch 00071: val_accuracy did not improve from 0.71779\n",
      "17/17 [==============================] - 2s 125ms/step - loss: 0.0150 - accuracy: 0.9971 - f1_score: 0.9964 - val_loss: 1.3386 - val_accuracy: 0.7150 - val_f1_score: 0.6437\n",
      "Epoch 72/1000\n",
      "17/17 [==============================] - ETA: 0s - loss: 0.0150 - accuracy: 0.9973 - f1_score: 0.9967\n",
      "Epoch 00072: val_accuracy did not improve from 0.71779\n",
      "17/17 [==============================] - 2s 124ms/step - loss: 0.0150 - accuracy: 0.9973 - f1_score: 0.9967 - val_loss: 1.3640 - val_accuracy: 0.7141 - val_f1_score: 0.6436\n",
      "Epoch 73/1000\n",
      "17/17 [==============================] - ETA: 0s - loss: 0.0118 - accuracy: 0.9983 - f1_score: 0.9976\n",
      "Epoch 00073: val_accuracy did not improve from 0.71779\n",
      "17/17 [==============================] - 2s 125ms/step - loss: 0.0118 - accuracy: 0.9983 - f1_score: 0.9976 - val_loss: 1.3412 - val_accuracy: 0.7178 - val_f1_score: 0.6476\n",
      "Epoch 74/1000\n",
      "17/17 [==============================] - ETA: 0s - loss: 0.0115 - accuracy: 0.9981 - f1_score: 0.9976\n",
      "Epoch 00074: val_accuracy did not improve from 0.71779\n",
      "17/17 [==============================] - 2s 127ms/step - loss: 0.0115 - accuracy: 0.9981 - f1_score: 0.9976 - val_loss: 1.3589 - val_accuracy: 0.7164 - val_f1_score: 0.6423\n",
      "Epoch 75/1000\n",
      "17/17 [==============================] - ETA: 0s - loss: 0.0101 - accuracy: 0.9985 - f1_score: 0.9981\n",
      "Epoch 00075: val_accuracy did not improve from 0.71779\n",
      "17/17 [==============================] - 2s 126ms/step - loss: 0.0101 - accuracy: 0.9985 - f1_score: 0.9981 - val_loss: 1.3461 - val_accuracy: 0.7164 - val_f1_score: 0.6467\n",
      "Epoch 76/1000\n",
      "17/17 [==============================] - ETA: 0s - loss: 0.0084 - accuracy: 0.9986 - f1_score: 0.9981\n",
      "Epoch 00076: val_accuracy improved from 0.71779 to 0.71965, saving model to ./model_save/cnn_model_small/cnn_non_static_adam_w2v/weights.h5\n",
      "17/17 [==============================] - 3s 161ms/step - loss: 0.0084 - accuracy: 0.9986 - f1_score: 0.9981 - val_loss: 1.3567 - val_accuracy: 0.7196 - val_f1_score: 0.6470\n",
      "Epoch 77/1000\n",
      "17/17 [==============================] - ETA: 0s - loss: 0.0104 - accuracy: 0.9984 - f1_score: 0.9977\n",
      "Epoch 00077: val_accuracy did not improve from 0.71965\n",
      "17/17 [==============================] - 2s 126ms/step - loss: 0.0104 - accuracy: 0.9984 - f1_score: 0.9977 - val_loss: 1.3573 - val_accuracy: 0.7183 - val_f1_score: 0.6484\n",
      "Epoch 78/1000\n",
      "17/17 [==============================] - ETA: 0s - loss: 0.0099 - accuracy: 0.9986 - f1_score: 0.9980\n",
      "Epoch 00078: val_accuracy did not improve from 0.71965\n",
      "17/17 [==============================] - 2s 125ms/step - loss: 0.0099 - accuracy: 0.9986 - f1_score: 0.9980 - val_loss: 1.3625 - val_accuracy: 0.7183 - val_f1_score: 0.6486\n",
      "Epoch 79/1000\n",
      "17/17 [==============================] - ETA: 0s - loss: 0.0100 - accuracy: 0.9983 - f1_score: 0.9975\n",
      "Epoch 00079: val_accuracy did not improve from 0.71965\n",
      "17/17 [==============================] - 2s 121ms/step - loss: 0.0100 - accuracy: 0.9983 - f1_score: 0.9975 - val_loss: 1.3800 - val_accuracy: 0.7150 - val_f1_score: 0.6412\n",
      "Epoch 80/1000\n",
      "17/17 [==============================] - ETA: 0s - loss: 0.0103 - accuracy: 0.9981 - f1_score: 0.9972\n",
      "Epoch 00080: val_accuracy did not improve from 0.71965\n",
      "17/17 [==============================] - 2s 126ms/step - loss: 0.0103 - accuracy: 0.9981 - f1_score: 0.9972 - val_loss: 1.3596 - val_accuracy: 0.7122 - val_f1_score: 0.6418\n",
      "Epoch 81/1000\n",
      "17/17 [==============================] - ETA: 0s - loss: 0.0102 - accuracy: 0.9981 - f1_score: 0.9973\n",
      "Epoch 00081: val_accuracy did not improve from 0.71965\n",
      "17/17 [==============================] - 2s 124ms/step - loss: 0.0102 - accuracy: 0.9981 - f1_score: 0.9973 - val_loss: 1.3738 - val_accuracy: 0.7155 - val_f1_score: 0.6437\n",
      "Epoch 82/1000\n",
      "17/17 [==============================] - ETA: 0s - loss: 0.0096 - accuracy: 0.9985 - f1_score: 0.9978\n",
      "Epoch 00082: val_accuracy did not improve from 0.71965\n",
      "17/17 [==============================] - 2s 123ms/step - loss: 0.0096 - accuracy: 0.9985 - f1_score: 0.9978 - val_loss: 1.3790 - val_accuracy: 0.7150 - val_f1_score: 0.6391\n",
      "Epoch 83/1000\n",
      "17/17 [==============================] - ETA: 0s - loss: 0.0086 - accuracy: 0.9986 - f1_score: 0.9980\n",
      "Epoch 00083: val_accuracy did not improve from 0.71965\n",
      "17/17 [==============================] - 2s 122ms/step - loss: 0.0086 - accuracy: 0.9986 - f1_score: 0.9980 - val_loss: 1.3714 - val_accuracy: 0.7146 - val_f1_score: 0.6440\n",
      "Epoch 84/1000\n",
      "17/17 [==============================] - ETA: 0s - loss: 0.0071 - accuracy: 0.9991 - f1_score: 0.9987\n",
      "Epoch 00084: val_accuracy did not improve from 0.71965\n",
      "17/17 [==============================] - 2s 124ms/step - loss: 0.0071 - accuracy: 0.9991 - f1_score: 0.9987 - val_loss: 1.3755 - val_accuracy: 0.7155 - val_f1_score: 0.6436\n",
      "Epoch 85/1000\n",
      "17/17 [==============================] - ETA: 0s - loss: 0.0070 - accuracy: 0.9991 - f1_score: 0.9988\n",
      "Epoch 00085: val_accuracy did not improve from 0.71965\n",
      "17/17 [==============================] - 2s 125ms/step - loss: 0.0070 - accuracy: 0.9991 - f1_score: 0.9988 - val_loss: 1.3738 - val_accuracy: 0.7178 - val_f1_score: 0.6478\n",
      "Epoch 86/1000\n",
      "17/17 [==============================] - ETA: 0s - loss: 0.0070 - accuracy: 0.9992 - f1_score: 0.9990\n",
      "Epoch 00086: val_accuracy did not improve from 0.71965\n",
      "17/17 [==============================] - 2s 122ms/step - loss: 0.0070 - accuracy: 0.9992 - f1_score: 0.9990 - val_loss: 1.3792 - val_accuracy: 0.7146 - val_f1_score: 0.6441\n"
     ]
    }
   ],
   "source": [
    "model, histroy = cnn_train_non_static_w2v.train(train_X, train_YS)"
   ]
  },
  {
   "cell_type": "code",
   "execution_count": 14,
   "metadata": {
    "colab": {
     "base_uri": "https://localhost:8080/",
     "height": 803
    },
    "colab_type": "code",
    "executionInfo": {
     "elapsed": 203498,
     "status": "ok",
     "timestamp": 1591104828707,
     "user": {
      "displayName": "이명훈",
      "photoUrl": "",
      "userId": "07271482681718000858"
     },
     "user_tz": -540
    },
    "id": "42rZ42IAF6gs",
    "outputId": "c545e63d-e9ab-431a-a08b-f20355dc5af5"
   },
   "outputs": [
    {
     "data": {
      "image/png": "[encoded data removed]",
      "text/plain": [
       "<Figure size 432x288 with 1 Axes>"
      ]
     },
     "metadata": {
      "needs_background": "light",
      "tags": []
     },
     "output_type": "display_data"
    },
    {
     "data": {
      "image/png": "[encoded data removed]",
      "text/plain": [
       "<Figure size 432x288 with 1 Axes>"
      ]
     },
     "metadata": {
      "needs_background": "light",
      "tags": []
     },
     "output_type": "display_data"
    },
    {
     "data": {
      "image/png": "[encoded data removed]",
      "text/plain": [
       "<Figure size 432x288 with 1 Axes>"
      ]
     },
     "metadata": {
      "needs_background": "light",
      "tags": []
     },
     "output_type": "display_data"
    }
   ],
   "source": [
    "cnn_train_non_static_w2v.train_plot(model, histroy)"
   ]
  },
  {
   "cell_type": "code",
   "execution_count": 15,
   "metadata": {
    "colab": {
     "base_uri": "https://localhost:8080/",
     "height": 34
    },
    "colab_type": "code",
    "executionInfo": {
     "elapsed": 205574,
     "status": "ok",
     "timestamp": 1591104833323,
     "user": {
      "displayName": "이명훈",
      "photoUrl": "",
      "userId": "07271482681718000858"
     },
     "user_tz": -540
    },
    "id": "K1gYK5dkF6gu",
    "outputId": "485fdad8-2a9b-48b2-b4c7-2e01b91c288a"
   },
   "outputs": [
    {
     "name": "stdout",
     "output_type": "stream",
     "text": [
      "145/145 [==============================] - 1s 5ms/step - loss: 1.3026 - accuracy: 0.7260 - f1_score: 0.6748\n"
     ]
    }
   ],
   "source": [
    "cnn_train_non_static_w2v.evaluation(model, test_X, test_YS)"
   ]
  }
 ],
 "metadata": {
  "accelerator": "GPU",
  "colab": {
   "collapsed_sections": [],
   "machine_shape": "hm",
   "name": "cnn_train_small.ipynb",
   "provenance": []
  },
  "kernelspec": {
   "display_name": "deeplearning",
   "language": "python",
   "name": "deeplearning-gpu"
  },
  "language_info": {
   "codemirror_mode": {
    "name": "ipython",
    "version": 3
   },
   "file_extension": ".py",
   "mimetype": "text/x-python",
   "name": "python",
   "nbconvert_exporter": "python",
   "pygments_lexer": "ipython3",
   "version": "3.7.7"
  }
 },
 "nbformat": 4,
 "nbformat_minor": 1
}
